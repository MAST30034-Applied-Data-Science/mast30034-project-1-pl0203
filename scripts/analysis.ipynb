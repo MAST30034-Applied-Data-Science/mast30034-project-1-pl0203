{
 "cells": [
  {
   "cell_type": "markdown",
   "id": "a972ba81-357d-499e-936e-ef654cf7d31b",
   "metadata": {},
   "source": [
    "# "
   ]
  },
  {
   "cell_type": "code",
   "execution_count": 1,
   "id": "8cb7b1ba-8489-4f21-8b68-a6c595ec4317",
   "metadata": {},
   "outputs": [],
   "source": [
    "import pandas as pd\n",
    "import geopandas as gpd\n",
    "from pyspark.sql import SparkSession, functions as F"
   ]
  },
  {
   "cell_type": "code",
   "execution_count": 2,
   "id": "5c6fbabe-5ea0-411f-ad1a-f783d8c50d15",
   "metadata": {},
   "outputs": [
    {
     "name": "stderr",
     "output_type": "stream",
     "text": [
      "/Users/patrick/opt/anaconda3/lib/python3.9/site-packages/IPython/core/interactiveshell.py:3444: DtypeWarning: Columns (6) have mixed types.Specify dtype option on import or set low_memory=False.\n",
      "  exec(code_obj, self.user_global_ns, self.user_ns)\n"
     ]
    }
   ],
   "source": [
    "df = pd.read_csv(\"../data/raw/other_data/sample_data.csv\")"
   ]
  },
  {
   "cell_type": "code",
   "execution_count": 3,
   "id": "3886ea2a-3923-49ee-9a18-5ec6c0fc42e5",
   "metadata": {},
   "outputs": [
    {
     "name": "stdout",
     "output_type": "stream",
     "text": [
      "<class 'pandas.core.frame.DataFrame'>\n",
      "RangeIndex: 1268113 entries, 0 to 1268112\n",
      "Data columns (total 26 columns):\n",
      " #   Column                 Non-Null Count    Dtype  \n",
      "---  ------                 --------------    -----  \n",
      " 0   vendor_id              1268113 non-null  int64  \n",
      " 1   tpep_pickup_datetime   1268113 non-null  object \n",
      " 2   tpep_dropoff_datetime  1268113 non-null  object \n",
      " 3   passenger_count        1261301 non-null  float64\n",
      " 4   trip_distance          1268113 non-null  float64\n",
      " 5   ratecode_id            1261301 non-null  float64\n",
      " 6   store_and_fwd_flag     1261301 non-null  object \n",
      " 7   pu_location_id         1268113 non-null  int64  \n",
      " 8   do_location_id         1268113 non-null  int64  \n",
      " 9   payment_type           1268113 non-null  int64  \n",
      " 10  fare_amount            1268113 non-null  float64\n",
      " 11  extra                  1268113 non-null  float64\n",
      " 12  mta_tax                1268113 non-null  float64\n",
      " 13  tip_amount             1268113 non-null  float64\n",
      " 14  tolls_amount           1268113 non-null  float64\n",
      " 15  improvement_surcharge  1268113 non-null  float64\n",
      " 16  total_amount           1268113 non-null  float64\n",
      " 17  congestion_surcharge   1188244 non-null  float64\n",
      " 18  airport_fee            0 non-null        float64\n",
      " 19  pu_day                 1268113 non-null  int64  \n",
      " 20  pu_month               1268113 non-null  int64  \n",
      " 21  pu_hour                1268113 non-null  int64  \n",
      " 22  is_weekend             1268113 non-null  int64  \n",
      " 23  is_weekday_peak_hour   1268113 non-null  int64  \n",
      " 24  trip_duration          1268113 non-null  int64  \n",
      " 25  is_school_holiday      1268113 non-null  int64  \n",
      "dtypes: float64(12), int64(11), object(3)\n",
      "memory usage: 251.5+ MB\n"
     ]
    }
   ],
   "source": [
    "df.info()"
   ]
  },
  {
   "cell_type": "code",
   "execution_count": null,
   "id": "15f33595-900a-46e5-bb5e-978ad89ee89b",
   "metadata": {},
   "outputs": [],
   "source": []
  }
 ],
 "metadata": {
  "kernelspec": {
   "display_name": "Python 3 (ipykernel)",
   "language": "python",
   "name": "python3"
  },
  "language_info": {
   "codemirror_mode": {
    "name": "ipython",
    "version": 3
   },
   "file_extension": ".py",
   "mimetype": "text/x-python",
   "name": "python",
   "nbconvert_exporter": "python",
   "pygments_lexer": "ipython3",
   "version": "3.9.7"
  }
 },
 "nbformat": 4,
 "nbformat_minor": 5
}
