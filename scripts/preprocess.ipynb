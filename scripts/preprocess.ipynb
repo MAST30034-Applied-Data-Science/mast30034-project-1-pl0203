{
 "cells": [
  {
   "cell_type": "markdown",
   "id": "227686a2-1bea-4ef8-a425-a45510dc2334",
   "metadata": {
    "tags": []
   },
   "source": [
    "# High-level Preprocessing Steps:\n",
    "    1. Change column names\n",
    "    2. check for null values\n",
    "    3. create features: day, hour, is_school_holiday, is_not_working_day, precipitation, snow_depth, is_airport"
   ]
  },
  {
   "cell_type": "code",
   "execution_count": 1,
   "id": "6d6f6422-1850-425e-9ca6-b0be979cd486",
   "metadata": {},
   "outputs": [],
   "source": [
    "from pyspark.sql.functions import to_timestamp, date_format, hour\n",
    "from pyspark.sql.functions import isnan, when, count, col\n",
    "from pyspark.sql import SparkSession, functions as F"
   ]
  },
  {
   "cell_type": "code",
   "execution_count": 2,
   "id": "25c93866-aa88-45c7-ba9d-2ae031332f53",
   "metadata": {},
   "outputs": [
    {
     "name": "stderr",
     "output_type": "stream",
     "text": [
      "Setting default log level to \"WARN\".\n",
      "To adjust logging level use sc.setLogLevel(newLevel). For SparkR, use setLogLevel(newLevel).\n"
     ]
    },
    {
     "name": "stdout",
     "output_type": "stream",
     "text": [
      "22/08/14 01:30:20 WARN NativeCodeLoader: Unable to load native-hadoop library for your platform... using builtin-java classes where applicable\n"
     ]
    }
   ],
   "source": [
    "# Create a spark session (which will run spark jobs)\n",
    "spark = (\n",
    "    SparkSession.builder.appName(\"Preprocess Data\")\n",
    "    .config(\"spark.sql.repl.eagerEval.enabled\", True) \n",
    "    .config(\"spark.sql.parquet.cacheMetadata\", \"true\")\n",
    "    .getOrCreate()\n",
    ")"
   ]
  },
  {
   "cell_type": "code",
   "execution_count": 3,
   "id": "c0914a91-99b8-44df-83f5-46227825ec1a",
   "metadata": {},
   "outputs": [
    {
     "name": "stderr",
     "output_type": "stream",
     "text": [
      "                                                                                \r"
     ]
    }
   ],
   "source": [
    "sdf = spark.read.parquet('../data/raw/tlc_data')"
   ]
  },
  {
   "cell_type": "code",
   "execution_count": 4,
   "id": "8b9ef685-ad4a-44b6-af6a-3bdb35605f48",
   "metadata": {},
   "outputs": [
    {
     "name": "stdout",
     "output_type": "stream",
     "text": [
      "-RECORD 0------------------------------------\n",
      " VendorID              | 1                   \n",
      " tpep_pickup_datetime  | 2019-03-01 11:24:41 \n",
      " tpep_dropoff_datetime | 2019-03-01 11:25:31 \n",
      " passenger_count       | 1.0                 \n",
      " trip_distance         | 0.0                 \n",
      " RatecodeID            | 1.0                 \n",
      " store_and_fwd_flag    | N                   \n",
      " PULocationID          | 145                 \n",
      " DOLocationID          | 145                 \n",
      " payment_type          | 2                   \n",
      " fare_amount           | 2.5                 \n",
      " extra                 | 0.5                 \n",
      " mta_tax               | 0.5                 \n",
      " tip_amount            | 0.0                 \n",
      " tolls_amount          | 0.0                 \n",
      " improvement_surcharge | 0.3                 \n",
      " total_amount          | 3.8                 \n",
      " congestion_surcharge  | 0.0                 \n",
      " airport_fee           | null                \n",
      "only showing top 1 row\n",
      "\n"
     ]
    },
    {
     "name": "stderr",
     "output_type": "stream",
     "text": [
      "                                                                                \r"
     ]
    }
   ],
   "source": [
    "sdf.show(1, vertical=True, truncate=100)"
   ]
  },
  {
   "cell_type": "code",
   "execution_count": 5,
   "id": "4fb6ab38-78f5-475b-bc9f-faef35644b83",
   "metadata": {},
   "outputs": [
    {
     "name": "stderr",
     "output_type": "stream",
     "text": [
      "[Stage 2:===================>                                      (4 + 4) / 12]\r"
     ]
    },
    {
     "name": "stdout",
     "output_type": "stream",
     "text": [
      "Number of Rows: 84598444\n"
     ]
    },
    {
     "name": "stderr",
     "output_type": "stream",
     "text": [
      "                                                                                \r"
     ]
    }
   ],
   "source": [
    "print(f\"Number of Rows: {sdf.count()}\")"
   ]
  },
  {
   "cell_type": "code",
   "execution_count": 4,
   "id": "df871bdb-5519-4dbe-81b7-3e7411a7d6a9",
   "metadata": {},
   "outputs": [
    {
     "name": "stdout",
     "output_type": "stream",
     "text": [
      "root\n",
      " |-- vendor_id: integer (nullable = true)\n",
      " |-- tpep_pickup_datetime: timestamp (nullable = true)\n",
      " |-- tpep_dropoff_datetime: timestamp (nullable = true)\n",
      " |-- passenger_count: double (nullable = true)\n",
      " |-- trip_distance: double (nullable = true)\n",
      " |-- ratecode_id: double (nullable = true)\n",
      " |-- store_and_fwd_flag: boolean (nullable = true)\n",
      " |-- pu_location_id: integer (nullable = true)\n",
      " |-- do_location_id: integer (nullable = true)\n",
      " |-- payment_type: integer (nullable = true)\n",
      " |-- fare_amount: double (nullable = true)\n",
      " |-- extra: double (nullable = true)\n",
      " |-- mta_tax: double (nullable = true)\n",
      " |-- tip_amount: double (nullable = true)\n",
      " |-- tolls_amount: double (nullable = true)\n",
      " |-- improvement_surcharge: double (nullable = true)\n",
      " |-- total_amount: double (nullable = true)\n",
      " |-- congestion_surcharge: double (nullable = true)\n",
      " |-- airport_fee: integer (nullable = true)\n",
      "\n"
     ]
    }
   ],
   "source": [
    "# renaming a few columns\n",
    "field_name_change = {\"VendorID\": \"vendor_id\", \"RatecodeID\": \"ratecode_id\", \n",
    "                      \"PULocationID\": \"pu_location_id\", \n",
    "                      \"DOLocationID\": \"do_location_id\"}\n",
    "for old, new in field_name_change.items():\n",
    "    sdf = sdf.withColumnRenamed(old, new)\n",
    "    \n",
    "# converting a couple columns to integers and saving it\n",
    "for field in ('pu_location_id', 'do_location_id', 'vendor_id', 'payment_type'):\n",
    "    sdf = sdf.withColumn(\n",
    "        field,\n",
    "        F.col(field).cast('INT')\n",
    "    )\n",
    "    \n",
    "sdf = sdf.withColumn(\n",
    "    'store_and_fwd_flag',\n",
    "    (F.col(\"store_and_fwd_flag\") == 'Y').cast('BOOLEAN')\n",
    ")\n",
    "    \n",
    "sdf.printSchema()"
   ]
  },
  {
   "cell_type": "markdown",
   "id": "43ded502-c307-4618-b7c3-e6b570814cf7",
   "metadata": {},
   "source": [
    "# Null values"
   ]
  },
  {
   "cell_type": "code",
   "execution_count": 7,
   "id": "ce14c9a6-e3f9-4d74-a8b5-db344a4410bc",
   "metadata": {},
   "outputs": [
    {
     "data": {
      "text/plain": [
       "['vendor_id',\n",
       " 'tpep_pickup_datetime',\n",
       " 'tpep_dropoff_datetime',\n",
       " 'passenger_count',\n",
       " 'trip_distance',\n",
       " 'ratecode_id',\n",
       " 'store_and_fwd_flag',\n",
       " 'pu_location_id',\n",
       " 'do_location_id',\n",
       " 'payment_type',\n",
       " 'fare_amount',\n",
       " 'extra',\n",
       " 'mta_tax',\n",
       " 'tip_amount',\n",
       " 'tolls_amount',\n",
       " 'improvement_surcharge',\n",
       " 'total_amount',\n",
       " 'congestion_surcharge',\n",
       " 'airport_fee']"
      ]
     },
     "execution_count": 7,
     "metadata": {},
     "output_type": "execute_result"
    }
   ],
   "source": [
    "sdf.columns"
   ]
  },
  {
   "cell_type": "code",
   "execution_count": 8,
   "id": "bed509fb-7708-4be1-aa0d-2355edb50ddc",
   "metadata": {},
   "outputs": [
    {
     "name": "stderr",
     "output_type": "stream",
     "text": [
      "                                                                                \r"
     ]
    },
    {
     "data": {
      "text/plain": [
       "{'vendor_id': 0,\n",
       " 'tpep_pickup_datetime': 0,\n",
       " 'tpep_dropoff_datetime': 0,\n",
       " 'passenger_count': 444383,\n",
       " 'trip_distance': 0,\n",
       " 'ratecode_id': 444383,\n",
       " 'store_and_fwd_flag': 444383,\n",
       " 'pu_location_id': 0,\n",
       " 'do_location_id': 0,\n",
       " 'payment_type': 0,\n",
       " 'fare_amount': 0,\n",
       " 'extra': 0,\n",
       " 'mta_tax': 0,\n",
       " 'tip_amount': 0,\n",
       " 'tolls_amount': 0,\n",
       " 'improvement_surcharge': 0,\n",
       " 'total_amount': 0,\n",
       " 'congestion_surcharge': 5300601,\n",
       " 'airport_fee': 84598444}"
      ]
     },
     "execution_count": 8,
     "metadata": {},
     "output_type": "execute_result"
    }
   ],
   "source": [
    "Dict_Null = {col:sdf.filter(sdf[col].isNull()).count() for col in sdf.columns}\n",
    "Dict_Null"
   ]
  },
  {
   "cell_type": "code",
   "execution_count": 11,
   "id": "e2173bc5-c219-44e7-a34a-7d6bf5f1dd5c",
   "metadata": {},
   "outputs": [
    {
     "name": "stderr",
     "output_type": "stream",
     "text": [
      "                                                                                \r"
     ]
    },
    {
     "data": {
      "text/html": [
       "<table border='1'>\n",
       "<tr><th>vendor_id</th><th>tpep_pickup_datetime</th><th>tpep_dropoff_datetime</th><th>passenger_count</th><th>trip_distance</th><th>ratecode_id</th><th>store_and_fwd_flag</th><th>pu_location_id</th><th>do_location_id</th><th>payment_type</th><th>fare_amount</th><th>extra</th><th>mta_tax</th><th>tip_amount</th><th>tolls_amount</th><th>improvement_surcharge</th><th>total_amount</th><th>congestion_surcharge</th><th>airport_fee</th></tr>\n",
       "<tr><td>2</td><td>2019-03-01 11:10:00</td><td>2019-03-01 11:49:00</td><td>null</td><td>6.71</td><td>null</td><td>null</td><td>137</td><td>17</td><td>0</td><td>39.45</td><td>2.75</td><td>0.5</td><td>0.0</td><td>0.0</td><td>0.3</td><td>43.0</td><td>null</td><td>null</td></tr>\n",
       "<tr><td>2</td><td>2019-03-01 11:16:40</td><td>2019-03-01 11:37:31</td><td>null</td><td>6.93</td><td>null</td><td>null</td><td>146</td><td>42</td><td>0</td><td>36.45</td><td>2.75</td><td>0.0</td><td>0.0</td><td>0.0</td><td>0.3</td><td>39.5</td><td>null</td><td>null</td></tr>\n",
       "<tr><td>2</td><td>2019-03-01 11:15:00</td><td>2019-03-01 11:50:00</td><td>null</td><td>13.22</td><td>null</td><td>null</td><td>230</td><td>32</td><td>0</td><td>56.45</td><td>2.75</td><td>0.5</td><td>0.0</td><td>0.0</td><td>0.3</td><td>60.0</td><td>null</td><td>null</td></tr>\n",
       "<tr><td>2</td><td>2019-03-01 11:02:20</td><td>2019-03-01 11:33:05</td><td>null</td><td>7.57</td><td>null</td><td>null</td><td>226</td><td>63</td><td>0</td><td>54.25</td><td>2.75</td><td>0.0</td><td>0.0</td><td>0.0</td><td>0.3</td><td>57.3</td><td>null</td><td>null</td></tr>\n",
       "<tr><td>2</td><td>2019-03-01 11:24:16</td><td>2019-03-01 11:40:30</td><td>null</td><td>6.24</td><td>null</td><td>null</td><td>230</td><td>41</td><td>0</td><td>32.95</td><td>2.75</td><td>0.0</td><td>0.0</td><td>0.0</td><td>0.3</td><td>36.0</td><td>null</td><td>null</td></tr>\n",
       "</table>\n"
      ],
      "text/plain": [
       "+---------+--------------------+---------------------+---------------+-------------+-----------+------------------+--------------+--------------+------------+-----------+-----+-------+----------+------------+---------------------+------------+--------------------+-----------+\n",
       "|vendor_id|tpep_pickup_datetime|tpep_dropoff_datetime|passenger_count|trip_distance|ratecode_id|store_and_fwd_flag|pu_location_id|do_location_id|payment_type|fare_amount|extra|mta_tax|tip_amount|tolls_amount|improvement_surcharge|total_amount|congestion_surcharge|airport_fee|\n",
       "+---------+--------------------+---------------------+---------------+-------------+-----------+------------------+--------------+--------------+------------+-----------+-----+-------+----------+------------+---------------------+------------+--------------------+-----------+\n",
       "|        2| 2019-03-01 11:10:00|  2019-03-01 11:49:00|           null|         6.71|       null|              null|           137|            17|           0|      39.45| 2.75|    0.5|       0.0|         0.0|                  0.3|        43.0|                null|       null|\n",
       "|        2| 2019-03-01 11:16:40|  2019-03-01 11:37:31|           null|         6.93|       null|              null|           146|            42|           0|      36.45| 2.75|    0.0|       0.0|         0.0|                  0.3|        39.5|                null|       null|\n",
       "|        2| 2019-03-01 11:15:00|  2019-03-01 11:50:00|           null|        13.22|       null|              null|           230|            32|           0|      56.45| 2.75|    0.5|       0.0|         0.0|                  0.3|        60.0|                null|       null|\n",
       "|        2| 2019-03-01 11:02:20|  2019-03-01 11:33:05|           null|         7.57|       null|              null|           226|            63|           0|      54.25| 2.75|    0.0|       0.0|         0.0|                  0.3|        57.3|                null|       null|\n",
       "|        2| 2019-03-01 11:24:16|  2019-03-01 11:40:30|           null|         6.24|       null|              null|           230|            41|           0|      32.95| 2.75|    0.0|       0.0|         0.0|                  0.3|        36.0|                null|       null|\n",
       "+---------+--------------------+---------------------+---------------+-------------+-----------+------------------+--------------+--------------+------------+-----------+-----+-------+----------+------------+---------------------+------------+--------------------+-----------+"
      ]
     },
     "execution_count": 11,
     "metadata": {},
     "output_type": "execute_result"
    }
   ],
   "source": [
    "sdf.filter(F.col('ratecode_id').isNull()).limit(5)"
   ]
  },
  {
   "cell_type": "markdown",
   "id": "629e7e8a-d908-4bb4-aa4b-f3e665dd6755",
   "metadata": {},
   "source": [
    "## Feature Engineering"
   ]
  },
  {
   "cell_type": "code",
   "execution_count": 5,
   "id": "db309377-aefa-4eef-ba46-2887d4978a41",
   "metadata": {},
   "outputs": [],
   "source": [
    "# create new column pickup day\n",
    "sdf = sdf.withColumn(\"tpep_pickup_datetime\",\n",
    "                   to_timestamp(col(\"tpep_pickup_datetime\"))) \\\n",
    "         .withColumn(\"pu_day\", date_format(col(\"tpep_pickup_datetime\"), \"d\"))\n",
    "\n",
    "# create new column pickup month\n",
    "sdf = sdf.withColumn(\"tpep_pickup_datetime\",\n",
    "                   to_timestamp(col(\"tpep_pickup_datetime\"))) \\\n",
    "         .withColumn(\"pu_month\", date_format(col(\"tpep_pickup_datetime\"), \"m\"))\n",
    "\n",
    "# create new column pickup hour\n",
    "sdf = sdf.withColumn('pu_hour', hour(sdf.tpep_pickup_datetime))\n",
    "\n",
    "# create new helper column to get day of the week\n",
    "sdf = sdf.withColumn(\"tpep_pickup_datetime\",\n",
    "                   to_timestamp(col(\"tpep_pickup_datetime\"))) \\\n",
    "         .withColumn(\"weekday_abb\", date_format(col(\"tpep_pickup_datetime\"), \n",
    "                                                   \"E\"))\n",
    "# create new column to identify weekends\n",
    "sdf = sdf.withColumn(\n",
    "    'is_weekend',\n",
    "    # when we have non-zero distance/passenger/total amount then True\n",
    "    # else False\n",
    "    F.when(\n",
    "        (F.col('weekday_abb').isin([\"Sun\", \"Sat\"])),\n",
    "        1\n",
    "    ).otherwise(0)\n",
    ")\n",
    "sdf = sdf.drop(col(\"weekday_abb\"))\n",
    "\n",
    "# create new column to identify if trip is during weekday peak hours\n",
    "sdf = sdf.withColumn(\n",
    "    'is_weekday_peak_hour',\n",
    "    # when we have non-zero distance/passenger/total amount then True\n",
    "    # else False\n",
    "    F.when(\n",
    "        (F.col('is_weekend') == 0)\n",
    "        & (F.col('pu_hour').isin([6, 7, 8, 9, 10,\n",
    "                                  16, 17, 18, 19, 20])),\n",
    "        1\n",
    "    ).otherwise(0)\n",
    ")\n",
    "\n",
    "# create new column to calculate trip duration in seconds\n",
    "sdf = sdf.withColumn(\n",
    "    'trip_duration',\n",
    "    (col(\"tpep_dropoff_datetime\").cast(\"long\") - \n",
    "     col('tpep_pickup_datetime').cast(\"long\")))\n",
    "\n",
    "         "
   ]
  },
  {
   "cell_type": "code",
   "execution_count": 6,
   "id": "a4fb27e7-0557-4812-b21a-3a70d001ddd0",
   "metadata": {},
   "outputs": [],
   "source": [
    "import pandas as pd\n",
    "from datetime import date\n",
    "from pyspark.sql.functions import to_date\n",
    "\n",
    "sch_hol = pd.read_csv(\"../data/raw/other_data/nyc_school_holiday.csv\", sep=\";\")\n",
    "sch_hol['DATE'] = pd.to_datetime(sch_hol['DATE'], format='%d/%m/%y')\n",
    "sch_hol_date = sch_hol['DATE'].dt.date.tolist()\n",
    "\n",
    "# create helper column pickup date format\n",
    "sdf = sdf.withColumn(\n",
    "    \"pu_date\",\n",
    "    to_date(col(\"tpep_pickup_datetime\"),\"yyyy-MM-dd\")\n",
    ")\n",
    "\n",
    "# create new column to identify if that day is school holiday\n",
    "sdf = sdf.withColumn(\n",
    "    'is_school_holiday',\n",
    "    # when we have non-zero distance/passenger/total amount then True\n",
    "    # else False\n",
    "    F.when(\n",
    "        (F.col('pu_date').isin(sch_hol_date)),\n",
    "        1\n",
    "    ).otherwise(0)\n",
    ")\n",
    "\n",
    "sdf = sdf.drop(col(\"pu_date\"))"
   ]
  },
  {
   "cell_type": "code",
   "execution_count": null,
   "id": "9785c8d5-1b92-47cc-89e4-008d39253dd2",
   "metadata": {},
   "outputs": [
    {
     "name": "stderr",
     "output_type": "stream",
     "text": [
      "                                                                                \r"
     ]
    },
    {
     "data": {
      "text/html": [
       "<table border='1'>\n",
       "<tr><th>vendor_id</th><th>tpep_pickup_datetime</th><th>tpep_dropoff_datetime</th><th>passenger_count</th><th>trip_distance</th><th>ratecode_id</th><th>store_and_fwd_flag</th><th>pu_location_id</th><th>do_location_id</th><th>payment_type</th><th>fare_amount</th><th>extra</th><th>mta_tax</th><th>tip_amount</th><th>tolls_amount</th><th>improvement_surcharge</th><th>total_amount</th><th>congestion_surcharge</th><th>airport_fee</th><th>pu_day</th><th>pu_hour</th><th>is_weekend</th><th>is_weekday_peak_hour</th><th>trip_duration</th><th>pu_month</th><th>pu_date</th><th>is_school_holiday</th></tr>\n",
       "<tr><td>2</td><td>2019-01-20 09:33:34</td><td>2019-01-20 11:09:46</td><td>1.0</td><td>0.0</td><td>5.0</td><td>false</td><td>68</td><td>10</td><td>1</td><td>35.0</td><td>0.0</td><td>0.0</td><td>7.0</td><td>0.0</td><td>0.0</td><td>42.0</td><td>null</td><td>null</td><td>20</td><td>9</td><td>1</td><td>0</td><td>5772</td><td>33</td><td>2019-01-20</td><td>0</td></tr>\n",
       "<tr><td>2</td><td>2019-01-20 00:03:16</td><td>2019-01-20 00:18:22</td><td>1.0</td><td>4.08</td><td>1.0</td><td>false</td><td>79</td><td>263</td><td>1</td><td>14.0</td><td>0.0</td><td>0.5</td><td>2.96</td><td>0.0</td><td>0.3</td><td>17.76</td><td>null</td><td>null</td><td>20</td><td>0</td><td>1</td><td>0</td><td>906</td><td>3</td><td>2019-01-20</td><td>0</td></tr>\n",
       "<tr><td>2</td><td>2019-01-20 00:01:46</td><td>2019-01-20 00:05:03</td><td>1.0</td><td>0.62</td><td>1.0</td><td>false</td><td>237</td><td>237</td><td>2</td><td>4.5</td><td>0.0</td><td>0.5</td><td>0.0</td><td>0.0</td><td>0.3</td><td>5.3</td><td>null</td><td>null</td><td>20</td><td>0</td><td>1</td><td>0</td><td>197</td><td>1</td><td>2019-01-20</td><td>0</td></tr>\n",
       "<tr><td>2</td><td>2019-01-20 00:00:35</td><td>2019-01-20 00:32:44</td><td>1.0</td><td>2.8</td><td>1.0</td><td>false</td><td>186</td><td>239</td><td>2</td><td>20.0</td><td>0.0</td><td>0.5</td><td>0.0</td><td>0.0</td><td>0.3</td><td>20.8</td><td>null</td><td>null</td><td>20</td><td>0</td><td>1</td><td>0</td><td>1929</td><td>0</td><td>2019-01-20</td><td>0</td></tr>\n",
       "<tr><td>2</td><td>2019-01-20 00:01:24</td><td>2019-01-20 00:39:17</td><td>2.0</td><td>4.61</td><td>1.0</td><td>false</td><td>246</td><td>263</td><td>1</td><td>24.5</td><td>0.0</td><td>0.5</td><td>6.32</td><td>0.0</td><td>0.3</td><td>31.62</td><td>null</td><td>null</td><td>20</td><td>0</td><td>1</td><td>0</td><td>2273</td><td>1</td><td>2019-01-20</td><td>0</td></tr>\n",
       "</table>\n"
      ],
      "text/plain": [
       "+---------+--------------------+---------------------+---------------+-------------+-----------+------------------+--------------+--------------+------------+-----------+-----+-------+----------+------------+---------------------+------------+--------------------+-----------+------+-------+----------+--------------------+-------------+--------+----------+-----------------+\n",
       "|vendor_id|tpep_pickup_datetime|tpep_dropoff_datetime|passenger_count|trip_distance|ratecode_id|store_and_fwd_flag|pu_location_id|do_location_id|payment_type|fare_amount|extra|mta_tax|tip_amount|tolls_amount|improvement_surcharge|total_amount|congestion_surcharge|airport_fee|pu_day|pu_hour|is_weekend|is_weekday_peak_hour|trip_duration|pu_month|   pu_date|is_school_holiday|\n",
       "+---------+--------------------+---------------------+---------------+-------------+-----------+------------------+--------------+--------------+------------+-----------+-----+-------+----------+------------+---------------------+------------+--------------------+-----------+------+-------+----------+--------------------+-------------+--------+----------+-----------------+\n",
       "|        2| 2019-01-20 09:33:34|  2019-01-20 11:09:46|            1.0|          0.0|        5.0|             false|            68|            10|           1|       35.0|  0.0|    0.0|       7.0|         0.0|                  0.0|        42.0|                null|       null|    20|      9|         1|                   0|         5772|      33|2019-01-20|                0|\n",
       "|        2| 2019-01-20 00:03:16|  2019-01-20 00:18:22|            1.0|         4.08|        1.0|             false|            79|           263|           1|       14.0|  0.0|    0.5|      2.96|         0.0|                  0.3|       17.76|                null|       null|    20|      0|         1|                   0|          906|       3|2019-01-20|                0|\n",
       "|        2| 2019-01-20 00:01:46|  2019-01-20 00:05:03|            1.0|         0.62|        1.0|             false|           237|           237|           2|        4.5|  0.0|    0.5|       0.0|         0.0|                  0.3|         5.3|                null|       null|    20|      0|         1|                   0|          197|       1|2019-01-20|                0|\n",
       "|        2| 2019-01-20 00:00:35|  2019-01-20 00:32:44|            1.0|          2.8|        1.0|             false|           186|           239|           2|       20.0|  0.0|    0.5|       0.0|         0.0|                  0.3|        20.8|                null|       null|    20|      0|         1|                   0|         1929|       0|2019-01-20|                0|\n",
       "|        2| 2019-01-20 00:01:24|  2019-01-20 00:39:17|            2.0|         4.61|        1.0|             false|           246|           263|           1|       24.5|  0.0|    0.5|      6.32|         0.0|                  0.3|       31.62|                null|       null|    20|      0|         1|                   0|         2273|       1|2019-01-20|                0|\n",
       "+---------+--------------------+---------------------+---------------+-------------+-----------+------------------+--------------+--------------+------------+-----------+-----+-------+----------+------------+---------------------+------------+--------------------+-----------+------+-------+----------+--------------------+-------------+--------+----------+-----------------+"
      ]
     },
     "execution_count": 68,
     "metadata": {},
     "output_type": "execute_result"
    },
    {
     "name": "stderr",
     "output_type": "stream",
     "text": [
      "[Stage 76:>                                                        (0 + 4) / 12]\r"
     ]
    }
   ],
   "source": [
    "sdf.filter(F.col('pu_date') == date(2019, 1, 20)).limit(5)"
   ]
  },
  {
   "cell_type": "code",
   "execution_count": 13,
   "id": "9915c458-6e70-41db-8b7a-29ad218ecf3f",
   "metadata": {},
   "outputs": [
    {
     "name": "stderr",
     "output_type": "stream",
     "text": [
      "                                                                                \r"
     ]
    },
    {
     "data": {
      "text/html": [
       "<table border='1'>\n",
       "<tr><th>vendor_id</th><th>tpep_pickup_datetime</th><th>tpep_dropoff_datetime</th><th>passenger_count</th><th>trip_distance</th><th>ratecode_id</th><th>store_and_fwd_flag</th><th>pu_location_id</th><th>do_location_id</th><th>payment_type</th><th>fare_amount</th><th>extra</th><th>mta_tax</th><th>tip_amount</th><th>tolls_amount</th><th>improvement_surcharge</th><th>total_amount</th><th>congestion_surcharge</th><th>airport_fee</th><th>pu_day</th><th>pu_hour</th><th>is_weekend</th><th>is_weekday_peak_hour</th><th>trip_duration</th></tr>\n",
       "<tr><td>2</td><td>2019-03-01 07:43:33</td><td>2019-03-01 08:03:06</td><td>1.0</td><td>5.72</td><td>1.0</td><td>false</td><td>61</td><td>67</td><td>2</td><td>19.0</td><td>0.5</td><td>0.5</td><td>0.0</td><td>0.0</td><td>0.3</td><td>20.3</td><td>0.0</td><td>null</td><td>1</td><td>7</td><td>0</td><td>1</td><td>1173</td></tr>\n",
       "<tr><td>2</td><td>2019-03-01 07:49:10</td><td>2019-03-01 07:56:25</td><td>2.0</td><td>1.49</td><td>1.0</td><td>false</td><td>234</td><td>114</td><td>1</td><td>7.5</td><td>0.5</td><td>0.5</td><td>2.26</td><td>0.0</td><td>0.3</td><td>13.56</td><td>2.5</td><td>null</td><td>1</td><td>7</td><td>0</td><td>1</td><td>435</td></tr>\n",
       "<tr><td>2</td><td>2019-03-01 07:35:00</td><td>2019-03-02 06:52:08</td><td>1.0</td><td>10.8</td><td>1.0</td><td>false</td><td>132</td><td>121</td><td>2</td><td>30.0</td><td>0.5</td><td>0.5</td><td>0.0</td><td>0.0</td><td>0.3</td><td>31.3</td><td>0.0</td><td>null</td><td>1</td><td>7</td><td>0</td><td>1</td><td>83828</td></tr>\n",
       "<tr><td>2</td><td>2019-03-01 07:31:01</td><td>2019-03-01 07:47:21</td><td>1.0</td><td>7.65</td><td>1.0</td><td>false</td><td>132</td><td>76</td><td>1</td><td>22.5</td><td>0.5</td><td>0.5</td><td>4.76</td><td>0.0</td><td>0.3</td><td>28.56</td><td>0.0</td><td>null</td><td>1</td><td>7</td><td>0</td><td>1</td><td>980</td></tr>\n",
       "<tr><td>2</td><td>2019-03-01 07:26:59</td><td>2019-03-01 07:34:25</td><td>1.0</td><td>31.03</td><td>2.0</td><td>false</td><td>132</td><td>246</td><td>1</td><td>52.0</td><td>0.0</td><td>0.5</td><td>6.11</td><td>5.76</td><td>0.3</td><td>67.17</td><td>2.5</td><td>null</td><td>1</td><td>7</td><td>0</td><td>1</td><td>446</td></tr>\n",
       "</table>\n"
      ],
      "text/plain": [
       "+---------+--------------------+---------------------+---------------+-------------+-----------+------------------+--------------+--------------+------------+-----------+-----+-------+----------+------------+---------------------+------------+--------------------+-----------+------+-------+----------+--------------------+-------------+\n",
       "|vendor_id|tpep_pickup_datetime|tpep_dropoff_datetime|passenger_count|trip_distance|ratecode_id|store_and_fwd_flag|pu_location_id|do_location_id|payment_type|fare_amount|extra|mta_tax|tip_amount|tolls_amount|improvement_surcharge|total_amount|congestion_surcharge|airport_fee|pu_day|pu_hour|is_weekend|is_weekday_peak_hour|trip_duration|\n",
       "+---------+--------------------+---------------------+---------------+-------------+-----------+------------------+--------------+--------------+------------+-----------+-----+-------+----------+------------+---------------------+------------+--------------------+-----------+------+-------+----------+--------------------+-------------+\n",
       "|        2| 2019-03-01 07:43:33|  2019-03-01 08:03:06|            1.0|         5.72|        1.0|             false|            61|            67|           2|       19.0|  0.5|    0.5|       0.0|         0.0|                  0.3|        20.3|                 0.0|       null|     1|      7|         0|                   1|         1173|\n",
       "|        2| 2019-03-01 07:49:10|  2019-03-01 07:56:25|            2.0|         1.49|        1.0|             false|           234|           114|           1|        7.5|  0.5|    0.5|      2.26|         0.0|                  0.3|       13.56|                 2.5|       null|     1|      7|         0|                   1|          435|\n",
       "|        2| 2019-03-01 07:35:00|  2019-03-02 06:52:08|            1.0|         10.8|        1.0|             false|           132|           121|           2|       30.0|  0.5|    0.5|       0.0|         0.0|                  0.3|        31.3|                 0.0|       null|     1|      7|         0|                   1|        83828|\n",
       "|        2| 2019-03-01 07:31:01|  2019-03-01 07:47:21|            1.0|         7.65|        1.0|             false|           132|            76|           1|       22.5|  0.5|    0.5|      4.76|         0.0|                  0.3|       28.56|                 0.0|       null|     1|      7|         0|                   1|          980|\n",
       "|        2| 2019-03-01 07:26:59|  2019-03-01 07:34:25|            1.0|        31.03|        2.0|             false|           132|           246|           1|       52.0|  0.0|    0.5|      6.11|        5.76|                  0.3|       67.17|                 2.5|       null|     1|      7|         0|                   1|          446|\n",
       "+---------+--------------------+---------------------+---------------+-------------+-----------+------------------+--------------+--------------+------------+-----------+-----+-------+----------+------------+---------------------+------------+--------------------+-----------+------+-------+----------+--------------------+-------------+"
      ]
     },
     "execution_count": 13,
     "metadata": {},
     "output_type": "execute_result"
    }
   ],
   "source": [
    "sdf.filter((F.col('is_weekend') == 0) & (F.col('pu_hour')==7)).limit(5)"
   ]
  },
  {
   "cell_type": "markdown",
   "id": "edaa1df0-b1d9-4396-9d60-39441a56f0da",
   "metadata": {},
   "source": [
    "### Get 1.5% sample size"
   ]
  },
  {
   "cell_type": "code",
   "execution_count": 7,
   "id": "8b092705-921d-473f-b78e-15e64ec1507c",
   "metadata": {},
   "outputs": [
    {
     "name": "stdout",
     "output_type": "stream",
     "text": [
      "22/08/14 01:30:46 WARN package: Truncated the string representation of a plan since it was too large. This behavior can be adjusted by setting 'spark.sql.debug.maxToStringFields'.\n"
     ]
    },
    {
     "name": "stderr",
     "output_type": "stream",
     "text": [
      "                                                                                \r"
     ]
    }
   ],
   "source": [
    "SAMPLE_SIZE = 0.015\n",
    "df = sdf.sample(SAMPLE_SIZE, seed=0).toPandas()\n",
    "df.to_csv('../data/raw/other_data/sample_data.csv', index=False)"
   ]
  },
  {
   "cell_type": "code",
   "execution_count": null,
   "id": "1387e51b-08dc-4d4e-a8e8-357689b8459c",
   "metadata": {},
   "outputs": [],
   "source": []
  }
 ],
 "metadata": {
  "kernelspec": {
   "display_name": "Python 3 (ipykernel)",
   "language": "python",
   "name": "python3"
  },
  "language_info": {
   "codemirror_mode": {
    "name": "ipython",
    "version": 3
   },
   "file_extension": ".py",
   "mimetype": "text/x-python",
   "name": "python",
   "nbconvert_exporter": "python",
   "pygments_lexer": "ipython3",
   "version": "3.9.7"
  }
 },
 "nbformat": 4,
 "nbformat_minor": 5
}
