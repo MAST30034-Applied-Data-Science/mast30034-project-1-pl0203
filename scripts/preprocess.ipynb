{
 "cells": [
  {
   "cell_type": "markdown",
   "id": "227686a2-1bea-4ef8-a425-a45510dc2334",
   "metadata": {
    "tags": []
   },
   "source": [
    "# High-level Preprocessing Steps:\n",
    "    1. Change column names\n",
    "    2. check for null values\n",
    "    3. create features: day, hour, is_school_holiday, is_not_working_day, precipitation, snow_depth, is_airport"
   ]
  },
  {
   "cell_type": "code",
   "execution_count": 43,
   "id": "6d6f6422-1850-425e-9ca6-b0be979cd486",
   "metadata": {},
   "outputs": [],
   "source": [
    "from pyspark.sql.functions import to_timestamp, date_format, hour\n",
    "from pyspark.sql.functions import isnan, when, count, col\n",
    "from pyspark.sql import SparkSession, functions as F"
   ]
  },
  {
   "cell_type": "code",
   "execution_count": 2,
   "id": "25c93866-aa88-45c7-ba9d-2ae031332f53",
   "metadata": {},
   "outputs": [
    {
     "name": "stderr",
     "output_type": "stream",
     "text": [
      "Setting default log level to \"WARN\".\n",
      "To adjust logging level use sc.setLogLevel(newLevel). For SparkR, use setLogLevel(newLevel).\n"
     ]
    },
    {
     "name": "stdout",
     "output_type": "stream",
     "text": [
      "22/08/06 17:00:12 WARN NativeCodeLoader: Unable to load native-hadoop library for your platform... using builtin-java classes where applicable\n"
     ]
    }
   ],
   "source": [
    "# Create a spark session (which will run spark jobs)\n",
    "spark = (\n",
    "    SparkSession.builder.appName(\"Preprocess Data\")\n",
    "    .config(\"spark.sql.repl.eagerEval.enabled\", True) \n",
    "    .config(\"spark.sql.parquet.cacheMetadata\", \"true\")\n",
    "    .getOrCreate()\n",
    ")"
   ]
  },
  {
   "cell_type": "code",
   "execution_count": 39,
   "id": "c0914a91-99b8-44df-83f5-46227825ec1a",
   "metadata": {},
   "outputs": [],
   "source": [
    "sdf = spark.read.parquet('../data/raw/tlc_data')"
   ]
  },
  {
   "cell_type": "code",
   "execution_count": 34,
   "id": "8b9ef685-ad4a-44b6-af6a-3bdb35605f48",
   "metadata": {},
   "outputs": [
    {
     "name": "stdout",
     "output_type": "stream",
     "text": [
      "-RECORD 0------------------------------------\n",
      " VendorID              | 1                   \n",
      " tpep_pickup_datetime  | 2022-03-01 11:13:08 \n",
      " tpep_dropoff_datetime | 2022-03-01 11:24:35 \n",
      " passenger_count       | 1.0                 \n",
      " trip_distance         | 2.4                 \n",
      " RatecodeID            | 1.0                 \n",
      " store_and_fwd_flag    | N                   \n",
      " PULocationID          | 90                  \n",
      " DOLocationID          | 209                 \n",
      " payment_type          | 2                   \n",
      " fare_amount           | 10.0                \n",
      " extra                 | 3.0                 \n",
      " mta_tax               | 0.5                 \n",
      " tip_amount            | 0.0                 \n",
      " tolls_amount          | 0.0                 \n",
      " improvement_surcharge | 0.3                 \n",
      " total_amount          | 13.8                \n",
      " congestion_surcharge  | 2.5                 \n",
      " airport_fee           | 0.0                 \n",
      "only showing top 1 row\n",
      "\n"
     ]
    }
   ],
   "source": [
    "sdf.show(1, vertical=True, truncate=100)"
   ]
  },
  {
   "cell_type": "code",
   "execution_count": 35,
   "id": "4fb6ab38-78f5-475b-bc9f-faef35644b83",
   "metadata": {},
   "outputs": [
    {
     "name": "stdout",
     "output_type": "stream",
     "text": [
      "Number of Rows: 19358482\n"
     ]
    }
   ],
   "source": [
    "print(f\"Number of Rows: {sdf.count()}\")"
   ]
  },
  {
   "cell_type": "code",
   "execution_count": 36,
   "id": "df871bdb-5519-4dbe-81b7-3e7411a7d6a9",
   "metadata": {},
   "outputs": [
    {
     "name": "stdout",
     "output_type": "stream",
     "text": [
      "root\n",
      " |-- vendor_id: integer (nullable = true)\n",
      " |-- tpep_pickup_datetime: timestamp (nullable = true)\n",
      " |-- tpep_dropoff_datetime: timestamp (nullable = true)\n",
      " |-- passenger_count: double (nullable = true)\n",
      " |-- trip_distance: double (nullable = true)\n",
      " |-- ratecode_id: double (nullable = true)\n",
      " |-- store_and_fwd_flag: boolean (nullable = true)\n",
      " |-- pu_location_id: integer (nullable = true)\n",
      " |-- do_location_id: integer (nullable = true)\n",
      " |-- payment_type: integer (nullable = true)\n",
      " |-- fare_amount: double (nullable = true)\n",
      " |-- extra: double (nullable = true)\n",
      " |-- mta_tax: double (nullable = true)\n",
      " |-- tip_amount: double (nullable = true)\n",
      " |-- tolls_amount: double (nullable = true)\n",
      " |-- improvement_surcharge: double (nullable = true)\n",
      " |-- total_amount: double (nullable = true)\n",
      " |-- congestion_surcharge: double (nullable = true)\n",
      " |-- airport_fee: double (nullable = true)\n",
      "\n"
     ]
    }
   ],
   "source": [
    "# renaming a few columns\n",
    "field_name_change = {\"VendorID\": \"vendor_id\", \"RatecodeID\": \"ratecode_id\", \n",
    "                      \"PULocationID\": \"pu_location_id\", \n",
    "                      \"DOLocationID\": \"do_location_id\"}\n",
    "for old, new in field_name_change.items():\n",
    "    sdf = sdf.withColumnRenamed(old, new)\n",
    "    \n",
    "# converting a couple columns to integers and saving it\n",
    "for field in ('pu_location_id', 'do_location_id', 'vendor_id', 'payment_type'):\n",
    "    sdf = sdf.withColumn(\n",
    "        field,\n",
    "        F.col(field).cast('INT')\n",
    "    )\n",
    "    \n",
    "sdf = sdf.withColumn(\n",
    "    'store_and_fwd_flag',\n",
    "    (F.col(\"store_and_fwd_flag\") == 'Y').cast('BOOLEAN')\n",
    ")\n",
    "    \n",
    "sdf.printSchema()"
   ]
  },
  {
   "cell_type": "markdown",
   "id": "43ded502-c307-4618-b7c3-e6b570814cf7",
   "metadata": {},
   "source": [
    "# Null values"
   ]
  },
  {
   "cell_type": "code",
   "execution_count": 7,
   "id": "5fb491e6-f352-487a-a6fa-61917ddfb04d",
   "metadata": {},
   "outputs": [
    {
     "name": "stderr",
     "output_type": "stream",
     "text": [
      "                                                                                \r"
     ]
    }
   ],
   "source": [
    "SAMPLE_SIZE = 0.05\n",
    "df = sdf.sample(SAMPLE_SIZE, seed=0).toPandas()"
   ]
  },
  {
   "cell_type": "code",
   "execution_count": 8,
   "id": "bfe40684-51c6-41a7-b71d-b436eea4ce60",
   "metadata": {},
   "outputs": [],
   "source": [
    "df.to_csv('../data/raw/other_data/sample_data.csv', index=False)"
   ]
  },
  {
   "cell_type": "code",
   "execution_count": 9,
   "id": "ce14c9a6-e3f9-4d74-a8b5-db344a4410bc",
   "metadata": {},
   "outputs": [
    {
     "data": {
      "text/plain": [
       "['vendor_id',\n",
       " 'tpep_pickup_datetime',\n",
       " 'tpep_dropoff_datetime',\n",
       " 'passenger_count',\n",
       " 'trip_distance',\n",
       " 'ratecode_id',\n",
       " 'store_and_fwd_flag',\n",
       " 'pu_location_id',\n",
       " 'do_location_id',\n",
       " 'payment_type',\n",
       " 'fare_amount',\n",
       " 'extra',\n",
       " 'mta_tax',\n",
       " 'tip_amount',\n",
       " 'tolls_amount',\n",
       " 'improvement_surcharge',\n",
       " 'total_amount',\n",
       " 'congestion_surcharge',\n",
       " 'airport_fee']"
      ]
     },
     "execution_count": 9,
     "metadata": {},
     "output_type": "execute_result"
    }
   ],
   "source": [
    "sdf.columns"
   ]
  },
  {
   "cell_type": "code",
   "execution_count": 12,
   "id": "bed509fb-7708-4be1-aa0d-2355edb50ddc",
   "metadata": {},
   "outputs": [
    {
     "name": "stderr",
     "output_type": "stream",
     "text": [
      "                                                                                \r"
     ]
    },
    {
     "data": {
      "text/plain": [
       "{'vendor_id': 0,\n",
       " 'tpep_pickup_datetime': 0,\n",
       " 'tpep_dropoff_datetime': 0,\n",
       " 'passenger_count': 639669,\n",
       " 'trip_distance': 0,\n",
       " 'ratecode_id': 639669,\n",
       " 'store_and_fwd_flag': 639669,\n",
       " 'pu_location_id': 0,\n",
       " 'do_location_id': 0,\n",
       " 'payment_type': 0,\n",
       " 'fare_amount': 0,\n",
       " 'extra': 0,\n",
       " 'mta_tax': 0,\n",
       " 'tip_amount': 0,\n",
       " 'tolls_amount': 0,\n",
       " 'improvement_surcharge': 0,\n",
       " 'total_amount': 0,\n",
       " 'congestion_surcharge': 639669,\n",
       " 'airport_fee': 639669}"
      ]
     },
     "execution_count": 12,
     "metadata": {},
     "output_type": "execute_result"
    }
   ],
   "source": [
    "Dict_Null = {col:sdf.filter(sdf[col].isNull()).count() for col in sdf.columns}\n",
    "Dict_Null"
   ]
  },
  {
   "cell_type": "code",
   "execution_count": 15,
   "id": "e2173bc5-c219-44e7-a34a-7d6bf5f1dd5c",
   "metadata": {},
   "outputs": [
    {
     "name": "stderr",
     "output_type": "stream",
     "text": [
      "                                                                                \r"
     ]
    },
    {
     "data": {
      "text/html": [
       "<table border='1'>\n",
       "<tr><th>vendor_id</th><th>tpep_pickup_datetime</th><th>tpep_dropoff_datetime</th><th>passenger_count</th><th>trip_distance</th><th>ratecode_id</th><th>store_and_fwd_flag</th><th>pu_location_id</th><th>do_location_id</th><th>payment_type</th><th>fare_amount</th><th>extra</th><th>mta_tax</th><th>tip_amount</th><th>tolls_amount</th><th>improvement_surcharge</th><th>total_amount</th><th>congestion_surcharge</th><th>airport_fee</th></tr>\n",
       "<tr><td>2</td><td>2022-03-01 11:30:00</td><td>2022-03-01 11:47:00</td><td>null</td><td>4.83</td><td>null</td><td>null</td><td>232</td><td>37</td><td>0</td><td>16.61</td><td>0.0</td><td>0.5</td><td>4.33</td><td>0.0</td><td>0.3</td><td>24.24</td><td>null</td><td>null</td></tr>\n",
       "<tr><td>2</td><td>2022-03-01 11:14:42</td><td>2022-03-01 11:30:09</td><td>null</td><td>5.6</td><td>null</td><td>null</td><td>231</td><td>236</td><td>0</td><td>22.19</td><td>0.0</td><td>0.5</td><td>5.55</td><td>0.0</td><td>0.3</td><td>31.04</td><td>null</td><td>null</td></tr>\n",
       "<tr><td>1</td><td>2022-03-01 11:10:21</td><td>2022-03-01 11:32:29</td><td>null</td><td>12.9</td><td>null</td><td>null</td><td>138</td><td>13</td><td>0</td><td>36.0</td><td>1.75</td><td>0.5</td><td>6.16</td><td>0.0</td><td>0.3</td><td>47.21</td><td>null</td><td>null</td></tr>\n",
       "<tr><td>6</td><td>2022-03-01 11:03:08</td><td>2022-03-01 11:03:53</td><td>null</td><td>8.03</td><td>null</td><td>null</td><td>265</td><td>69</td><td>0</td><td>31.2</td><td>0.0</td><td>0.5</td><td>0.0</td><td>0.0</td><td>0.3</td><td>32.0</td><td>null</td><td>null</td></tr>\n",
       "<tr><td>2</td><td>2022-03-01 11:12:42</td><td>2022-03-01 11:14:38</td><td>null</td><td>0.33</td><td>null</td><td>null</td><td>164</td><td>170</td><td>0</td><td>8.8</td><td>0.0</td><td>0.5</td><td>2.57</td><td>0.0</td><td>0.3</td><td>14.67</td><td>null</td><td>null</td></tr>\n",
       "</table>\n"
      ],
      "text/plain": [
       "+---------+--------------------+---------------------+---------------+-------------+-----------+------------------+--------------+--------------+------------+-----------+-----+-------+----------+------------+---------------------+------------+--------------------+-----------+\n",
       "|vendor_id|tpep_pickup_datetime|tpep_dropoff_datetime|passenger_count|trip_distance|ratecode_id|store_and_fwd_flag|pu_location_id|do_location_id|payment_type|fare_amount|extra|mta_tax|tip_amount|tolls_amount|improvement_surcharge|total_amount|congestion_surcharge|airport_fee|\n",
       "+---------+--------------------+---------------------+---------------+-------------+-----------+------------------+--------------+--------------+------------+-----------+-----+-------+----------+------------+---------------------+------------+--------------------+-----------+\n",
       "|        2| 2022-03-01 11:30:00|  2022-03-01 11:47:00|           null|         4.83|       null|              null|           232|            37|           0|      16.61|  0.0|    0.5|      4.33|         0.0|                  0.3|       24.24|                null|       null|\n",
       "|        2| 2022-03-01 11:14:42|  2022-03-01 11:30:09|           null|          5.6|       null|              null|           231|           236|           0|      22.19|  0.0|    0.5|      5.55|         0.0|                  0.3|       31.04|                null|       null|\n",
       "|        1| 2022-03-01 11:10:21|  2022-03-01 11:32:29|           null|         12.9|       null|              null|           138|            13|           0|       36.0| 1.75|    0.5|      6.16|         0.0|                  0.3|       47.21|                null|       null|\n",
       "|        6| 2022-03-01 11:03:08|  2022-03-01 11:03:53|           null|         8.03|       null|              null|           265|            69|           0|       31.2|  0.0|    0.5|       0.0|         0.0|                  0.3|        32.0|                null|       null|\n",
       "|        2| 2022-03-01 11:12:42|  2022-03-01 11:14:38|           null|         0.33|       null|              null|           164|           170|           0|        8.8|  0.0|    0.5|      2.57|         0.0|                  0.3|       14.67|                null|       null|\n",
       "+---------+--------------------+---------------------+---------------+-------------+-----------+------------------+--------------+--------------+------------+-----------+-----+-------+----------+------------+---------------------+------------+--------------------+-----------+"
      ]
     },
     "execution_count": 15,
     "metadata": {},
     "output_type": "execute_result"
    }
   ],
   "source": [
    "sdf.filter(F.col('ratecode_id').isNull()).limit(5)"
   ]
  },
  {
   "cell_type": "markdown",
   "id": "629e7e8a-d908-4bb4-aa4b-f3e665dd6755",
   "metadata": {},
   "source": [
    "## Feature Engineering"
   ]
  },
  {
   "cell_type": "code",
   "execution_count": 71,
   "id": "db309377-aefa-4eef-ba46-2887d4978a41",
   "metadata": {},
   "outputs": [],
   "source": [
    "# create new column pickup day\n",
    "sdf = sdf.withColumn(\"tpep_pickup_datetime\",\n",
    "                   to_timestamp(col(\"tpep_pickup_datetime\"))) \\\n",
    "         .withColumn(\"pu_day\", date_format(col(\"tpep_pickup_datetime\"), \"d\"))\n",
    "\n",
    "# create new column pickup hour\n",
    "sdf = sdf.withColumn('pu_hour', hour(sdf.tpep_pickup_datetime))\n",
    "\n",
    "# create new helper column to get day of the week\n",
    "sdf = sdf.withColumn(\"tpep_pickup_datetime\",\n",
    "                   to_timestamp(col(\"tpep_pickup_datetime\"))) \\\n",
    "         .withColumn(\"weekday_abb\", date_format(col(\"tpep_pickup_datetime\"), \n",
    "                                                   \"E\"))\n",
    "# create new column to identify weekends\n",
    "sdf = sdf.withColumn(\n",
    "    'is_weekend',\n",
    "    # when we have non-zero distance/passenger/total amount then True\n",
    "    # else False\n",
    "    F.when(\n",
    "        (F.col('weekday_abb').isin([\"Sun\", \"Sat\"])),\n",
    "        1\n",
    "    ).otherwise(0)\n",
    ")\n",
    "sdf = sdf.drop(col(\"weekday_abb\"))\n",
    "\n",
    "# create new column to identify if trip is during weekday peak hours\n",
    "sdf = sdf.withColumn(\n",
    "    'is_weekday_peak_hour',\n",
    "    # when we have non-zero distance/passenger/total amount then True\n",
    "    # else False\n",
    "    F.when(\n",
    "        (F.col('is_weekend') == 0)\n",
    "        & (F.col('pu_hour').isin([6, 7, 8, 9, 10,\n",
    "                                  16, 17, 18, 19, 20])),\n",
    "        1\n",
    "    ).otherwise(0)\n",
    ")\n",
    "\n",
    "# create new column to calculate trip duration in seconds\n",
    "sdf = sdf.withColumn(\n",
    "    'trip_duration',\n",
    "    (col(\"tpep_dropoff_datetime\").cast(\"long\") - \n",
    "     col('tpep_pickup_datetime').cast(\"long\")))"
   ]
  },
  {
   "cell_type": "code",
   "execution_count": 73,
   "id": "9915c458-6e70-41db-8b7a-29ad218ecf3f",
   "metadata": {},
   "outputs": [
    {
     "name": "stderr",
     "output_type": "stream",
     "text": [
      "                                                                                \r"
     ]
    },
    {
     "data": {
      "text/html": [
       "<table border='1'>\n",
       "<tr><th>VendorID</th><th>tpep_pickup_datetime</th><th>tpep_dropoff_datetime</th><th>passenger_count</th><th>trip_distance</th><th>RatecodeID</th><th>store_and_fwd_flag</th><th>PULocationID</th><th>DOLocationID</th><th>payment_type</th><th>fare_amount</th><th>extra</th><th>mta_tax</th><th>tip_amount</th><th>tolls_amount</th><th>improvement_surcharge</th><th>total_amount</th><th>congestion_surcharge</th><th>airport_fee</th><th>pu_day</th><th>pu_hour</th><th>is_weekend</th><th>trip_duration</th><th>is_weekday_peak_hour</th></tr>\n",
       "<tr><td>2</td><td>2022-03-02 07:01:11</td><td>2022-03-02 07:06:37</td><td>1.0</td><td>1.18</td><td>1.0</td><td>N</td><td>239</td><td>238</td><td>1</td><td>6.0</td><td>1.0</td><td>0.5</td><td>2.58</td><td>0.0</td><td>0.3</td><td>12.88</td><td>2.5</td><td>0.0</td><td>2</td><td>7</td><td>0</td><td>326</td><td>1</td></tr>\n",
       "<tr><td>2</td><td>2022-03-02 07:01:40</td><td>2022-03-02 07:17:10</td><td>2.0</td><td>7.47</td><td>1.0</td><td>N</td><td>132</td><td>135</td><td>1</td><td>22.5</td><td>1.0</td><td>0.5</td><td>0.0</td><td>0.0</td><td>0.3</td><td>25.55</td><td>0.0</td><td>1.25</td><td>2</td><td>7</td><td>0</td><td>930</td><td>1</td></tr>\n",
       "<tr><td>2</td><td>2022-03-02 07:00:25</td><td>2022-03-02 07:06:30</td><td>1.0</td><td>1.03</td><td>1.0</td><td>N</td><td>161</td><td>237</td><td>1</td><td>6.5</td><td>1.0</td><td>0.5</td><td>1.5</td><td>0.0</td><td>0.3</td><td>12.3</td><td>2.5</td><td>0.0</td><td>2</td><td>7</td><td>0</td><td>365</td><td>1</td></tr>\n",
       "<tr><td>2</td><td>2022-03-02 07:07:40</td><td>2022-03-02 07:30:01</td><td>1.0</td><td>11.64</td><td>1.0</td><td>N</td><td>70</td><td>220</td><td>2</td><td>33.0</td><td>1.0</td><td>0.5</td><td>0.0</td><td>6.55</td><td>0.3</td><td>42.6</td><td>0.0</td><td>1.25</td><td>2</td><td>7</td><td>0</td><td>1341</td><td>1</td></tr>\n",
       "<tr><td>2</td><td>2022-03-02 07:00:06</td><td>2022-03-02 07:07:38</td><td>1.0</td><td>0.9</td><td>1.0</td><td>N</td><td>237</td><td>161</td><td>1</td><td>6.5</td><td>1.0</td><td>0.5</td><td>2.16</td><td>0.0</td><td>0.3</td><td>12.96</td><td>2.5</td><td>0.0</td><td>2</td><td>7</td><td>0</td><td>452</td><td>1</td></tr>\n",
       "</table>\n"
      ],
      "text/plain": [
       "+--------+--------------------+---------------------+---------------+-------------+----------+------------------+------------+------------+------------+-----------+-----+-------+----------+------------+---------------------+------------+--------------------+-----------+------+-------+----------+-------------+--------------------+\n",
       "|VendorID|tpep_pickup_datetime|tpep_dropoff_datetime|passenger_count|trip_distance|RatecodeID|store_and_fwd_flag|PULocationID|DOLocationID|payment_type|fare_amount|extra|mta_tax|tip_amount|tolls_amount|improvement_surcharge|total_amount|congestion_surcharge|airport_fee|pu_day|pu_hour|is_weekend|trip_duration|is_weekday_peak_hour|\n",
       "+--------+--------------------+---------------------+---------------+-------------+----------+------------------+------------+------------+------------+-----------+-----+-------+----------+------------+---------------------+------------+--------------------+-----------+------+-------+----------+-------------+--------------------+\n",
       "|       2| 2022-03-02 07:01:11|  2022-03-02 07:06:37|            1.0|         1.18|       1.0|                 N|         239|         238|           1|        6.0|  1.0|    0.5|      2.58|         0.0|                  0.3|       12.88|                 2.5|        0.0|     2|      7|         0|          326|                   1|\n",
       "|       2| 2022-03-02 07:01:40|  2022-03-02 07:17:10|            2.0|         7.47|       1.0|                 N|         132|         135|           1|       22.5|  1.0|    0.5|       0.0|         0.0|                  0.3|       25.55|                 0.0|       1.25|     2|      7|         0|          930|                   1|\n",
       "|       2| 2022-03-02 07:00:25|  2022-03-02 07:06:30|            1.0|         1.03|       1.0|                 N|         161|         237|           1|        6.5|  1.0|    0.5|       1.5|         0.0|                  0.3|        12.3|                 2.5|        0.0|     2|      7|         0|          365|                   1|\n",
       "|       2| 2022-03-02 07:07:40|  2022-03-02 07:30:01|            1.0|        11.64|       1.0|                 N|          70|         220|           2|       33.0|  1.0|    0.5|       0.0|        6.55|                  0.3|        42.6|                 0.0|       1.25|     2|      7|         0|         1341|                   1|\n",
       "|       2| 2022-03-02 07:00:06|  2022-03-02 07:07:38|            1.0|          0.9|       1.0|                 N|         237|         161|           1|        6.5|  1.0|    0.5|      2.16|         0.0|                  0.3|       12.96|                 2.5|        0.0|     2|      7|         0|          452|                   1|\n",
       "+--------+--------------------+---------------------+---------------+-------------+----------+------------------+------------+------------+------------+-----------+-----+-------+----------+------------+---------------------+------------+--------------------+-----------+------+-------+----------+-------------+--------------------+"
      ]
     },
     "execution_count": 73,
     "metadata": {},
     "output_type": "execute_result"
    }
   ],
   "source": [
    "sdf.filter((F.col('is_weekend') == 0) & (F.col('pu_hour')==7)).limit(5)"
   ]
  },
  {
   "cell_type": "code",
   "execution_count": null,
   "id": "03c20a2d-24d2-4383-b0b9-27e8236d9cdc",
   "metadata": {},
   "outputs": [],
   "source": []
  },
  {
   "cell_type": "code",
   "execution_count": null,
   "id": "8b092705-921d-473f-b78e-15e64ec1507c",
   "metadata": {},
   "outputs": [],
   "source": []
  }
 ],
 "metadata": {
  "kernelspec": {
   "display_name": "Python 3 (ipykernel)",
   "language": "python",
   "name": "python3"
  },
  "language_info": {
   "codemirror_mode": {
    "name": "ipython",
    "version": 3
   },
   "file_extension": ".py",
   "mimetype": "text/x-python",
   "name": "python",
   "nbconvert_exporter": "python",
   "pygments_lexer": "ipython3",
   "version": "3.9.7"
  }
 },
 "nbformat": 4,
 "nbformat_minor": 5
}
