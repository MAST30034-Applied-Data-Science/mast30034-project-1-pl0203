{
 "cells": [
  {
   "cell_type": "markdown",
   "id": "227686a2-1bea-4ef8-a425-a45510dc2334",
   "metadata": {},
   "source": [
    "# High-level Preprocessing Steps:\n",
    "    1. Change column names to "
   ]
  },
  {
   "cell_type": "code",
   "execution_count": null,
   "id": "25c93866-aa88-45c7-ba9d-2ae031332f53",
   "metadata": {},
   "outputs": [],
   "source": [
    "from pyspark.sql import SparkSession, functions as F\n",
    "\n",
    "# Create a spark session (which will run spark jobs)\n",
    "spark = (\n",
    "    SparkSession.builder.appName(\"Preprocess Data\")\n",
    "    .config(\"spark.sql.repl.eagerEval.enabled\", True) \n",
    "    .config(\"spark.sql.parquet.cacheMetadata\", \"true\")\n",
    "    .getOrCreate()\n",
    ")"
   ]
  },
  {
   "cell_type": "code",
   "execution_count": 23,
   "id": "c0914a91-99b8-44df-83f5-46227825ec1a",
   "metadata": {},
   "outputs": [],
   "source": [
    "sdf = spark.read.parquet('../data/raw/tlc_data')"
   ]
  },
  {
   "cell_type": "code",
   "execution_count": 24,
   "id": "8b9ef685-ad4a-44b6-af6a-3bdb35605f48",
   "metadata": {},
   "outputs": [
    {
     "name": "stdout",
     "output_type": "stream",
     "text": [
      "-RECORD 0------------------------------------\n",
      " VendorID              | 1                   \n",
      " tpep_pickup_datetime  | 2022-03-01 11:13:08 \n",
      " tpep_dropoff_datetime | 2022-03-01 11:24:35 \n",
      " passenger_count       | 1.0                 \n",
      " trip_distance         | 2.4                 \n",
      " RatecodeID            | 1.0                 \n",
      " store_and_fwd_flag    | N                   \n",
      " PULocationID          | 90                  \n",
      " DOLocationID          | 209                 \n",
      " payment_type          | 2                   \n",
      " fare_amount           | 10.0                \n",
      " extra                 | 3.0                 \n",
      " mta_tax               | 0.5                 \n",
      " tip_amount            | 0.0                 \n",
      " tolls_amount          | 0.0                 \n",
      " improvement_surcharge | 0.3                 \n",
      " total_amount          | 13.8                \n",
      " congestion_surcharge  | 2.5                 \n",
      " airport_fee           | 0.0                 \n",
      "only showing top 1 row\n",
      "\n"
     ]
    }
   ],
   "source": [
    "sdf.show(1, vertical=True, truncate=100)"
   ]
  },
  {
   "cell_type": "code",
   "execution_count": 29,
   "id": "df871bdb-5519-4dbe-81b7-3e7411a7d6a9",
   "metadata": {},
   "outputs": [
    {
     "name": "stdout",
     "output_type": "stream",
     "text": [
      "root\n",
      " |-- vendor_id: integer (nullable = true)\n",
      " |-- tpep_pickup_datetime: timestamp (nullable = true)\n",
      " |-- tpep_dropoff_datetime: timestamp (nullable = true)\n",
      " |-- passenger_count: double (nullable = true)\n",
      " |-- trip_distance: double (nullable = true)\n",
      " |-- ratecode_id: double (nullable = true)\n",
      " |-- store_and_fwd_flag: boolean (nullable = true)\n",
      " |-- pu_location_id: integer (nullable = true)\n",
      " |-- do_location_id: integer (nullable = true)\n",
      " |-- payment_type: integer (nullable = true)\n",
      " |-- fare_amount: double (nullable = true)\n",
      " |-- extra: double (nullable = true)\n",
      " |-- mta_tax: double (nullable = true)\n",
      " |-- tip_amount: double (nullable = true)\n",
      " |-- tolls_amount: double (nullable = true)\n",
      " |-- improvement_surcharge: double (nullable = true)\n",
      " |-- total_amount: double (nullable = true)\n",
      " |-- congestion_surcharge: double (nullable = true)\n",
      " |-- airport_fee: double (nullable = true)\n",
      "\n"
     ]
    }
   ],
   "source": [
    "# renaming a few columns\n",
    "field_name_change = {\"VendorID\": \"vendor_id\", \"RatecodeID\": \"ratecode_id\", \n",
    "                      \"PULocationID\": \"pu_location_id\", \n",
    "                      \"DOLocationID\": \"do_location_id\"}\n",
    "for old, new in field_name_change.items():\n",
    "    sdf = sdf.withColumnRenamed(old, new)\n",
    "    \n",
    "# converting a couple columns to integers and saving it\n",
    "for field in ('pu_location_id', 'do_location_id', 'vendor_id', 'payment_type'):\n",
    "    sdf = sdf.withColumn(\n",
    "        field,\n",
    "        F.col(field).cast('INT')\n",
    "    )\n",
    "    \n",
    "sdf = sdf.withColumn(\n",
    "    'store_and_fwd_flag',\n",
    "    (F.col(\"store_and_fwd_flag\") == 'Y').cast('BOOLEAN')\n",
    ")\n",
    "    \n",
    "sdf.printSchema()"
   ]
  },
  {
   "cell_type": "code",
   "execution_count": 30,
   "id": "9915c458-6e70-41db-8b7a-29ad218ecf3f",
   "metadata": {},
   "outputs": [
    {
     "data": {
      "text/html": [
       "<table border='1'>\n",
       "<tr><th>vendor_id</th><th>tpep_pickup_datetime</th><th>tpep_dropoff_datetime</th><th>passenger_count</th><th>trip_distance</th><th>ratecode_id</th><th>store_and_fwd_flag</th><th>pu_location_id</th><th>do_location_id</th><th>payment_type</th><th>fare_amount</th><th>extra</th><th>mta_tax</th><th>tip_amount</th><th>tolls_amount</th><th>improvement_surcharge</th><th>total_amount</th><th>congestion_surcharge</th><th>airport_fee</th></tr>\n",
       "<tr><td>1</td><td>2022-03-01 11:13:08</td><td>2022-03-01 11:24:35</td><td>1.0</td><td>2.4</td><td>1.0</td><td>false</td><td>90</td><td>209</td><td>2</td><td>10.0</td><td>3.0</td><td>0.5</td><td>0.0</td><td>0.0</td><td>0.3</td><td>13.8</td><td>2.5</td><td>0.0</td></tr>\n",
       "<tr><td>1</td><td>2022-03-01 11:47:52</td><td>2022-03-01 12:00:08</td><td>1.0</td><td>2.2</td><td>1.0</td><td>false</td><td>148</td><td>234</td><td>2</td><td>10.5</td><td>3.0</td><td>0.5</td><td>0.0</td><td>0.0</td><td>0.3</td><td>14.3</td><td>2.5</td><td>0.0</td></tr>\n",
       "<tr><td>2</td><td>2022-03-01 11:02:46</td><td>2022-03-01 11:46:43</td><td>1.0</td><td>19.78</td><td>2.0</td><td>false</td><td>132</td><td>249</td><td>1</td><td>52.0</td><td>0.0</td><td>0.5</td><td>11.06</td><td>0.0</td><td>0.3</td><td>67.61</td><td>2.5</td><td>1.25</td></tr>\n",
       "<tr><td>2</td><td>2022-03-01 11:52:43</td><td>2022-03-01 12:03:40</td><td>2.0</td><td>2.94</td><td>1.0</td><td>false</td><td>211</td><td>66</td><td>1</td><td>11.0</td><td>0.5</td><td>0.5</td><td>4.44</td><td>0.0</td><td>0.3</td><td>19.24</td><td>2.5</td><td>0.0</td></tr>\n",
       "<tr><td>2</td><td>2022-03-01 11:15:35</td><td>2022-03-01 11:34:13</td><td>1.0</td><td>8.57</td><td>1.0</td><td>false</td><td>138</td><td>197</td><td>1</td><td>25.0</td><td>0.5</td><td>0.5</td><td>5.51</td><td>0.0</td><td>0.3</td><td>33.06</td><td>0.0</td><td>1.25</td></tr>\n",
       "</table>\n"
      ],
      "text/plain": [
       "+---------+--------------------+---------------------+---------------+-------------+-----------+------------------+--------------+--------------+------------+-----------+-----+-------+----------+------------+---------------------+------------+--------------------+-----------+\n",
       "|vendor_id|tpep_pickup_datetime|tpep_dropoff_datetime|passenger_count|trip_distance|ratecode_id|store_and_fwd_flag|pu_location_id|do_location_id|payment_type|fare_amount|extra|mta_tax|tip_amount|tolls_amount|improvement_surcharge|total_amount|congestion_surcharge|airport_fee|\n",
       "+---------+--------------------+---------------------+---------------+-------------+-----------+------------------+--------------+--------------+------------+-----------+-----+-------+----------+------------+---------------------+------------+--------------------+-----------+\n",
       "|        1| 2022-03-01 11:13:08|  2022-03-01 11:24:35|            1.0|          2.4|        1.0|             false|            90|           209|           2|       10.0|  3.0|    0.5|       0.0|         0.0|                  0.3|        13.8|                 2.5|        0.0|\n",
       "|        1| 2022-03-01 11:47:52|  2022-03-01 12:00:08|            1.0|          2.2|        1.0|             false|           148|           234|           2|       10.5|  3.0|    0.5|       0.0|         0.0|                  0.3|        14.3|                 2.5|        0.0|\n",
       "|        2| 2022-03-01 11:02:46|  2022-03-01 11:46:43|            1.0|        19.78|        2.0|             false|           132|           249|           1|       52.0|  0.0|    0.5|     11.06|         0.0|                  0.3|       67.61|                 2.5|       1.25|\n",
       "|        2| 2022-03-01 11:52:43|  2022-03-01 12:03:40|            2.0|         2.94|        1.0|             false|           211|            66|           1|       11.0|  0.5|    0.5|      4.44|         0.0|                  0.3|       19.24|                 2.5|        0.0|\n",
       "|        2| 2022-03-01 11:15:35|  2022-03-01 11:34:13|            1.0|         8.57|        1.0|             false|           138|           197|           1|       25.0|  0.5|    0.5|      5.51|         0.0|                  0.3|       33.06|                 0.0|       1.25|\n",
       "+---------+--------------------+---------------------+---------------+-------------+-----------+------------------+--------------+--------------+------------+-----------+-----+-------+----------+------------+---------------------+------------+--------------------+-----------+"
      ]
     },
     "execution_count": 30,
     "metadata": {},
     "output_type": "execute_result"
    }
   ],
   "source": [
    "sdf.limit(5)"
   ]
  },
  {
   "cell_type": "code",
   "execution_count": 31,
   "id": "cb59f1ef-e9bb-40cc-ba7d-8bb9776efe79",
   "metadata": {},
   "outputs": [
    {
     "data": {
      "text/plain": [
       "'/Users/patrick/Documents/GitHub/mast30034-project-1-pl0203/scripts'"
      ]
     },
     "execution_count": 31,
     "metadata": {},
     "output_type": "execute_result"
    }
   ],
   "source": [
    "os.getcwd()"
   ]
  },
  {
   "cell_type": "code",
   "execution_count": 33,
   "id": "4c2a4beb-a0c6-4533-a507-e0198cf48a9e",
   "metadata": {},
   "outputs": [
    {
     "name": "stderr",
     "output_type": "stream",
     "text": [
      "                                                                                \r"
     ]
    }
   ],
   "source": [
    "SAMPLE_SIZE = 0.01\n",
    "df = sdf.sample(SAMPLE_SIZE, seed=0).toPandas()\n",
    "df.to_csv('../data/raw/other_data/sample_data.csv', index=False)"
   ]
  },
  {
   "cell_type": "code",
   "execution_count": null,
   "id": "c2692d39-8c11-4be5-ae8d-3bb3d84517e4",
   "metadata": {},
   "outputs": [],
   "source": []
  }
 ],
 "metadata": {
  "kernelspec": {
   "display_name": "Python 3 (ipykernel)",
   "language": "python",
   "name": "python3"
  },
  "language_info": {
   "codemirror_mode": {
    "name": "ipython",
    "version": 3
   },
   "file_extension": ".py",
   "mimetype": "text/x-python",
   "name": "python",
   "nbconvert_exporter": "python",
   "pygments_lexer": "ipython3",
   "version": "3.9.7"
  }
 },
 "nbformat": 4,
 "nbformat_minor": 5
}
