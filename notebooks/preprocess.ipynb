{
 "cells": [
  {
   "cell_type": "markdown",
   "id": "227686a2-1bea-4ef8-a425-a45510dc2334",
   "metadata": {
    "tags": []
   },
   "source": [
    "# High-level Preprocessing Steps:\n",
    "    1. Change column names and types\n",
    "    2. Cleaning: date outside range, negative duration, duration > 18000s, null values\n",
    "    3. Add Features from external dataset: hour, day, is_school_holiday, weather features (temperature, precipitation, wind, etc.)\n",
    "    4. Check and deal with null values    \n",
    "    "
   ]
  },
  {
   "cell_type": "code",
   "execution_count": 1,
   "id": "6d6f6422-1850-425e-9ca6-b0be979cd486",
   "metadata": {},
   "outputs": [],
   "source": [
    "from pyspark.sql.functions import to_timestamp, date_format, hour, dayofweek\n",
    "from pyspark.sql.functions import isnan, when, count, col, split, concat, lit\n",
    "from pyspark.sql.functions import to_date, create_map\n",
    "from itertools import chain\n",
    "from pyspark.sql import SparkSession, Window, functions as F\n",
    "import pandas as pd\n",
    "import seaborn as sns\n",
    "from datetime import datetime\n",
    "import matplotlib.pyplot as plt\n",
    "%matplotlib inline\n"
   ]
  },
  {
   "cell_type": "code",
   "execution_count": 2,
   "id": "25c93866-aa88-45c7-ba9d-2ae031332f53",
   "metadata": {},
   "outputs": [
    {
     "name": "stderr",
     "output_type": "stream",
     "text": [
      "Setting default log level to \"WARN\".\n",
      "To adjust logging level use sc.setLogLevel(newLevel). For SparkR, use setLogLevel(newLevel).\n"
     ]
    },
    {
     "name": "stdout",
     "output_type": "stream",
     "text": [
      "22/08/20 18:02:21 WARN NativeCodeLoader: Unable to load native-hadoop library for your platform... using builtin-java classes where applicable\n"
     ]
    }
   ],
   "source": [
    "# Create a spark session (which will run spark jobs)\n",
    "spark = (\n",
    "    SparkSession.builder.appName(\"Preprocess Data\")\n",
    "    .config(\"spark.sql.repl.eagerEval.enabled\", True) \n",
    "    .config(\"spark.sql.parquet.cacheMetadata\", \"true\")\n",
    "    .config(\"spark.sql.session.timeZone\", \"Etc/UTC\")\n",
    "    .getOrCreate()\n",
    ")"
   ]
  },
  {
   "cell_type": "code",
   "execution_count": 3,
   "id": "c0914a91-99b8-44df-83f5-46227825ec1a",
   "metadata": {},
   "outputs": [
    {
     "name": "stderr",
     "output_type": "stream",
     "text": [
      "                                                                                \r"
     ]
    }
   ],
   "source": [
    "# read datasets\n",
    "taxi = spark.read.parquet('../data/raw/tlc_data')\n",
    "weather = spark.read.csv('../data/raw/other_data/jfk_weather.csv', header=True)\n",
    "school_holiday = spark.read.csv('../data/raw/other_data/nyc_school_holiday.csv',\n",
    "                                header=True)\n",
    "zones = pd.read_csv(\"../data/raw/taxi_zones/taxi+_zone_lookup.csv\")\n",
    "\n",
    "test_taxi = spark.read.parquet('../data/raw/test_data/test_data.parquet')\n",
    "test_weather = spark.read.csv('../data/raw/test_data/weather_test_data.csv', header=True)"
   ]
  },
  {
   "cell_type": "code",
   "execution_count": 4,
   "id": "37fe0cc8-8136-4e64-b19f-2e6af4f41918",
   "metadata": {},
   "outputs": [
    {
     "data": {
      "text/html": [
       "<table border='1'>\n",
       "<tr><th>STATION</th><th>DATE</th><th>SOURCE</th><th>REPORT_TYPE</th><th>CALL_SIGN</th><th>QUALITY_CONTROL</th><th>AA1</th><th>DEW</th><th>KB1</th><th>MA1</th><th>MD1</th><th>MF1</th><th>OC1</th><th>RH1</th><th>TMP</th><th>VIS</th><th>WND</th></tr>\n",
       "<tr><td>74486094789</td><td>2018-01-01T00:00:00</td><td>4</td><td>FM-12</td><td>99999</td><td>V020</td><td>null</td><td>-0200,1</td><td>null</td><td>99999,9,10259,1</td><td>3,1,014,1,+999,9</td><td>null</td><td>null</td><td>null</td><td>-0111,1</td><td>016000,1,9,9</td><td>310,1,N,0093,1</td></tr>\n",
       "<tr><td>74486094789</td><td>2018-01-01T00:51:00</td><td>7</td><td>FM-15</td><td>KJFK </td><td>V030</td><td>01,0000,9,5</td><td>-0200,5</td><td>null</td><td>10271,5,10262,5</td><td>null</td><td>null</td><td>null</td><td>null</td><td>-0117,5</td><td>016093,5,N,5</td><td>320,5,N,0067,5</td></tr>\n",
       "<tr><td>74486094789</td><td>2018-01-01T01:51:00</td><td>7</td><td>FM-15</td><td>KJFK </td><td>V030</td><td>01,0000,9,5</td><td>-0206,5</td><td>null</td><td>10271,5,10262,5</td><td>null</td><td>null</td><td>null</td><td>null</td><td>-0117,5</td><td>016093,5,N,5</td><td>330,5,N,0093,5</td></tr>\n",
       "<tr><td>74486094789</td><td>2018-01-01T02:51:00</td><td>7</td><td>FM-15</td><td>KJFK </td><td>V030</td><td>01,0000,9,5</td><td>-0200,5</td><td>null</td><td>10271,5,10262,5</td><td>3,9,001,9,+999,9</td><td>null</td><td>null</td><td>null</td><td>-0122,5</td><td>016093,5,N,5</td><td>310,5,N,0093,5</td></tr>\n",
       "<tr><td>74486094789</td><td>2018-01-01T03:00:00</td><td>4</td><td>FM-12</td><td>99999</td><td>V020</td><td>null</td><td>-0200,1</td><td>null</td><td>99999,9,10259,1</td><td>3,1,001,1,+999,9</td><td>null</td><td>null</td><td>null</td><td>-0122,1</td><td>016000,1,9,9</td><td>310,1,N,0093,1</td></tr>\n",
       "</table>\n"
      ],
      "text/plain": [
       "+-----------+-------------------+------+-----------+---------+---------------+-----------+-------+----+---------------+----------------+----+----+----+-------+------------+--------------+\n",
       "|    STATION|               DATE|SOURCE|REPORT_TYPE|CALL_SIGN|QUALITY_CONTROL|        AA1|    DEW| KB1|            MA1|             MD1| MF1| OC1| RH1|    TMP|         VIS|           WND|\n",
       "+-----------+-------------------+------+-----------+---------+---------------+-----------+-------+----+---------------+----------------+----+----+----+-------+------------+--------------+\n",
       "|74486094789|2018-01-01T00:00:00|     4|      FM-12|    99999|           V020|       null|-0200,1|null|99999,9,10259,1|3,1,014,1,+999,9|null|null|null|-0111,1|016000,1,9,9|310,1,N,0093,1|\n",
       "|74486094789|2018-01-01T00:51:00|     7|      FM-15|    KJFK |           V030|01,0000,9,5|-0200,5|null|10271,5,10262,5|            null|null|null|null|-0117,5|016093,5,N,5|320,5,N,0067,5|\n",
       "|74486094789|2018-01-01T01:51:00|     7|      FM-15|    KJFK |           V030|01,0000,9,5|-0206,5|null|10271,5,10262,5|            null|null|null|null|-0117,5|016093,5,N,5|330,5,N,0093,5|\n",
       "|74486094789|2018-01-01T02:51:00|     7|      FM-15|    KJFK |           V030|01,0000,9,5|-0200,5|null|10271,5,10262,5|3,9,001,9,+999,9|null|null|null|-0122,5|016093,5,N,5|310,5,N,0093,5|\n",
       "|74486094789|2018-01-01T03:00:00|     4|      FM-12|    99999|           V020|       null|-0200,1|null|99999,9,10259,1|3,1,001,1,+999,9|null|null|null|-0122,1|016000,1,9,9|310,1,N,0093,1|\n",
       "+-----------+-------------------+------+-----------+---------+---------------+-----------+-------+----+---------------+----------------+----+----+----+-------+------------+--------------+"
      ]
     },
     "execution_count": 4,
     "metadata": {},
     "output_type": "execute_result"
    }
   ],
   "source": [
    "weather.limit(5)"
   ]
  },
  {
   "cell_type": "code",
   "execution_count": 5,
   "id": "6bbd30ce-fe5e-4e45-bfff-e2a7a0b7bf6a",
   "metadata": {},
   "outputs": [
    {
     "name": "stdout",
     "output_type": "stream",
     "text": [
      "root\n",
      " |-- VendorID: long (nullable = true)\n",
      " |-- tpep_pickup_datetime: timestamp (nullable = true)\n",
      " |-- tpep_dropoff_datetime: timestamp (nullable = true)\n",
      " |-- passenger_count: long (nullable = true)\n",
      " |-- trip_distance: double (nullable = true)\n",
      " |-- RatecodeID: long (nullable = true)\n",
      " |-- store_and_fwd_flag: string (nullable = true)\n",
      " |-- PULocationID: long (nullable = true)\n",
      " |-- DOLocationID: long (nullable = true)\n",
      " |-- payment_type: long (nullable = true)\n",
      " |-- fare_amount: double (nullable = true)\n",
      " |-- extra: double (nullable = true)\n",
      " |-- mta_tax: double (nullable = true)\n",
      " |-- tip_amount: double (nullable = true)\n",
      " |-- tolls_amount: double (nullable = true)\n",
      " |-- improvement_surcharge: double (nullable = true)\n",
      " |-- total_amount: double (nullable = true)\n",
      " |-- congestion_surcharge: double (nullable = true)\n",
      " |-- airport_fee: double (nullable = true)\n",
      "\n"
     ]
    }
   ],
   "source": [
    "taxi.printSchema()"
   ]
  },
  {
   "cell_type": "code",
   "execution_count": 6,
   "id": "e04bc63f-ba75-4580-a90b-73a0b9b4f0ae",
   "metadata": {},
   "outputs": [],
   "source": [
    "# taxi Dataset\n",
    "# renaming a few columns\n",
    "field_name_change = {\"PULocationID\": \"pu_location_id\", \n",
    "                     \"DOLocationID\": \"do_location_id\"}\n",
    "for old, new in field_name_change.items():\n",
    "    taxi = taxi.withColumnRenamed(old, new)\n",
    "    test_taxi = test_taxi.withColumnRenamed(old, new)\n",
    "    \n",
    "# converting columns type\n",
    "for field in ('pu_location_id', 'do_location_id'):\n",
    "    taxi = taxi.withColumn(\n",
    "                field,\n",
    "                F.col(field).cast('INT')\n",
    "             )\n",
    "    test_taxi = test_taxi.withColumn(\n",
    "                field,\n",
    "                F.col(field).cast('INT')\n",
    "             )"
   ]
  },
  {
   "cell_type": "code",
   "execution_count": 7,
   "id": "489d14e9-9fd2-4667-be7c-70a7b3ec0816",
   "metadata": {},
   "outputs": [],
   "source": [
    "columns_interest = ['tpep_pickup_datetime', 'tpep_dropoff_datetime', \n",
    "                    'pu_location_id', 'do_location_id', 'total_amount']\n",
    "taxi = taxi[columns_interest]\n",
    "test_taxi = test_taxi[columns_interest]\n",
    "\n",
    "weather_col_interest = ['DATE', 'TMP', 'DEW', 'AA1', 'WND', 'MA1', 'VIS']\n",
    "weather = weather[weather_col_interest]\n",
    "test_weather = test_weather[weather_col_interest]"
   ]
  },
  {
   "cell_type": "code",
   "execution_count": 8,
   "id": "d52b878c-cce2-4f72-9d16-8fe9259d7c81",
   "metadata": {},
   "outputs": [
    {
     "name": "stderr",
     "output_type": "stream",
     "text": [
      "                                                                                \r"
     ]
    },
    {
     "data": {
      "text/plain": [
       "(27170, 187469831)"
      ]
     },
     "execution_count": 8,
     "metadata": {},
     "output_type": "execute_result"
    }
   ],
   "source": [
    "weather.count(), taxi.count()"
   ]
  },
  {
   "cell_type": "code",
   "execution_count": 9,
   "id": "36bf046c-c702-48a1-8d44-79d93f86c027",
   "metadata": {},
   "outputs": [
    {
     "name": "stdout",
     "output_type": "stream",
     "text": [
      "root\n",
      " |-- tpep_pickup_datetime: timestamp (nullable = true)\n",
      " |-- tpep_dropoff_datetime: timestamp (nullable = true)\n",
      " |-- pu_location_id: integer (nullable = true)\n",
      " |-- do_location_id: integer (nullable = true)\n",
      " |-- total_amount: double (nullable = true)\n",
      "\n"
     ]
    }
   ],
   "source": [
    "taxi.printSchema()"
   ]
  },
  {
   "cell_type": "code",
   "execution_count": 10,
   "id": "577bcd4d-87bf-4336-9617-db6812f893c3",
   "metadata": {},
   "outputs": [
    {
     "name": "stdout",
     "output_type": "stream",
     "text": [
      "root\n",
      " |-- DATE: string (nullable = true)\n",
      " |-- TMP: string (nullable = true)\n",
      " |-- DEW: string (nullable = true)\n",
      " |-- AA1: string (nullable = true)\n",
      " |-- WND: string (nullable = true)\n",
      " |-- MA1: string (nullable = true)\n",
      " |-- VIS: string (nullable = true)\n",
      "\n"
     ]
    }
   ],
   "source": [
    "weather.printSchema()"
   ]
  },
  {
   "cell_type": "code",
   "execution_count": 11,
   "id": "316f0dcb-dc7e-4848-ac3d-1a54ca6766a5",
   "metadata": {},
   "outputs": [
    {
     "data": {
      "text/html": [
       "<table border='1'>\n",
       "<tr><th>DATE</th><th>TMP</th><th>DEW</th><th>AA1</th><th>WND</th><th>MA1</th><th>VIS</th></tr>\n",
       "<tr><td>2018-01-01T00:00:00</td><td>-0111,1</td><td>-0200,1</td><td>null</td><td>310,1,N,0093,1</td><td>99999,9,10259,1</td><td>016000,1,9,9</td></tr>\n",
       "<tr><td>2018-01-01T00:51:00</td><td>-0117,5</td><td>-0200,5</td><td>01,0000,9,5</td><td>320,5,N,0067,5</td><td>10271,5,10262,5</td><td>016093,5,N,5</td></tr>\n",
       "<tr><td>2018-01-01T01:51:00</td><td>-0117,5</td><td>-0206,5</td><td>01,0000,9,5</td><td>330,5,N,0093,5</td><td>10271,5,10262,5</td><td>016093,5,N,5</td></tr>\n",
       "<tr><td>2018-01-01T02:51:00</td><td>-0122,5</td><td>-0200,5</td><td>01,0000,9,5</td><td>310,5,N,0093,5</td><td>10271,5,10262,5</td><td>016093,5,N,5</td></tr>\n",
       "<tr><td>2018-01-01T03:00:00</td><td>-0122,1</td><td>-0200,1</td><td>null</td><td>310,1,N,0093,1</td><td>99999,9,10259,1</td><td>016000,1,9,9</td></tr>\n",
       "</table>\n"
      ],
      "text/plain": [
       "+-------------------+-------+-------+-----------+--------------+---------------+------------+\n",
       "|               DATE|    TMP|    DEW|        AA1|           WND|            MA1|         VIS|\n",
       "+-------------------+-------+-------+-----------+--------------+---------------+------------+\n",
       "|2018-01-01T00:00:00|-0111,1|-0200,1|       null|310,1,N,0093,1|99999,9,10259,1|016000,1,9,9|\n",
       "|2018-01-01T00:51:00|-0117,5|-0200,5|01,0000,9,5|320,5,N,0067,5|10271,5,10262,5|016093,5,N,5|\n",
       "|2018-01-01T01:51:00|-0117,5|-0206,5|01,0000,9,5|330,5,N,0093,5|10271,5,10262,5|016093,5,N,5|\n",
       "|2018-01-01T02:51:00|-0122,5|-0200,5|01,0000,9,5|310,5,N,0093,5|10271,5,10262,5|016093,5,N,5|\n",
       "|2018-01-01T03:00:00|-0122,1|-0200,1|       null|310,1,N,0093,1|99999,9,10259,1|016000,1,9,9|\n",
       "+-------------------+-------+-------+-----------+--------------+---------------+------------+"
      ]
     },
     "execution_count": 11,
     "metadata": {},
     "output_type": "execute_result"
    }
   ],
   "source": [
    "weather.limit(5)"
   ]
  },
  {
   "cell_type": "code",
   "execution_count": 12,
   "id": "5dc01fb2-8645-4ed7-a9c3-fef577491635",
   "metadata": {},
   "outputs": [],
   "source": [
    "# Weather Dataset\n",
    "\n",
    "# change column names\n",
    "field_name_change = {\"DATE\": \"date_time\", \"TMP\": \"temperature\",\n",
    "                     \"DEW\": \"dew_point\", \"AA1\": \"precipitation\", \n",
    "                     \"WND\": \"wind_direction\", \"MA1\": \"pressure\",\n",
    "                     \"VIS\": \"visibility\"}\n",
    "for old, new in field_name_change.items():\n",
    "    weather = weather.withColumnRenamed(old, new)\n",
    "    test_weather = test_weather.withColumnRenamed(old, new)\n",
    "\n",
    "# change column data types\n",
    "weather = weather.withColumn('date_time', F.col(\"date_time\").cast('TIMESTAMP'))\n",
    "test_weather = test_weather.withColumn('date_time', F.col(\"date_time\").cast('TIMESTAMP'))\n",
    "\n",
    "for field in ('temperature', 'dew_point'):\n",
    "    weather = weather.withColumn(field, \n",
    "                                 concat(weather[field].substr(1, 1), \n",
    "                                        weather[field].substr(2, 4), \n",
    "                                        lit('.'),weather[field].substr(7, 1)) \\\n",
    "                                 .cast('double'))\n",
    "    test_weather = test_weather.withColumn(field, \n",
    "                                 concat(test_weather[field].substr(1, 1), \n",
    "                                        test_weather[field].substr(2, 4), \n",
    "                                        lit('.'),test_weather[field].substr(7, 1)) \\\n",
    "                                 .cast('double'))\n",
    "\n",
    "for field in (['wind_direction', 'visibility']):\n",
    "    weather = weather.withColumn(field, \n",
    "                                 split(weather[field], ',') \\\n",
    "                                 .getItem(0).cast('INT'))\n",
    "    test_weather = test_weather.withColumn(field, \n",
    "                                 split(test_weather[field], ',') \\\n",
    "                                 .getItem(0).cast('INT'))\n",
    "\n",
    "weather = weather.withColumn('precipitation', \n",
    "                             split(weather['precipitation'], ',') \\\n",
    "                             .getItem(1).cast('INT'))\n",
    "test_weather = test_weather.withColumn('precipitation', \n",
    "                             split(test_weather['precipitation'], ',') \\\n",
    "                             .getItem(1).cast('INT'))\n",
    "\n",
    "weather = weather.withColumn('pressure', \n",
    "                             split(weather['pressure'], ',') \\\n",
    "                             .getItem(2).cast('INT'))\n",
    "test_weather = test_weather.withColumn('pressure', \n",
    "                             split(test_weather['pressure'], ',') \\\n",
    "                             .getItem(2).cast('INT'))\n",
    "\n"
   ]
  },
  {
   "cell_type": "code",
   "execution_count": 13,
   "id": "7394b3f3-1966-4639-946d-c08c15e708c0",
   "metadata": {},
   "outputs": [
    {
     "data": {
      "text/html": [
       "<table border='1'>\n",
       "<tr><th>date_time</th><th>temperature</th><th>dew_point</th><th>precipitation</th><th>wind_direction</th><th>pressure</th><th>visibility</th></tr>\n",
       "<tr><td>2018-01-01 00:00:00</td><td>-111.1</td><td>-200.1</td><td>null</td><td>310</td><td>10259</td><td>16000</td></tr>\n",
       "<tr><td>2018-01-01 00:51:00</td><td>-117.5</td><td>-200.5</td><td>0</td><td>320</td><td>10262</td><td>16093</td></tr>\n",
       "<tr><td>2018-01-01 01:51:00</td><td>-117.5</td><td>-206.5</td><td>0</td><td>330</td><td>10262</td><td>16093</td></tr>\n",
       "<tr><td>2018-01-01 02:51:00</td><td>-122.5</td><td>-200.5</td><td>0</td><td>310</td><td>10262</td><td>16093</td></tr>\n",
       "<tr><td>2018-01-01 03:00:00</td><td>-122.1</td><td>-200.1</td><td>null</td><td>310</td><td>10259</td><td>16000</td></tr>\n",
       "</table>\n"
      ],
      "text/plain": [
       "+-------------------+-----------+---------+-------------+--------------+--------+----------+\n",
       "|          date_time|temperature|dew_point|precipitation|wind_direction|pressure|visibility|\n",
       "+-------------------+-----------+---------+-------------+--------------+--------+----------+\n",
       "|2018-01-01 00:00:00|     -111.1|   -200.1|         null|           310|   10259|     16000|\n",
       "|2018-01-01 00:51:00|     -117.5|   -200.5|            0|           320|   10262|     16093|\n",
       "|2018-01-01 01:51:00|     -117.5|   -206.5|            0|           330|   10262|     16093|\n",
       "|2018-01-01 02:51:00|     -122.5|   -200.5|            0|           310|   10262|     16093|\n",
       "|2018-01-01 03:00:00|     -122.1|   -200.1|         null|           310|   10259|     16000|\n",
       "+-------------------+-----------+---------+-------------+--------------+--------+----------+"
      ]
     },
     "execution_count": 13,
     "metadata": {},
     "output_type": "execute_result"
    }
   ],
   "source": [
    "weather.limit(5)"
   ]
  },
  {
   "cell_type": "markdown",
   "id": "db7d71db-ab2b-49fd-a132-3c2799182ef2",
   "metadata": {
    "tags": []
   },
   "source": [
    "---\n",
    "# Weather Data Cleaning\n",
    "#### 1. Change 9s to null"
   ]
  },
  {
   "cell_type": "code",
   "execution_count": 14,
   "id": "52b0ae4c-4a90-418b-89af-9c34aa9f9eae",
   "metadata": {},
   "outputs": [
    {
     "data": {
      "text/html": [
       "<table border='1'>\n",
       "<tr><th>date_time</th><th>temperature</th><th>dew_point</th><th>precipitation</th><th>wind_direction</th><th>pressure</th><th>visibility</th></tr>\n",
       "<tr><td>2018-01-01 04:59:00</td><td>9999.9</td><td>9999.9</td><td>0</td><td>999</td><td>null</td><td>999999</td></tr>\n",
       "<tr><td>2018-01-01 04:59:00</td><td>9999.9</td><td>9999.9</td><td>null</td><td>999</td><td>null</td><td>999999</td></tr>\n",
       "<tr><td>2018-01-02 04:59:00</td><td>9999.9</td><td>9999.9</td><td>0</td><td>999</td><td>null</td><td>999999</td></tr>\n",
       "<tr><td>2018-01-03 04:59:00</td><td>9999.9</td><td>9999.9</td><td>0</td><td>999</td><td>null</td><td>999999</td></tr>\n",
       "<tr><td>2018-01-04 04:59:00</td><td>9999.9</td><td>9999.9</td><td>0</td><td>999</td><td>null</td><td>999999</td></tr>\n",
       "</table>\n"
      ],
      "text/plain": [
       "+-------------------+-----------+---------+-------------+--------------+--------+----------+\n",
       "|          date_time|temperature|dew_point|precipitation|wind_direction|pressure|visibility|\n",
       "+-------------------+-----------+---------+-------------+--------------+--------+----------+\n",
       "|2018-01-01 04:59:00|     9999.9|   9999.9|            0|           999|    null|    999999|\n",
       "|2018-01-01 04:59:00|     9999.9|   9999.9|         null|           999|    null|    999999|\n",
       "|2018-01-02 04:59:00|     9999.9|   9999.9|            0|           999|    null|    999999|\n",
       "|2018-01-03 04:59:00|     9999.9|   9999.9|            0|           999|    null|    999999|\n",
       "|2018-01-04 04:59:00|     9999.9|   9999.9|            0|           999|    null|    999999|\n",
       "+-------------------+-----------+---------+-------------+--------------+--------+----------+"
      ]
     },
     "execution_count": 14,
     "metadata": {},
     "output_type": "execute_result"
    }
   ],
   "source": [
    "# found many entries where there are 9s in multiple columns\n",
    "# documentation stated these are missing values\n",
    "weather.filter(F.col('visibility') == 999999).limit(5)"
   ]
  },
  {
   "cell_type": "code",
   "execution_count": 15,
   "id": "5ab3d663-e1aa-4879-9baa-daaf9c043c8e",
   "metadata": {},
   "outputs": [],
   "source": [
    "# set features to null when equals to 9s\n",
    "miss_values = {\"precipitation\": 9999, \"temperature\": 9999.9, \n",
    "               \"dew_point\": 9999.9, \"wind_direction\": 999, \n",
    "               \"pressure\": 99999, \"visibility\":999999}\n",
    "for field, val in miss_values.items():\n",
    "    weather = weather.withColumn(field, \n",
    "                             when(col(field) == val, None) \\\n",
    "                             .otherwise(col(field)))\n",
    "    test_weather = test_weather.withColumn(field, \n",
    "                             when(col(field) == val, None) \\\n",
    "                             .otherwise(col(field)))"
   ]
  },
  {
   "cell_type": "markdown",
   "id": "a6656330-9779-4373-8ad0-379e44699063",
   "metadata": {},
   "source": [
    "#### 2. Fill null values by using the median of 6 hours timeframe segment"
   ]
  },
  {
   "cell_type": "code",
   "execution_count": 16,
   "id": "da072787-d58a-48b6-81a6-27abacb7ef05",
   "metadata": {},
   "outputs": [
    {
     "data": {
      "text/plain": [
       "<bound method DataFrame.count of +-------------------+-----------+---------+-------------+--------------+--------+----------+\n",
       "|          date_time|temperature|dew_point|precipitation|wind_direction|pressure|visibility|\n",
       "+-------------------+-----------+---------+-------------+--------------+--------+----------+\n",
       "|2018-01-01 00:00:00|     -111.1|   -200.1|         null|           310|   10259|     16000|\n",
       "|2018-01-01 00:51:00|     -117.5|   -200.5|            0|           320|   10262|     16093|\n",
       "|2018-01-01 01:51:00|     -117.5|   -206.5|            0|           330|   10262|     16093|\n",
       "|2018-01-01 02:51:00|     -122.5|   -200.5|            0|           310|   10262|     16093|\n",
       "|2018-01-01 03:00:00|     -122.1|   -200.1|         null|           310|   10259|     16000|\n",
       "|2018-01-01 03:51:00|     -122.5|   -194.5|            0|           310|   10266|     16093|\n",
       "|2018-01-01 04:51:00|     -128.5|   -194.5|            0|           330|   10262|     16093|\n",
       "|2018-01-01 04:59:00|       null|     null|            0|          null|    null|      null|\n",
       "|2018-01-01 04:59:00|       null|     null|         null|          null|    null|      null|\n",
       "|2018-01-01 05:51:00|     -128.5|   -194.5|            0|           330|   10266|     16093|\n",
       "|2018-01-01 06:00:00|     -128.1|   -194.1|         null|           330|   10263|     16000|\n",
       "|2018-01-01 06:51:00|     -133.5|   -194.5|            0|           310|   10269|     16093|\n",
       "|2018-01-01 07:51:00|     -133.5|   -200.5|            0|           330|   10269|     16093|\n",
       "|2018-01-01 08:51:00|     -133.5|   -200.5|            0|           310|   10266|     16093|\n",
       "|2018-01-01 09:00:00|     -133.1|   -200.1|         null|           310|   10263|     16000|\n",
       "|2018-01-01 09:51:00|     -139.5|   -206.5|            0|           320|   10269|     16093|\n",
       "|2018-01-01 10:51:00|     -139.5|   -206.5|            0|           310|   10273|     16093|\n",
       "|2018-01-01 11:51:00|     -139.5|   -206.5|            0|           310|   10276|     16093|\n",
       "|2018-01-01 12:00:00|     -139.1|   -206.1|         null|           310|   10273|     16000|\n",
       "|2018-01-01 12:51:00|     -133.5|   -206.5|            0|           320|   10279|     16093|\n",
       "+-------------------+-----------+---------+-------------+--------------+--------+----------+\n",
       "only showing top 20 rows\n",
       ">"
      ]
     },
     "execution_count": 16,
     "metadata": {},
     "output_type": "execute_result"
    }
   ],
   "source": [
    "weather.count"
   ]
  },
  {
   "cell_type": "code",
   "execution_count": 17,
   "id": "5e169d3d-9e80-4228-b696-6265805c4058",
   "metadata": {},
   "outputs": [
    {
     "data": {
      "text/plain": [
       "{'date_time': 0,\n",
       " 'temperature': 776,\n",
       " 'dew_point': 777,\n",
       " 'precipitation': 6214,\n",
       " 'wind_direction': 1880,\n",
       " 'pressure': 962,\n",
       " 'visibility': 756}"
      ]
     },
     "execution_count": 17,
     "metadata": {},
     "output_type": "execute_result"
    }
   ],
   "source": [
    "dict_null = {col:weather.filter(weather[col].isNull()).count() \n",
    "             for col in weather.columns}\n",
    "dict_null"
   ]
  },
  {
   "cell_type": "code",
   "execution_count": 18,
   "id": "635e8574-8b67-426c-9a9f-47ba2082dca8",
   "metadata": {},
   "outputs": [
    {
     "data": {
      "text/plain": [
       "27170"
      ]
     },
     "execution_count": 18,
     "metadata": {},
     "output_type": "execute_result"
    }
   ],
   "source": [
    "weather.count()"
   ]
  },
  {
   "cell_type": "code",
   "execution_count": 19,
   "id": "a8ec1e08-1e97-41a1-b256-1e48ed249a00",
   "metadata": {},
   "outputs": [],
   "source": [
    "weather = weather.withColumn(\n",
    "    \"DATE\",\n",
    "    to_date(col(\"date_time\"),\"yyyy-MM-dd\")\n",
    ")\n",
    "test_weather = test_weather.withColumn(\n",
    "    \"DATE\",\n",
    "    to_date(col(\"date_time\"),\"yyyy-MM-dd\")\n",
    ")\n",
    "\n",
    "weather = weather.withColumn('hour', hour(weather.date_time))\n",
    "test_weather = test_weather.withColumn('hour', hour(test_weather.date_time))\n"
   ]
  },
  {
   "cell_type": "code",
   "execution_count": 20,
   "id": "948c916e-944f-4b99-868b-40331d6c0fb8",
   "metadata": {},
   "outputs": [],
   "source": [
    "# partition 24 hours into group of 6 (4 hours each)\n",
    "segment = {}\n",
    "seg = 0\n",
    "for h in range(0, 24):\n",
    "    if h % 6 == 0:\n",
    "        seg += 1\n",
    "    segment[h] = seg\n",
    "\n",
    "# map dictionary to a new column in weather dataframe\n",
    "mapping_expr = create_map([lit(x) for x in chain(*segment.items())])\n",
    "\n",
    "weather = weather.withColumn(\"time_segment\", mapping_expr[col(\"hour\")])\n",
    "test_weather = test_weather.withColumn(\"time_segment\", mapping_expr[col(\"hour\")])"
   ]
  },
  {
   "cell_type": "code",
   "execution_count": 21,
   "id": "e4ccdaf9-9e53-486b-85e2-9f198ee87847",
   "metadata": {},
   "outputs": [
    {
     "data": {
      "text/plain": [
       "['date_time',\n",
       " 'temperature',\n",
       " 'dew_point',\n",
       " 'precipitation',\n",
       " 'wind_direction',\n",
       " 'pressure',\n",
       " 'visibility',\n",
       " 'DATE',\n",
       " 'hour',\n",
       " 'time_segment']"
      ]
     },
     "execution_count": 21,
     "metadata": {},
     "output_type": "execute_result"
    }
   ],
   "source": [
    "weather.columns"
   ]
  },
  {
   "cell_type": "code",
   "execution_count": 22,
   "id": "7e7285a2-62ed-4dea-ab55-ab90f7c97112",
   "metadata": {},
   "outputs": [],
   "source": [
    "window = Window.partitionBy([\"date\", \"time_segment\"]).orderBy(\"date\")\n",
    "\n",
    "fields = ['temperature', 'dew_point', 'precipitation', \n",
    "          'wind_direction', 'visibility', 'pressure']\n",
    "\n",
    "for field in fields:\n",
    "    weather = (\n",
    "        weather.withColumn(\"median\", F.expr(f'percentile_approx({field}, 0.5)').over(window)) \\\n",
    "            .withColumn(field, F.when(F.col(field).isNull(), \n",
    "                                              F.col(\"median\")) \\\n",
    "                        .otherwise(F.col(field))).drop(\"median\")\n",
    "    )\n",
    "    test_weather = (\n",
    "        test_weather.withColumn(\"median\", F.expr(f'percentile_approx({field}, 0.5)').over(window)) \\\n",
    "            .withColumn(field, F.when(F.col(field).isNull(), \n",
    "                                              F.col(\"median\")) \\\n",
    "                        .otherwise(F.col(field))).drop(\"median\")\n",
    "    )\n"
   ]
  },
  {
   "cell_type": "code",
   "execution_count": 23,
   "id": "507f36c0-b99e-49e1-8633-a64eb086fc4e",
   "metadata": {},
   "outputs": [
    {
     "data": {
      "text/plain": [
       "{'date_time': 0,\n",
       " 'temperature': 0,\n",
       " 'dew_point': 0,\n",
       " 'precipitation': 32,\n",
       " 'wind_direction': 0,\n",
       " 'pressure': 0,\n",
       " 'visibility': 0,\n",
       " 'DATE': 0,\n",
       " 'hour': 0,\n",
       " 'time_segment': 0}"
      ]
     },
     "execution_count": 23,
     "metadata": {},
     "output_type": "execute_result"
    }
   ],
   "source": [
    "dict_null = {col:weather.filter(weather[col].isNull()).count() \n",
    "             for col in weather.columns}\n",
    "dict_null"
   ]
  },
  {
   "cell_type": "code",
   "execution_count": 24,
   "id": "4cbe061c-a3b1-4209-8d9a-0464c77ed2f8",
   "metadata": {},
   "outputs": [
    {
     "data": {
      "text/plain": [
       "{'date_time': 0,\n",
       " 'temperature': 0,\n",
       " 'dew_point': 0,\n",
       " 'precipitation': 172,\n",
       " 'wind_direction': 8,\n",
       " 'pressure': 0,\n",
       " 'visibility': 0,\n",
       " 'DATE': 0,\n",
       " 'hour': 0,\n",
       " 'time_segment': 0}"
      ]
     },
     "execution_count": 24,
     "metadata": {},
     "output_type": "execute_result"
    }
   ],
   "source": [
    "dict_null = {col:test_weather.filter(test_weather[col].isNull()).count() \n",
    "             for col in test_weather.columns}\n",
    "dict_null"
   ]
  },
  {
   "cell_type": "code",
   "execution_count": 25,
   "id": "130adeed-aab0-42cf-88a0-ae72302e7d31",
   "metadata": {},
   "outputs": [
    {
     "data": {
      "text/html": [
       "<table border='1'>\n",
       "<tr><th>DATE</th><th>count(date_time)</th></tr>\n",
       "<tr><td>2020-11-09</td><td>8</td></tr>\n",
       "</table>\n"
      ],
      "text/plain": [
       "+----------+----------------+\n",
       "|      DATE|count(date_time)|\n",
       "+----------+----------------+\n",
       "|2020-11-09|               8|\n",
       "+----------+----------------+"
      ]
     },
     "execution_count": 25,
     "metadata": {},
     "output_type": "execute_result"
    }
   ],
   "source": [
    "test_weather.filter(test_weather['wind_direction'].isNull()).groupby('DATE').agg({'date_time':'count'})"
   ]
  },
  {
   "cell_type": "code",
   "execution_count": 26,
   "id": "d8b9d91d-648b-44f4-a270-47d76881e39c",
   "metadata": {},
   "outputs": [
    {
     "data": {
      "text/html": [
       "<table border='1'>\n",
       "<tr><th>DATE</th><th>count(date_time)</th></tr>\n",
       "<tr><td>2020-09-07</td><td>24</td></tr>\n",
       "<tr><td>2020-09-09</td><td>24</td></tr>\n",
       "<tr><td>2020-09-11</td><td>24</td></tr>\n",
       "<tr><td>2020-09-08</td><td>25</td></tr>\n",
       "<tr><td>2020-09-12</td><td>24</td></tr>\n",
       "<tr><td>2020-09-14</td><td>24</td></tr>\n",
       "<tr><td>2020-09-10</td><td>27</td></tr>\n",
       "</table>\n"
      ],
      "text/plain": [
       "+----------+----------------+\n",
       "|      DATE|count(date_time)|\n",
       "+----------+----------------+\n",
       "|2020-09-07|              24|\n",
       "|2020-09-09|              24|\n",
       "|2020-09-11|              24|\n",
       "|2020-09-08|              25|\n",
       "|2020-09-12|              24|\n",
       "|2020-09-14|              24|\n",
       "|2020-09-10|              27|\n",
       "+----------+----------------+"
      ]
     },
     "execution_count": 26,
     "metadata": {},
     "output_type": "execute_result"
    }
   ],
   "source": [
    "test_weather.filter(test_weather['precipitation'].isNull()).groupby('DATE').agg({'date_time':'count'})"
   ]
  },
  {
   "cell_type": "markdown",
   "id": "9852432d-87db-49b4-b6e3-eb1de61c482a",
   "metadata": {},
   "source": [
    "This null values dates does not matter since we will only merge with Jan-2020 taxi data"
   ]
  },
  {
   "cell_type": "code",
   "execution_count": 27,
   "id": "300acf70-597e-48dc-8ddb-371279c35f0a",
   "metadata": {},
   "outputs": [
    {
     "data": {
      "text/html": [
       "<table border='1'>\n",
       "<tr><th>DATE</th><th>hour</th><th>count(date_time)</th></tr>\n",
       "<tr><td>2020-09-07</td><td>6</td><td>2</td></tr>\n",
       "<tr><td>2020-09-07</td><td>7</td><td>1</td></tr>\n",
       "<tr><td>2020-09-07</td><td>8</td><td>1</td></tr>\n",
       "<tr><td>2020-09-07</td><td>9</td><td>2</td></tr>\n",
       "<tr><td>2020-09-07</td><td>10</td><td>1</td></tr>\n",
       "<tr><td>2020-09-07</td><td>11</td><td>1</td></tr>\n",
       "<tr><td>2020-09-07</td><td>12</td><td>2</td></tr>\n",
       "<tr><td>2020-09-07</td><td>13</td><td>1</td></tr>\n",
       "<tr><td>2020-09-07</td><td>14</td><td>1</td></tr>\n",
       "<tr><td>2020-09-07</td><td>15</td><td>2</td></tr>\n",
       "<tr><td>2020-09-07</td><td>16</td><td>1</td></tr>\n",
       "<tr><td>2020-09-07</td><td>17</td><td>1</td></tr>\n",
       "<tr><td>2020-09-07</td><td>18</td><td>2</td></tr>\n",
       "<tr><td>2020-09-07</td><td>19</td><td>1</td></tr>\n",
       "<tr><td>2020-09-07</td><td>20</td><td>1</td></tr>\n",
       "<tr><td>2020-09-07</td><td>21</td><td>2</td></tr>\n",
       "<tr><td>2020-09-07</td><td>22</td><td>1</td></tr>\n",
       "<tr><td>2020-09-07</td><td>23</td><td>1</td></tr>\n",
       "<tr><td>2020-09-08</td><td>6</td><td>2</td></tr>\n",
       "<tr><td>2020-09-08</td><td>7</td><td>1</td></tr>\n",
       "</table>\n",
       "only showing top 20 rows\n"
      ],
      "text/plain": [
       "+----------+----+----------------+\n",
       "|      DATE|hour|count(date_time)|\n",
       "+----------+----+----------------+\n",
       "|2020-09-07|   6|               2|\n",
       "|2020-09-07|   7|               1|\n",
       "|2020-09-07|   8|               1|\n",
       "|2020-09-07|   9|               2|\n",
       "|2020-09-07|  10|               1|\n",
       "|2020-09-07|  11|               1|\n",
       "|2020-09-07|  12|               2|\n",
       "|2020-09-07|  13|               1|\n",
       "|2020-09-07|  14|               1|\n",
       "|2020-09-07|  15|               2|\n",
       "|2020-09-07|  16|               1|\n",
       "|2020-09-07|  17|               1|\n",
       "|2020-09-07|  18|               2|\n",
       "|2020-09-07|  19|               1|\n",
       "|2020-09-07|  20|               1|\n",
       "|2020-09-07|  21|               2|\n",
       "|2020-09-07|  22|               1|\n",
       "|2020-09-07|  23|               1|\n",
       "|2020-09-08|   6|               2|\n",
       "|2020-09-08|   7|               1|\n",
       "+----------+----+----------------+\n",
       "only showing top 20 rows"
      ]
     },
     "execution_count": 27,
     "metadata": {},
     "output_type": "execute_result"
    }
   ],
   "source": [
    "test_weather.filter(test_weather['precipitation'].isNull()).groupby(['DATE','hour']).agg({'date_time':'count'}).orderBy(['DATE','hour'])"
   ]
  },
  {
   "cell_type": "markdown",
   "id": "145fa363-bd52-4406-b9b8-66a29531dec1",
   "metadata": {},
   "source": [
    "It appears that there are 2 wide time gaps where precipitation data are null. By the past weather data from https://www.timeanddate.com/weather/usa/new-york/historic?month=12&year=2019, it appear that there is no rain within these hours. Hence, we will change these null values to 0 mm precipitation."
   ]
  },
  {
   "cell_type": "code",
   "execution_count": 28,
   "id": "e444865a-8df1-44b3-b101-c1323cdb7646",
   "metadata": {},
   "outputs": [],
   "source": [
    "weather = weather.withColumn(\"precipitation\", F.when(F.col(\"precipitation\").isNull(), 0) \\\n",
    "                        .otherwise(F.col(\"precipitation\"))).drop(\"time_segment\")\n"
   ]
  },
  {
   "cell_type": "code",
   "execution_count": 29,
   "id": "d1b78cfb-f798-4d8b-8ba6-3e434eeabc11",
   "metadata": {},
   "outputs": [
    {
     "data": {
      "text/plain": [
       "{'date_time': 0,\n",
       " 'temperature': 0,\n",
       " 'dew_point': 0,\n",
       " 'precipitation': 0,\n",
       " 'wind_direction': 0,\n",
       " 'pressure': 0,\n",
       " 'visibility': 0,\n",
       " 'DATE': 0,\n",
       " 'hour': 0}"
      ]
     },
     "execution_count": 29,
     "metadata": {},
     "output_type": "execute_result"
    }
   ],
   "source": [
    "dict_null = {col:weather.filter(weather[col].isNull()).count() \n",
    "             for col in weather.columns}\n",
    "dict_null"
   ]
  },
  {
   "cell_type": "markdown",
   "id": "4efc5dee-1f5d-4a68-9ba1-33536d59f22d",
   "metadata": {},
   "source": [
    "---\n",
    "# Taxi Data Cleaning\n",
    "#### 1. Remove dates that are outside range"
   ]
  },
  {
   "cell_type": "code",
   "execution_count": 30,
   "id": "3900bf84-6261-450f-b616-d618f47fc651",
   "metadata": {},
   "outputs": [],
   "source": [
    "taxi = taxi.withColumn(\"tpep_pickup_datetime\",\n",
    "                   to_timestamp(col(\"tpep_pickup_datetime\"))) \\\n",
    "         .withColumn(\"pu_year\", date_format(col(\"tpep_pickup_datetime\"), \"y\"))\n",
    "test_taxi = test_taxi.withColumn(\"tpep_pickup_datetime\",\n",
    "                   to_timestamp(col(\"tpep_pickup_datetime\"))) \\\n",
    "         .withColumn(\"pu_year\", date_format(col(\"tpep_pickup_datetime\"), \"y\"))"
   ]
  },
  {
   "cell_type": "code",
   "execution_count": 31,
   "id": "8145a275-cadc-4d50-aeeb-bc14490bf481",
   "metadata": {},
   "outputs": [
    {
     "name": "stderr",
     "output_type": "stream",
     "text": [
      "                                                                                \r"
     ]
    },
    {
     "name": "stdout",
     "output_type": "stream",
     "text": [
      "+-------------------------+\n",
      "|max(tpep_pickup_datetime)|\n",
      "+-------------------------+\n",
      "|      2090-12-31 06:41:26|\n",
      "+-------------------------+\n",
      "\n"
     ]
    },
    {
     "name": "stderr",
     "output_type": "stream",
     "text": [
      "[Stage 232:====================================================>  (23 + 1) / 24]\r"
     ]
    },
    {
     "name": "stdout",
     "output_type": "stream",
     "text": [
      "+-------------------------+\n",
      "|min(tpep_pickup_datetime)|\n",
      "+-------------------------+\n",
      "|      2001-01-01 00:01:48|\n",
      "+-------------------------+\n",
      "\n"
     ]
    },
    {
     "name": "stderr",
     "output_type": "stream",
     "text": [
      "                                                                                \r"
     ]
    }
   ],
   "source": [
    "taxi.agg({'tpep_pickup_datetime': 'max'}).show()\n",
    "taxi.agg({'tpep_pickup_datetime': 'min'}).show()\n"
   ]
  },
  {
   "cell_type": "code",
   "execution_count": 32,
   "id": "e8a548c0-2984-44ac-b725-7b8b8fce1eb1",
   "metadata": {},
   "outputs": [],
   "source": [
    "taxi = taxi.filter(F.col('pu_year').isin([2018, 2019])).drop('pu_year')\n",
    "\n",
    "test_taxi = test_taxi.withColumn(\"tpep_pickup_datetime\",\n",
    "                   to_timestamp(col(\"tpep_pickup_datetime\"))) \\\n",
    "         .withColumn(\"pu_month\", date_format(col(\"tpep_pickup_datetime\"), \"M\"))\n",
    "\n",
    "test_taxi = test_taxi.filter((F.col('pu_year') == 2020) &\n",
    "                             (F.col('pu_month') == 1)).drop('pu_year', 'pu_month')"
   ]
  },
  {
   "cell_type": "markdown",
   "id": "8c525181-aef9-4ed2-9662-30d784a240ba",
   "metadata": {},
   "source": [
    "#### 2. Remove if drop-off timestamp is < pick-up timestamp"
   ]
  },
  {
   "cell_type": "code",
   "execution_count": 33,
   "id": "3abf72e0-48c7-4709-9bf1-7b7a08126ff4",
   "metadata": {},
   "outputs": [],
   "source": [
    "# create new column to calculate taxi duration in seconds\n",
    "taxi = taxi.withColumn(\n",
    "    'trip_duration',\n",
    "    (col(\"tpep_dropoff_datetime\").cast(\"long\") - \n",
    "     col('tpep_pickup_datetime').cast(\"long\")))\n",
    "\n",
    "test_taxi = test_taxi.withColumn(\n",
    "    'trip_duration',\n",
    "    (col(\"tpep_dropoff_datetime\").cast(\"long\") - \n",
    "     col('tpep_pickup_datetime').cast(\"long\")))"
   ]
  },
  {
   "cell_type": "code",
   "execution_count": 34,
   "id": "a60a3e5d-51f7-4b29-9481-44ba8b7d36a2",
   "metadata": {
    "tags": []
   },
   "outputs": [],
   "source": [
    "taxi = taxi.where((F.col('trip_duration') > 0))"
   ]
  },
  {
   "cell_type": "markdown",
   "id": "73ec39c9-5265-4ba7-977d-9807dccd31c2",
   "metadata": {},
   "source": [
    "#### 3. Remove if duration is more than 1 day (do - pu > 18000)"
   ]
  },
  {
   "cell_type": "code",
   "execution_count": 35,
   "id": "c260c7f5-050e-43d4-a72a-595beb5f5478",
   "metadata": {},
   "outputs": [
    {
     "name": "stderr",
     "output_type": "stream",
     "text": [
      "                                                                                \r"
     ]
    },
    {
     "data": {
      "text/html": [
       "<table border='1'>\n",
       "<tr><th>tpep_pickup_datetime</th><th>tpep_dropoff_datetime</th><th>pu_location_id</th><th>do_location_id</th><th>total_amount</th><th>trip_duration</th></tr>\n",
       "<tr><td>2018-03-01 00:02:42</td><td>2018-03-01 23:52:20</td><td>48</td><td>143</td><td>6.8</td><td>85778</td></tr>\n",
       "<tr><td>2018-03-01 00:05:51</td><td>2018-03-01 23:53:55</td><td>234</td><td>232</td><td>14.63</td><td>85684</td></tr>\n",
       "<tr><td>2018-03-01 00:04:21</td><td>2018-03-01 23:28:33</td><td>43</td><td>107</td><td>15.96</td><td>84252</td></tr>\n",
       "<tr><td>2018-03-01 00:34:36</td><td>2018-03-02 00:05:46</td><td>163</td><td>7</td><td>15.8</td><td>84670</td></tr>\n",
       "<tr><td>2018-03-01 00:15:23</td><td>2018-03-01 23:39:52</td><td>114</td><td>79</td><td>6.8</td><td>84269</td></tr>\n",
       "</table>\n"
      ],
      "text/plain": [
       "+--------------------+---------------------+--------------+--------------+------------+-------------+\n",
       "|tpep_pickup_datetime|tpep_dropoff_datetime|pu_location_id|do_location_id|total_amount|trip_duration|\n",
       "+--------------------+---------------------+--------------+--------------+------------+-------------+\n",
       "| 2018-03-01 00:02:42|  2018-03-01 23:52:20|            48|           143|         6.8|        85778|\n",
       "| 2018-03-01 00:05:51|  2018-03-01 23:53:55|           234|           232|       14.63|        85684|\n",
       "| 2018-03-01 00:04:21|  2018-03-01 23:28:33|            43|           107|       15.96|        84252|\n",
       "| 2018-03-01 00:34:36|  2018-03-02 00:05:46|           163|             7|        15.8|        84670|\n",
       "| 2018-03-01 00:15:23|  2018-03-01 23:39:52|           114|            79|         6.8|        84269|\n",
       "+--------------------+---------------------+--------------+--------------+------------+-------------+"
      ]
     },
     "execution_count": 35,
     "metadata": {},
     "output_type": "execute_result"
    }
   ],
   "source": [
    "taxi.where((F.col('trip_duration') > 18000)).limit(5)"
   ]
  },
  {
   "cell_type": "code",
   "execution_count": 36,
   "id": "4bef3415-eee1-4852-bf6e-0eaa03d671f7",
   "metadata": {},
   "outputs": [],
   "source": [
    "taxi = taxi.where((F.col('trip_duration') < 18000))\n",
    "test_taxi = test_taxi.where((F.col('trip_duration') < 18000))"
   ]
  },
  {
   "cell_type": "markdown",
   "id": "1a289cbc-30d2-41ad-b49f-eb871812895f",
   "metadata": {},
   "source": [
    "#### 4. Only select pick up location from Airports"
   ]
  },
  {
   "cell_type": "code",
   "execution_count": 37,
   "id": "eb4b0c44-c559-4fe9-8a3a-676b03991e14",
   "metadata": {},
   "outputs": [],
   "source": [
    "zones = zones.dropna()"
   ]
  },
  {
   "cell_type": "code",
   "execution_count": 38,
   "id": "fb33a3de-3752-49dd-9628-a93a96418d34",
   "metadata": {},
   "outputs": [
    {
     "data": {
      "text/html": [
       "<div>\n",
       "<style scoped>\n",
       "    .dataframe tbody tr th:only-of-type {\n",
       "        vertical-align: middle;\n",
       "    }\n",
       "\n",
       "    .dataframe tbody tr th {\n",
       "        vertical-align: top;\n",
       "    }\n",
       "\n",
       "    .dataframe thead th {\n",
       "        text-align: right;\n",
       "    }\n",
       "</style>\n",
       "<table border=\"1\" class=\"dataframe\">\n",
       "  <thead>\n",
       "    <tr style=\"text-align: right;\">\n",
       "      <th></th>\n",
       "      <th>LocationID</th>\n",
       "      <th>Borough</th>\n",
       "      <th>Zone</th>\n",
       "      <th>service_zone</th>\n",
       "    </tr>\n",
       "  </thead>\n",
       "  <tbody>\n",
       "    <tr>\n",
       "      <th>0</th>\n",
       "      <td>1</td>\n",
       "      <td>EWR</td>\n",
       "      <td>Newark Airport</td>\n",
       "      <td>EWR</td>\n",
       "    </tr>\n",
       "    <tr>\n",
       "      <th>131</th>\n",
       "      <td>132</td>\n",
       "      <td>Queens</td>\n",
       "      <td>JFK Airport</td>\n",
       "      <td>Airports</td>\n",
       "    </tr>\n",
       "    <tr>\n",
       "      <th>137</th>\n",
       "      <td>138</td>\n",
       "      <td>Queens</td>\n",
       "      <td>LaGuardia Airport</td>\n",
       "      <td>Airports</td>\n",
       "    </tr>\n",
       "  </tbody>\n",
       "</table>\n",
       "</div>"
      ],
      "text/plain": [
       "     LocationID Borough               Zone service_zone\n",
       "0             1     EWR     Newark Airport          EWR\n",
       "131         132  Queens        JFK Airport     Airports\n",
       "137         138  Queens  LaGuardia Airport     Airports"
      ]
     },
     "execution_count": 38,
     "metadata": {},
     "output_type": "execute_result"
    }
   ],
   "source": [
    "zones.dropna().loc[zones['Zone'].str.contains('Airport')]"
   ]
  },
  {
   "cell_type": "code",
   "execution_count": 49,
   "id": "425f14c8-beed-47cd-8890-fca5a7b51ccb",
   "metadata": {},
   "outputs": [
    {
     "name": "stderr",
     "output_type": "stream",
     "text": [
      "                                                                                \r"
     ]
    },
    {
     "data": {
      "text/html": [
       "<table border='1'>\n",
       "<tr><th>sum(total_amount)</th><th>count(pu_location_id)</th></tr>\n",
       "<tr><td>5.137615159809384E8</td><td>10308204</td></tr>\n",
       "</table>\n"
      ],
      "text/plain": [
       "+-------------------+---------------------+\n",
       "|  sum(total_amount)|count(pu_location_id)|\n",
       "+-------------------+---------------------+\n",
       "|5.137615159809384E8|             10308204|\n",
       "+-------------------+---------------------+"
      ]
     },
     "execution_count": 49,
     "metadata": {},
     "output_type": "execute_result"
    }
   ],
   "source": [
    "# average selling price for airport pickup trips\n",
    "airport = taxi.where((F.col('pu_location_id').isin([1, 132, 138])))\n",
    "airport.agg({\n",
    "    'total_amount': 'sum',\n",
    "    'pu_location_id': 'count'\n",
    "})"
   ]
  },
  {
   "cell_type": "code",
   "execution_count": 48,
   "id": "55d69eea-ea2c-426e-aaa5-c18f7e21f598",
   "metadata": {},
   "outputs": [
    {
     "name": "stderr",
     "output_type": "stream",
     "text": [
      "                                                                                \r"
     ]
    },
    {
     "data": {
      "text/html": [
       "<table border='1'>\n",
       "<tr><th>sum(total_amount)</th><th>count(pu_location_id)</th></tr>\n",
       "<tr><td>3.297405116683793E9</td><td>186841578</td></tr>\n",
       "</table>\n"
      ],
      "text/plain": [
       "+-------------------+---------------------+\n",
       "|  sum(total_amount)|count(pu_location_id)|\n",
       "+-------------------+---------------------+\n",
       "|3.297405116683793E9|            186841578|\n",
       "+-------------------+---------------------+"
      ]
     },
     "execution_count": 48,
     "metadata": {},
     "output_type": "execute_result"
    }
   ],
   "source": [
    "# average selling price for all taxi trips\n",
    "taxi.agg({\n",
    "    'total_amount': 'sum',\n",
    "    'pu_location_id': 'count'\n",
    "})"
   ]
  },
  {
   "cell_type": "code",
   "execution_count": 53,
   "id": "6ae29817-91e9-489a-b127-6a23a0c08b09",
   "metadata": {},
   "outputs": [
    {
     "data": {
      "text/plain": [
       "15.580782397087725"
      ]
     },
     "execution_count": 53,
     "metadata": {},
     "output_type": "execute_result"
    }
   ],
   "source": [
    "# proportion of airport trip by total_amount \n",
    "5.137615159809384E8/3.297405116683793E9 * 100"
   ]
  },
  {
   "cell_type": "code",
   "execution_count": 54,
   "id": "115a36d4-8bd8-486e-8b72-2716fe10cd2f",
   "metadata": {},
   "outputs": [
    {
     "data": {
      "text/plain": [
       "0.05517082498628865"
      ]
     },
     "execution_count": 54,
     "metadata": {},
     "output_type": "execute_result"
    }
   ],
   "source": [
    "# proportion of airport trip by number of trips \n",
    "\n",
    "10308204/186841578"
   ]
  },
  {
   "cell_type": "code",
   "execution_count": 39,
   "id": "91f32be4-730c-4080-b3da-878d54f0d167",
   "metadata": {},
   "outputs": [],
   "source": [
    "taxi = taxi.where((F.col('pu_location_id').isin([1, 132, 138])))\n",
    "test_taxi = test_taxi.where((F.col('pu_location_id').isin([1, 132, 138])))"
   ]
  },
  {
   "cell_type": "code",
   "execution_count": 40,
   "id": "40d0fbc9-7988-4022-8d9b-71481328ddda",
   "metadata": {},
   "outputs": [
    {
     "name": "stderr",
     "output_type": "stream",
     "text": [
      "                                                                                \r"
     ]
    },
    {
     "data": {
      "text/plain": [
       "10308204"
      ]
     },
     "execution_count": 40,
     "metadata": {},
     "output_type": "execute_result"
    }
   ],
   "source": [
    "taxi.count()"
   ]
  },
  {
   "cell_type": "code",
   "execution_count": 41,
   "id": "26c399ad-9c16-44f5-856f-142fdff72086",
   "metadata": {},
   "outputs": [
    {
     "name": "stderr",
     "output_type": "stream",
     "text": [
      "                                                                                \r"
     ]
    },
    {
     "data": {
      "text/plain": [
       "346338"
      ]
     },
     "execution_count": 41,
     "metadata": {},
     "output_type": "execute_result"
    }
   ],
   "source": [
    "test_taxi.count()"
   ]
  },
  {
   "cell_type": "markdown",
   "id": "7d2dac45-009d-4332-aafe-19e648c88928",
   "metadata": {},
   "source": [
    "#### 5. Check for null values"
   ]
  },
  {
   "cell_type": "code",
   "execution_count": 42,
   "id": "57eac845-87fb-42d6-8f25-aca2655d995b",
   "metadata": {},
   "outputs": [
    {
     "name": "stderr",
     "output_type": "stream",
     "text": [
      "                                                                                \r"
     ]
    },
    {
     "data": {
      "text/plain": [
       "{'tpep_pickup_datetime': 0,\n",
       " 'tpep_dropoff_datetime': 0,\n",
       " 'pu_location_id': 0,\n",
       " 'do_location_id': 0,\n",
       " 'total_amount': 0,\n",
       " 'trip_duration': 0}"
      ]
     },
     "execution_count": 42,
     "metadata": {},
     "output_type": "execute_result"
    }
   ],
   "source": [
    "dict_null = {col:taxi.filter(taxi[col].isNull()).count() for col in taxi.columns}\n",
    "dict_null"
   ]
  },
  {
   "cell_type": "code",
   "execution_count": 43,
   "id": "64e611d7-7a1f-492c-853f-4ba4645edcaf",
   "metadata": {},
   "outputs": [
    {
     "name": "stderr",
     "output_type": "stream",
     "text": [
      "                                                                                \r"
     ]
    },
    {
     "data": {
      "text/plain": [
       "{'tpep_pickup_datetime': 0,\n",
       " 'tpep_dropoff_datetime': 0,\n",
       " 'pu_location_id': 0,\n",
       " 'do_location_id': 0,\n",
       " 'total_amount': 0,\n",
       " 'trip_duration': 0}"
      ]
     },
     "execution_count": 43,
     "metadata": {},
     "output_type": "execute_result"
    }
   ],
   "source": [
    "dict_null = {col:test_taxi.filter(test_taxi[col].isNull()).count() for col in test_taxi.columns}\n",
    "dict_null"
   ]
  },
  {
   "cell_type": "markdown",
   "id": "43ded502-c307-4618-b7c3-e6b570814cf7",
   "metadata": {},
   "source": [
    "---\n",
    "# Create new features"
   ]
  },
  {
   "cell_type": "markdown",
   "id": "629e7e8a-d908-4bb4-aa4b-f3e665dd6755",
   "metadata": {},
   "source": [
    "#### 1. From existing taxi dataset"
   ]
  },
  {
   "cell_type": "code",
   "execution_count": 44,
   "id": "db309377-aefa-4eef-ba46-2887d4978a41",
   "metadata": {},
   "outputs": [],
   "source": [
    "# create new column pickup day of week\n",
    "for abbr in ('pu', 'do'):\n",
    "    if abbr == 'pu':\n",
    "        long = \"pickup\"\n",
    "    else:\n",
    "        long = \"dropoff\"\n",
    "    taxi = taxi.withColumn(f\"tpep_{long}_datetime\",\n",
    "                       to_timestamp(col(f\"tpep_{long}_datetime\"))) \\\n",
    "             .withColumn(f\"{abbr}_dow\", dayofweek(col(f\"tpep_{long}_datetime\")))\n",
    "    # create new column pickup hour\n",
    "    taxi = taxi.withColumn(f'{abbr}_hour', hour(taxi[f'tpep_{long}_datetime']))\n",
    "    # create helper column pickup date format\n",
    "    taxi = taxi.withColumn(\n",
    "                            f\"{abbr}_date\",\n",
    "                            to_date(col(f\"tpep_{long}_datetime\"),\"yyyy-MM-dd\")\n",
    "                          )\n",
    "    \n",
    "    \n",
    "    test_taxi = test_taxi.withColumn(f\"tpep_{long}_datetime\",\n",
    "                       to_timestamp(col(f\"tpep_{long}_datetime\"))) \\\n",
    "             .withColumn(f\"{abbr}_dow\", dayofweek(col(f\"tpep_{long}_datetime\")))\n",
    "    # create new column pickup hour\n",
    "    test_taxi = test_taxi.withColumn(f'{abbr}_hour', hour(test_taxi[f'tpep_{long}_datetime']))\n",
    "    test_taxi = test_taxi.withColumn(\n",
    "                            f\"{abbr}_date\",\n",
    "                            to_date(col(f\"tpep_{long}_datetime\"),\"yyyy-MM-dd\")\n",
    "                          )\n",
    "\n"
   ]
  },
  {
   "cell_type": "markdown",
   "id": "52af62f2-fae5-42a3-8e17-de67ea77c46d",
   "metadata": {},
   "source": [
    "#### 2a. From external dataset (School Holidays)"
   ]
  },
  {
   "cell_type": "code",
   "execution_count": 45,
   "id": "a4fb27e7-0557-4812-b21a-3a70d001ddd0",
   "metadata": {},
   "outputs": [],
   "source": [
    "sch_hol = pd.read_csv(\"../data/raw/other_data/nyc_school_holiday.csv\", sep=\";\")\n",
    "sch_hol['DATE'] = pd.to_datetime(sch_hol['DATE'], format='%d/%m/%y')\n",
    "sch_hol_date = sch_hol['DATE'].dt.date.tolist()\n",
    "\n",
    "# create new column to identify if that day is school holiday\n",
    "taxi = taxi.withColumn(\n",
    "    'is_school_holiday',\n",
    "    F.when(\n",
    "        (F.col('pu_date').isin(sch_hol_date)),\n",
    "        1\n",
    "    ).otherwise(0)\n",
    ")\n",
    "\n",
    "test_taxi = test_taxi.withColumn(\n",
    "    'is_school_holiday',\n",
    "    F.when(\n",
    "        (F.col('pu_date').isin(sch_hol_date)),\n",
    "        1\n",
    "    ).otherwise(0)\n",
    ")"
   ]
  },
  {
   "cell_type": "code",
   "execution_count": 46,
   "id": "a9ab3b39-b378-4987-801a-24c9957824cb",
   "metadata": {},
   "outputs": [
    {
     "data": {
      "text/html": [
       "<div>\n",
       "<style scoped>\n",
       "    .dataframe tbody tr th:only-of-type {\n",
       "        vertical-align: middle;\n",
       "    }\n",
       "\n",
       "    .dataframe tbody tr th {\n",
       "        vertical-align: top;\n",
       "    }\n",
       "\n",
       "    .dataframe thead th {\n",
       "        text-align: right;\n",
       "    }\n",
       "</style>\n",
       "<table border=\"1\" class=\"dataframe\">\n",
       "  <thead>\n",
       "    <tr style=\"text-align: right;\">\n",
       "      <th></th>\n",
       "      <th>DATE</th>\n",
       "      <th>EVENT</th>\n",
       "    </tr>\n",
       "  </thead>\n",
       "  <tbody>\n",
       "    <tr>\n",
       "      <th>0</th>\n",
       "      <td>2018-01-01</td>\n",
       "      <td>Winter Recess (Schools closed)</td>\n",
       "    </tr>\n",
       "    <tr>\n",
       "      <th>1</th>\n",
       "      <td>2018-01-15</td>\n",
       "      <td>Dr. Martin Luther King Jr. Day (schools closed)</td>\n",
       "    </tr>\n",
       "    <tr>\n",
       "      <th>2</th>\n",
       "      <td>2018-02-16</td>\n",
       "      <td>Lunar New Year (schools closed)</td>\n",
       "    </tr>\n",
       "    <tr>\n",
       "      <th>3</th>\n",
       "      <td>2018-02-19</td>\n",
       "      <td>Midwinter Recess (includes Washington’s Birthd...</td>\n",
       "    </tr>\n",
       "    <tr>\n",
       "      <th>4</th>\n",
       "      <td>2018-02-20</td>\n",
       "      <td>Midwinter Recess (includes Washington’s Birthd...</td>\n",
       "    </tr>\n",
       "  </tbody>\n",
       "</table>\n",
       "</div>"
      ],
      "text/plain": [
       "        DATE                                              EVENT\n",
       "0 2018-01-01                     Winter Recess (Schools closed)\n",
       "1 2018-01-15   Dr. Martin Luther King Jr. Day (schools closed) \n",
       "2 2018-02-16                   Lunar New Year (schools closed) \n",
       "3 2018-02-19  Midwinter Recess (includes Washington’s Birthd...\n",
       "4 2018-02-20  Midwinter Recess (includes Washington’s Birthd..."
      ]
     },
     "execution_count": 46,
     "metadata": {},
     "output_type": "execute_result"
    }
   ],
   "source": [
    "sch_hol.head()"
   ]
  },
  {
   "cell_type": "code",
   "execution_count": 47,
   "id": "9785c8d5-1b92-47cc-89e4-008d39253dd2",
   "metadata": {},
   "outputs": [
    {
     "name": "stderr",
     "output_type": "stream",
     "text": [
      "                                                                                \r"
     ]
    },
    {
     "data": {
      "text/html": [
       "<table border='1'>\n",
       "<tr><th>tpep_pickup_datetime</th><th>tpep_dropoff_datetime</th><th>pu_location_id</th><th>do_location_id</th><th>total_amount</th><th>trip_duration</th><th>pu_dow</th><th>pu_hour</th><th>pu_date</th><th>do_dow</th><th>do_hour</th><th>do_date</th><th>is_school_holiday</th></tr>\n",
       "<tr><td>2018-01-01 00:49:19</td><td>2018-01-01 01:11:58</td><td>138</td><td>238</td><td>42.06</td><td>1359</td><td>2</td><td>0</td><td>2018-01-01</td><td>2</td><td>1</td><td>2018-01-01</td><td>1</td></tr>\n",
       "<tr><td>2018-01-01 00:32:15</td><td>2018-01-01 00:59:44</td><td>132</td><td>61</td><td>33.3</td><td>1649</td><td>2</td><td>0</td><td>2018-01-01</td><td>2</td><td>0</td><td>2018-01-01</td><td>1</td></tr>\n",
       "<tr><td>2018-01-01 00:37:31</td><td>2018-01-01 01:24:24</td><td>132</td><td>265</td><td>148.56</td><td>2813</td><td>2</td><td>0</td><td>2018-01-01</td><td>2</td><td>1</td><td>2018-01-01</td><td>1</td></tr>\n",
       "<tr><td>2018-01-01 00:58:09</td><td>2018-01-01 01:35:58</td><td>132</td><td>220</td><td>90.66</td><td>2269</td><td>2</td><td>0</td><td>2018-01-01</td><td>2</td><td>1</td><td>2018-01-01</td><td>1</td></tr>\n",
       "<tr><td>2018-01-01 00:52:28</td><td>2018-01-01 01:28:50</td><td>132</td><td>262</td><td>72.8</td><td>2182</td><td>2</td><td>0</td><td>2018-01-01</td><td>2</td><td>1</td><td>2018-01-01</td><td>1</td></tr>\n",
       "</table>\n"
      ],
      "text/plain": [
       "+--------------------+---------------------+--------------+--------------+------------+-------------+------+-------+----------+------+-------+----------+-----------------+\n",
       "|tpep_pickup_datetime|tpep_dropoff_datetime|pu_location_id|do_location_id|total_amount|trip_duration|pu_dow|pu_hour|   pu_date|do_dow|do_hour|   do_date|is_school_holiday|\n",
       "+--------------------+---------------------+--------------+--------------+------------+-------------+------+-------+----------+------+-------+----------+-----------------+\n",
       "| 2018-01-01 00:49:19|  2018-01-01 01:11:58|           138|           238|       42.06|         1359|     2|      0|2018-01-01|     2|      1|2018-01-01|                1|\n",
       "| 2018-01-01 00:32:15|  2018-01-01 00:59:44|           132|            61|        33.3|         1649|     2|      0|2018-01-01|     2|      0|2018-01-01|                1|\n",
       "| 2018-01-01 00:37:31|  2018-01-01 01:24:24|           132|           265|      148.56|         2813|     2|      0|2018-01-01|     2|      1|2018-01-01|                1|\n",
       "| 2018-01-01 00:58:09|  2018-01-01 01:35:58|           132|           220|       90.66|         2269|     2|      0|2018-01-01|     2|      1|2018-01-01|                1|\n",
       "| 2018-01-01 00:52:28|  2018-01-01 01:28:50|           132|           262|        72.8|         2182|     2|      0|2018-01-01|     2|      1|2018-01-01|                1|\n",
       "+--------------------+---------------------+--------------+--------------+------------+-------------+------+-------+----------+------+-------+----------+-----------------+"
      ]
     },
     "execution_count": 47,
     "metadata": {},
     "output_type": "execute_result"
    }
   ],
   "source": [
    "# check if 01-01-2018 is marked as holiday\n",
    "taxi.filter(F.col('pu_date') == \"2018-01-01\").limit(5)"
   ]
  },
  {
   "cell_type": "markdown",
   "id": "6a31ef2a-d645-44cc-a655-e83abf99a4f3",
   "metadata": {},
   "source": [
    "#### 2b. From external dataset (Hourly Weather)"
   ]
  },
  {
   "cell_type": "code",
   "execution_count": 48,
   "id": "61cf0d2f-0d6d-4305-b789-62c443050c23",
   "metadata": {},
   "outputs": [
    {
     "name": "stdout",
     "output_type": "stream",
     "text": [
      "+----------+----+-----------+-------------------+-------------+-----------------+----------+--------+\n",
      "|      date|hour|temperature|          dew_point|precipitation|   wind_direction|visibility|pressure|\n",
      "+----------+----+-----------+-------------------+-------------+-----------------+----------+--------+\n",
      "|2018-01-01|   0|     -114.3|             -200.3|          0.0|            315.0|   16046.5| 10260.5|\n",
      "|2018-01-01|   1|     -117.5|             -206.5|          0.0|            330.0|   16093.0| 10262.0|\n",
      "|2018-01-01|   2|     -122.5|             -200.5|          0.0|            310.0|   16093.0| 10262.0|\n",
      "|2018-01-01|   3|     -122.3|             -197.3|          0.0|            310.0|   16046.5| 10262.5|\n",
      "|2018-01-01|   4|     -124.5|-198.23333333333335|          0.0|316.6666666666667|   16093.0| 10262.0|\n",
      "|2018-01-01|   5|     -128.5|             -194.5|          0.0|            330.0|   16093.0| 10266.0|\n",
      "|2018-01-01|   6|     -130.8|             -194.3|          0.0|            320.0|   16046.5| 10266.0|\n",
      "|2018-01-01|   7|     -133.5|             -200.5|          0.0|            330.0|   16093.0| 10269.0|\n",
      "|2018-01-01|   8|     -133.5|             -200.5|          0.0|            310.0|   16093.0| 10266.0|\n",
      "|2018-01-01|   9|     -136.3|             -203.3|          0.0|            315.0|   16046.5| 10266.0|\n",
      "|2018-01-01|  10|     -139.5|             -206.5|          0.0|            310.0|   16093.0| 10273.0|\n",
      "|2018-01-01|  11|     -139.5|             -206.5|          0.0|            310.0|   16093.0| 10276.0|\n",
      "|2018-01-01|  12|     -136.3|             -206.3|          0.0|            315.0|   16046.5| 10276.0|\n",
      "|2018-01-01|  13|     -122.5|             -194.5|          0.0|            310.0|   16093.0| 10283.0|\n",
      "|2018-01-01|  14|     -111.5|             -189.5|          0.0|            320.0|   16093.0| 10286.0|\n",
      "|2018-01-01|  15|     -108.8|             -191.8|          0.0|            315.0|   16046.5| 10283.0|\n",
      "|2018-01-01|  16|      -94.5|             -194.5|          0.0|            320.0|   16093.0| 10276.0|\n",
      "|2018-01-01|  17|      -83.5|             -194.5|          0.0|            320.0|   16093.0| 10273.0|\n",
      "|2018-01-01|  18|      -83.3|             -197.3|          0.0|            325.0|   16046.5| 10269.5|\n",
      "|2018-01-01|  19|      -78.5|             -206.5|          0.0|            330.0|   16093.0| 10269.0|\n",
      "+----------+----+-----------+-------------------+-------------+-----------------+----------+--------+\n",
      "only showing top 20 rows\n",
      "\n"
     ]
    }
   ],
   "source": [
    "clean_weather = weather \\\n",
    "                    .groupBy(['date', 'hour']) \\\n",
    "                    .agg(\n",
    "                        F.mean(\"temperature\").alias(\"temperature\"),\n",
    "                        F.mean(\"dew_point\").alias(\"dew_point\"),\n",
    "                        F.mean(\"precipitation\").alias(\"precipitation\"),\n",
    "                        F.mean(\"wind_direction\").alias(\"wind_direction\"),\n",
    "                        F.mean(\"visibility\").alias(\"visibility\"),\n",
    "                        F.mean(\"pressure\").alias(\"pressure\"),\n",
    "                    ) \\\n",
    "                    .orderBy([\"date\", 'hour'])\n",
    "\n",
    "clean_test_weather = test_weather \\\n",
    "                    .groupBy(['date', 'hour']) \\\n",
    "                    .agg(\n",
    "                        F.mean(\"temperature\").alias(\"temperature\"),\n",
    "                        F.mean(\"dew_point\").alias(\"dew_point\"),\n",
    "                        F.mean(\"precipitation\").alias(\"precipitation\"),\n",
    "                        F.mean(\"wind_direction\").alias(\"wind_direction\"),\n",
    "                        F.mean(\"visibility\").alias(\"visibility\"),\n",
    "                        F.mean(\"pressure\").alias(\"pressure\"),\n",
    "                    ) \\\n",
    "                    .orderBy([\"date\", 'hour'])\n",
    "\n",
    "clean_weather.show()"
   ]
  },
  {
   "cell_type": "code",
   "execution_count": 49,
   "id": "8728ebd6-0986-48f2-97e0-48b6d86c3eb4",
   "metadata": {},
   "outputs": [
    {
     "data": {
      "text/plain": [
       "['tpep_pickup_datetime',\n",
       " 'tpep_dropoff_datetime',\n",
       " 'pu_location_id',\n",
       " 'do_location_id',\n",
       " 'total_amount',\n",
       " 'trip_duration',\n",
       " 'pu_dow',\n",
       " 'pu_hour',\n",
       " 'pu_date',\n",
       " 'do_dow',\n",
       " 'do_hour',\n",
       " 'do_date',\n",
       " 'is_school_holiday']"
      ]
     },
     "execution_count": 49,
     "metadata": {},
     "output_type": "execute_result"
    }
   ],
   "source": [
    "taxi.columns"
   ]
  },
  {
   "cell_type": "code",
   "execution_count": 50,
   "id": "e231c553-a10f-4e6e-b9c9-52fbfccc8eaf",
   "metadata": {},
   "outputs": [],
   "source": [
    "grouped_taxi = (taxi\n",
    "                .groupby(['pu_date', 'pu_hour', 'pu_dow',\n",
    "                          'is_school_holiday'])\n",
    "                .agg({'pu_date':'count'}).orderBy(['pu_date', 'pu_hour'])\n",
    "                .withColumnRenamed('count(pu_date)', 'trip_freq'))\n",
    "\n",
    "grouped_test_taxi = (test_taxi\n",
    "                .groupby(['pu_date', 'pu_hour', 'pu_dow',\n",
    "                          'is_school_holiday'])\n",
    "                .agg({'pu_date':'count'}).orderBy(['pu_date', 'pu_hour'])\n",
    "                .withColumnRenamed('count(pu_date)', 'trip_freq'))"
   ]
  },
  {
   "cell_type": "code",
   "execution_count": 51,
   "id": "df7824d1-cf5d-444f-8601-e395e16d6def",
   "metadata": {},
   "outputs": [
    {
     "name": "stderr",
     "output_type": "stream",
     "text": [
      "                                                                                \r"
     ]
    },
    {
     "data": {
      "text/html": [
       "<table border='1'>\n",
       "<tr><th>pu_date</th><th>pu_hour</th><th>pu_dow</th><th>is_school_holiday</th><th>trip_freq</th></tr>\n",
       "<tr><td>2020-01-01</td><td>0</td><td>4</td><td>1</td><td>211</td></tr>\n",
       "<tr><td>2020-01-01</td><td>1</td><td>4</td><td>1</td><td>85</td></tr>\n",
       "<tr><td>2020-01-01</td><td>2</td><td>4</td><td>1</td><td>46</td></tr>\n",
       "<tr><td>2020-01-01</td><td>3</td><td>4</td><td>1</td><td>35</td></tr>\n",
       "<tr><td>2020-01-01</td><td>4</td><td>4</td><td>1</td><td>51</td></tr>\n",
       "</table>\n"
      ],
      "text/plain": [
       "+----------+-------+------+-----------------+---------+\n",
       "|   pu_date|pu_hour|pu_dow|is_school_holiday|trip_freq|\n",
       "+----------+-------+------+-----------------+---------+\n",
       "|2020-01-01|      0|     4|                1|      211|\n",
       "|2020-01-01|      1|     4|                1|       85|\n",
       "|2020-01-01|      2|     4|                1|       46|\n",
       "|2020-01-01|      3|     4|                1|       35|\n",
       "|2020-01-01|      4|     4|                1|       51|\n",
       "+----------+-------+------+-----------------+---------+"
      ]
     },
     "execution_count": 51,
     "metadata": {},
     "output_type": "execute_result"
    }
   ],
   "source": [
    "grouped_test_taxi.limit(5)"
   ]
  },
  {
   "cell_type": "code",
   "execution_count": 52,
   "id": "508b1730-4df2-47e4-9c86-b5db81240f78",
   "metadata": {},
   "outputs": [
    {
     "name": "stderr",
     "output_type": "stream",
     "text": [
      "                                                                                \r"
     ]
    },
    {
     "data": {
      "text/html": [
       "<table border='1'>\n",
       "<tr><th>pu_date</th><th>pu_hour</th><th>pu_dow</th><th>is_school_holiday</th><th>trip_freq</th></tr>\n",
       "<tr><td>2018-01-01</td><td>0</td><td>2</td><td>1</td><td>240</td></tr>\n",
       "<tr><td>2018-01-01</td><td>1</td><td>2</td><td>1</td><td>141</td></tr>\n",
       "<tr><td>2018-01-01</td><td>2</td><td>2</td><td>1</td><td>33</td></tr>\n",
       "<tr><td>2018-01-01</td><td>3</td><td>2</td><td>1</td><td>26</td></tr>\n",
       "<tr><td>2018-01-01</td><td>4</td><td>2</td><td>1</td><td>50</td></tr>\n",
       "</table>\n"
      ],
      "text/plain": [
       "+----------+-------+------+-----------------+---------+\n",
       "|   pu_date|pu_hour|pu_dow|is_school_holiday|trip_freq|\n",
       "+----------+-------+------+-----------------+---------+\n",
       "|2018-01-01|      0|     2|                1|      240|\n",
       "|2018-01-01|      1|     2|                1|      141|\n",
       "|2018-01-01|      2|     2|                1|       33|\n",
       "|2018-01-01|      3|     2|                1|       26|\n",
       "|2018-01-01|      4|     2|                1|       50|\n",
       "+----------+-------+------+-----------------+---------+"
      ]
     },
     "execution_count": 52,
     "metadata": {},
     "output_type": "execute_result"
    }
   ],
   "source": [
    "grouped_taxi.limit(5)"
   ]
  },
  {
   "cell_type": "code",
   "execution_count": 53,
   "id": "7fb19436-107b-4f59-8d91-a75e5c546b2c",
   "metadata": {},
   "outputs": [],
   "source": [
    "# merge taxi and weather dataset on date and hour\n",
    "# remove taxi data if weather is not available (inner join)\n",
    "sdf = (grouped_taxi \\\n",
    "           .join(clean_weather, on=[grouped_taxi['pu_date'] == clean_weather['date'], \n",
    "                 grouped_taxi['pu_hour'] == clean_weather['hour']], how='inner')\n",
    "           .drop(clean_weather['date'])\n",
    "           .drop(clean_weather['hour'])\n",
    "      )\n",
    "\n",
    "test_sdf = (grouped_test_taxi \\\n",
    "           .join(clean_test_weather, on=[grouped_test_taxi['pu_date'] == clean_test_weather['date'], \n",
    "                 grouped_test_taxi['pu_hour'] == clean_test_weather['hour']], how='inner')\n",
    "           .drop(clean_test_weather['date'])\n",
    "           .drop(clean_test_weather['hour'])\n",
    "      )"
   ]
  },
  {
   "cell_type": "code",
   "execution_count": 54,
   "id": "231fe258-70ba-4dca-95d6-0e6e88d11daf",
   "metadata": {
    "tags": []
   },
   "outputs": [
    {
     "name": "stderr",
     "output_type": "stream",
     "text": [
      "                                                                                \r"
     ]
    },
    {
     "data": {
      "text/plain": [
       "(17518, 17518)"
      ]
     },
     "execution_count": 54,
     "metadata": {},
     "output_type": "execute_result"
    }
   ],
   "source": [
    "# taxi number of rows before merge vs after weather merge\n",
    "(grouped_taxi.count(), sdf.count())"
   ]
  },
  {
   "cell_type": "code",
   "execution_count": 55,
   "id": "32340573-f034-48e3-9bf1-66a2a4b42c1a",
   "metadata": {},
   "outputs": [
    {
     "name": "stderr",
     "output_type": "stream",
     "text": [
      "                                                                                \r"
     ]
    },
    {
     "data": {
      "text/plain": [
       "(744, 744)"
      ]
     },
     "execution_count": 55,
     "metadata": {},
     "output_type": "execute_result"
    }
   ],
   "source": [
    "(grouped_test_taxi.count(), test_sdf.count())"
   ]
  },
  {
   "cell_type": "code",
   "execution_count": 56,
   "id": "69f073df-0ed9-432f-86c5-14de639ce459",
   "metadata": {},
   "outputs": [
    {
     "data": {
      "text/html": [
       "<table border='1'>\n",
       "<tr><th>date</th><th>hour</th><th>temperature</th><th>dew_point</th><th>precipitation</th><th>wind_direction</th><th>visibility</th><th>pressure</th></tr>\n",
       "<tr><td>2018-03-01</td><td>0</td><td>67.3</td><td>44.3</td><td>0.0</td><td>200.0</td><td>16046.5</td><td>10118.5</td></tr>\n",
       "<tr><td>2018-03-01</td><td>1</td><td>83.5</td><td>44.5</td><td>0.0</td><td>200.0</td><td>16093.0</td><td>10117.0</td></tr>\n",
       "<tr><td>2018-03-01</td><td>2</td><td>83.5</td><td>50.5</td><td>0.0</td><td>170.0</td><td>16093.0</td><td>10114.0</td></tr>\n",
       "</table>\n"
      ],
      "text/plain": [
       "+----------+----+-----------+---------+-------------+--------------+----------+--------+\n",
       "|      date|hour|temperature|dew_point|precipitation|wind_direction|visibility|pressure|\n",
       "+----------+----+-----------+---------+-------------+--------------+----------+--------+\n",
       "|2018-03-01|   0|       67.3|     44.3|          0.0|         200.0|   16046.5| 10118.5|\n",
       "|2018-03-01|   1|       83.5|     44.5|          0.0|         200.0|   16093.0| 10117.0|\n",
       "|2018-03-01|   2|       83.5|     50.5|          0.0|         170.0|   16093.0| 10114.0|\n",
       "+----------+----+-----------+---------+-------------+--------------+----------+--------+"
      ]
     },
     "execution_count": 56,
     "metadata": {},
     "output_type": "execute_result"
    }
   ],
   "source": [
    "# check if merge matches perfectly\n",
    "clean_weather.filter((F.col('date') == \"2018-03-01\") & (F.col('hour').isin([0,1,2]))).limit(3)"
   ]
  },
  {
   "cell_type": "code",
   "execution_count": 57,
   "id": "dedba46f-0f0b-460c-91cc-fc9999ccc9a7",
   "metadata": {},
   "outputs": [
    {
     "name": "stderr",
     "output_type": "stream",
     "text": [
      "                                                                                \r"
     ]
    },
    {
     "data": {
      "text/html": [
       "<table border='1'>\n",
       "<tr><th>pu_date</th><th>pu_hour</th><th>pu_dow</th><th>is_school_holiday</th><th>trip_freq</th></tr>\n",
       "<tr><td>2018-03-01</td><td>0</td><td>5</td><td>0</td><td>310</td></tr>\n",
       "<tr><td>2018-03-01</td><td>1</td><td>5</td><td>0</td><td>59</td></tr>\n",
       "<tr><td>2018-03-01</td><td>2</td><td>5</td><td>0</td><td>6</td></tr>\n",
       "</table>\n"
      ],
      "text/plain": [
       "+----------+-------+------+-----------------+---------+\n",
       "|   pu_date|pu_hour|pu_dow|is_school_holiday|trip_freq|\n",
       "+----------+-------+------+-----------------+---------+\n",
       "|2018-03-01|      0|     5|                0|      310|\n",
       "|2018-03-01|      1|     5|                0|       59|\n",
       "|2018-03-01|      2|     5|                0|        6|\n",
       "+----------+-------+------+-----------------+---------+"
      ]
     },
     "execution_count": 57,
     "metadata": {},
     "output_type": "execute_result"
    }
   ],
   "source": [
    "grouped_taxi.filter((F.col('pu_date') == \"2018-03-01\") & (F.col('pu_hour').isin([0,1,2]))).limit(3)"
   ]
  },
  {
   "cell_type": "code",
   "execution_count": 58,
   "id": "c158885c-2b76-4b24-be48-0ba4c9934024",
   "metadata": {},
   "outputs": [
    {
     "name": "stderr",
     "output_type": "stream",
     "text": [
      "                                                                                \r"
     ]
    },
    {
     "data": {
      "text/html": [
       "<table border='1'>\n",
       "<tr><th>pu_date</th><th>pu_hour</th><th>pu_dow</th><th>is_school_holiday</th><th>trip_freq</th><th>temperature</th><th>dew_point</th><th>precipitation</th><th>wind_direction</th><th>visibility</th><th>pressure</th></tr>\n",
       "<tr><td>2018-03-01</td><td>2</td><td>5</td><td>0</td><td>6</td><td>83.5</td><td>50.5</td><td>0.0</td><td>170.0</td><td>16093.0</td><td>10114.0</td></tr>\n",
       "<tr><td>2018-03-01</td><td>0</td><td>5</td><td>0</td><td>310</td><td>67.3</td><td>44.3</td><td>0.0</td><td>200.0</td><td>16046.5</td><td>10118.5</td></tr>\n",
       "<tr><td>2018-03-01</td><td>1</td><td>5</td><td>0</td><td>59</td><td>83.5</td><td>44.5</td><td>0.0</td><td>200.0</td><td>16093.0</td><td>10117.0</td></tr>\n",
       "</table>\n"
      ],
      "text/plain": [
       "+----------+-------+------+-----------------+---------+-----------+---------+-------------+--------------+----------+--------+\n",
       "|   pu_date|pu_hour|pu_dow|is_school_holiday|trip_freq|temperature|dew_point|precipitation|wind_direction|visibility|pressure|\n",
       "+----------+-------+------+-----------------+---------+-----------+---------+-------------+--------------+----------+--------+\n",
       "|2018-03-01|      1|     5|                0|       59|       83.5|     44.5|          0.0|         200.0|   16093.0| 10117.0|\n",
       "|2018-03-01|      2|     5|                0|        6|       83.5|     50.5|          0.0|         170.0|   16093.0| 10114.0|\n",
       "|2018-03-01|      0|     5|                0|      310|       67.3|     44.3|          0.0|         200.0|   16046.5| 10118.5|\n",
       "+----------+-------+------+-----------------+---------+-----------+---------+-------------+--------------+----------+--------+"
      ]
     },
     "execution_count": 58,
     "metadata": {},
     "output_type": "execute_result"
    }
   ],
   "source": [
    "sdf.filter((F.col('pu_date') == \"2018-03-01\") & (F.col('pu_hour').isin([0,1,2]))).limit(3)"
   ]
  },
  {
   "cell_type": "code",
   "execution_count": 59,
   "id": "4aaabf6c-95aa-4ab7-8462-4dbc5b151d6b",
   "metadata": {},
   "outputs": [
    {
     "name": "stderr",
     "output_type": "stream",
     "text": [
      "                                                                                \r"
     ]
    },
    {
     "data": {
      "text/plain": [
       "{'pu_date': 0,\n",
       " 'pu_hour': 0,\n",
       " 'pu_dow': 0,\n",
       " 'is_school_holiday': 0,\n",
       " 'trip_freq': 0,\n",
       " 'temperature': 0,\n",
       " 'dew_point': 0,\n",
       " 'precipitation': 0,\n",
       " 'wind_direction': 0,\n",
       " 'visibility': 0,\n",
       " 'pressure': 0}"
      ]
     },
     "execution_count": 59,
     "metadata": {},
     "output_type": "execute_result"
    }
   ],
   "source": [
    "dict_null = {col:sdf.filter(sdf[col].isNull()).count() for col in sdf.columns}\n",
    "dict_null"
   ]
  },
  {
   "cell_type": "markdown",
   "id": "efcc94c4-6a38-4231-923f-adf292d94c37",
   "metadata": {},
   "source": [
    "### Sample for visualization"
   ]
  },
  {
   "cell_type": "code",
   "execution_count": 60,
   "id": "a04fd423-c6bf-4e1b-8733-1c2898cf7183",
   "metadata": {
    "tags": []
   },
   "outputs": [
    {
     "name": "stderr",
     "output_type": "stream",
     "text": [
      "                                                                                \r"
     ]
    }
   ],
   "source": [
    "SAMPLE_SIZE = 0.05\n",
    "df = taxi.sample(SAMPLE_SIZE, seed=0).toPandas()\n",
    "df.to_parquet('../data/curated/taxi_sample.parquet')"
   ]
  },
  {
   "cell_type": "markdown",
   "id": "ff91e52c-f392-45b1-a95c-20111452ba7f",
   "metadata": {},
   "source": [
    "### Save final sdf to curated data folder"
   ]
  },
  {
   "cell_type": "code",
   "execution_count": 61,
   "id": "a003d969-4b16-4cad-bb4c-c198c67261f8",
   "metadata": {},
   "outputs": [
    {
     "name": "stderr",
     "output_type": "stream",
     "text": [
      "                                                                                \r"
     ]
    }
   ],
   "source": [
    "sdf.write.parquet(\"../data/curated/merged_df.parquet\")"
   ]
  },
  {
   "cell_type": "code",
   "execution_count": 62,
   "id": "87957904-1276-4b1b-951a-27000d2c3af8",
   "metadata": {},
   "outputs": [
    {
     "name": "stderr",
     "output_type": "stream",
     "text": [
      "                                                                                \r"
     ]
    }
   ],
   "source": [
    "test_sdf.write.parquet(\"../data/curated/merged_test_df.parquet\")"
   ]
  },
  {
   "cell_type": "code",
   "execution_count": 63,
   "id": "5533173e-5196-40dc-beed-558e1bbbe2ea",
   "metadata": {},
   "outputs": [],
   "source": [
    "clean_weather.write.parquet(\"../data/curated/clean_weather.parquet\")"
   ]
  },
  {
   "cell_type": "code",
   "execution_count": 64,
   "id": "52b4a8f4-27ff-4b11-ac6b-6a4efe7ab39b",
   "metadata": {},
   "outputs": [
    {
     "name": "stderr",
     "output_type": "stream",
     "text": [
      "                                                                                \r"
     ]
    }
   ],
   "source": [
    "taxi.write.parquet(\"../data/curated/taxi.parquet\")"
   ]
  },
  {
   "cell_type": "code",
   "execution_count": null,
   "id": "9e6bd63d-2042-4209-96b1-05ab0745e57e",
   "metadata": {},
   "outputs": [],
   "source": []
  }
 ],
 "metadata": {
  "kernelspec": {
   "display_name": "Python 3 (ipykernel)",
   "language": "python",
   "name": "python3"
  },
  "language_info": {
   "codemirror_mode": {
    "name": "ipython",
    "version": 3
   },
   "file_extension": ".py",
   "mimetype": "text/x-python",
   "name": "python",
   "nbconvert_exporter": "python",
   "pygments_lexer": "ipython3",
   "version": "3.9.7"
  }
 },
 "nbformat": 4,
 "nbformat_minor": 5
}
