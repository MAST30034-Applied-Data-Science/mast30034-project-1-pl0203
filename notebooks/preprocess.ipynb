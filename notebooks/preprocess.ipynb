{
 "cells": [
  {
   "cell_type": "markdown",
   "id": "227686a2-1bea-4ef8-a425-a45510dc2334",
   "metadata": {
    "tags": []
   },
   "source": [
    "# High-level Preprocessing Steps:\n",
    "    1. Change column names and types\n",
    "    2. Cleaning: date outside range, negative duration, duration > 18000s, null values\n",
    "    3. Add Features from external dataset: hour, day, is_school_holiday, weather features (temperature, precipitation, wind, etc.)\n",
    "    4. Check and deal with null values\n",
    "\n",
    "    \n",
    "    "
   ]
  },
  {
   "cell_type": "code",
   "execution_count": 1,
   "id": "6d6f6422-1850-425e-9ca6-b0be979cd486",
   "metadata": {},
   "outputs": [],
   "source": [
    "from pyspark.sql.functions import to_timestamp, date_format, hour, dayofweek\n",
    "from pyspark.sql.functions import isnan, when, count, col, split, concat, lit\n",
    "from pyspark.sql.functions import to_date, create_map\n",
    "from itertools import chain\n",
    "from pyspark.sql import SparkSession, Window, functions as F\n",
    "import pandas as pd\n",
    "import seaborn as sns\n",
    "from datetime import datetime\n",
    "import matplotlib.pyplot as plt\n",
    "%matplotlib inline"
   ]
  },
  {
   "cell_type": "code",
   "execution_count": 2,
   "id": "25c93866-aa88-45c7-ba9d-2ae031332f53",
   "metadata": {},
   "outputs": [
    {
     "name": "stdout",
     "output_type": "stream",
     "text": [
      "22/08/17 00:10:36 WARN Utils: Your hostname, Patricks-MacBook-Pro.local resolves to a loopback address: 127.0.0.1; using 100.94.177.225 instead (on interface en0)\n",
      "22/08/17 00:10:36 WARN Utils: Set SPARK_LOCAL_IP if you need to bind to another address\n"
     ]
    },
    {
     "name": "stderr",
     "output_type": "stream",
     "text": [
      "Setting default log level to \"WARN\".\n",
      "To adjust logging level use sc.setLogLevel(newLevel). For SparkR, use setLogLevel(newLevel).\n"
     ]
    },
    {
     "name": "stdout",
     "output_type": "stream",
     "text": [
      "22/08/17 00:10:37 WARN NativeCodeLoader: Unable to load native-hadoop library for your platform... using builtin-java classes where applicable\n"
     ]
    }
   ],
   "source": [
    "# Create a spark session (which will run spark jobs)\n",
    "spark = (\n",
    "    SparkSession.builder.appName(\"Preprocess Data\")\n",
    "    .config(\"spark.sql.repl.eagerEval.enabled\", True) \n",
    "    .config(\"spark.sql.parquet.cacheMetadata\", \"true\")\n",
    "    .config(\"spark.sql.session.timeZone\", \"Etc/UTC\")\n",
    "    .getOrCreate()\n",
    ")"
   ]
  },
  {
   "cell_type": "code",
   "execution_count": 3,
   "id": "c0914a91-99b8-44df-83f5-46227825ec1a",
   "metadata": {},
   "outputs": [
    {
     "name": "stderr",
     "output_type": "stream",
     "text": [
      "                                                                                \r"
     ]
    }
   ],
   "source": [
    "# read datasets\n",
    "taxi = spark.read.parquet('../data/raw/tlc_data')\n",
    "weather = spark.read.csv('../data/raw/other_data/jfk_weather.csv', header=True)\n",
    "school_holiday = spark.read.csv('../data/raw/other_data/nyc_school_holiday.csv',\n",
    "                                header=True)\n",
    "zones = pd.read_csv(\"../data/raw/taxi_zones/taxi+_zone_lookup.csv\")"
   ]
  },
  {
   "cell_type": "code",
   "execution_count": 4,
   "id": "489d14e9-9fd2-4667-be7c-70a7b3ec0816",
   "metadata": {},
   "outputs": [],
   "source": [
    "columns_interest = ['tpep_pickup_datetime', 'tpep_dropoff_datetime', \n",
    "                    'PULocationID', 'DOLocationID']\n",
    "taxi = taxi[columns_interest]\n",
    "\n",
    "weather_features = ['DATE', 'TMP', 'DEW', 'AA1', 'WND', 'VIS', 'MA1']\n",
    "weather = weather[weather_features]"
   ]
  },
  {
   "cell_type": "code",
   "execution_count": 5,
   "id": "d52b878c-cce2-4f72-9d16-8fe9259d7c81",
   "metadata": {},
   "outputs": [
    {
     "name": "stderr",
     "output_type": "stream",
     "text": [
      "                                                                                \r"
     ]
    },
    {
     "data": {
      "text/plain": [
       "(27136, 187469831)"
      ]
     },
     "execution_count": 5,
     "metadata": {},
     "output_type": "execute_result"
    }
   ],
   "source": [
    "weather.count(), taxi.count()"
   ]
  },
  {
   "cell_type": "code",
   "execution_count": 6,
   "id": "a1415eef-2e4f-46b3-8ef0-3be99c543b45",
   "metadata": {},
   "outputs": [
    {
     "data": {
      "text/html": [
       "<table border='1'>\n",
       "<tr><th>DATE</th><th>TMP</th><th>DEW</th><th>AA1</th><th>WND</th><th>VIS</th><th>MA1</th></tr>\n",
       "<tr><td>2018-01-02T00:00:00</td><td>-0078,1</td><td>-0206,1</td><td>null</td><td>300,1,N,0077,1</td><td>016000,1,9,9</td><td>99999,9,10276,1</td></tr>\n",
       "<tr><td>2018-01-02T00:51:00</td><td>-0083,5</td><td>-0200,5</td><td>01,0000,9,5</td><td>290,5,N,0067,5</td><td>016093,5,N,5</td><td>10288,5,10279,5</td></tr>\n",
       "<tr><td>2018-01-02T01:51:00</td><td>-0083,5</td><td>-0189,5</td><td>01,0000,9,5</td><td>270,5,N,0062,5</td><td>016093,5,N,5</td><td>10288,5,10279,5</td></tr>\n",
       "<tr><td>2018-01-02T02:51:00</td><td>-0083,5</td><td>-0167,5</td><td>01,0000,9,5</td><td>270,5,N,0062,5</td><td>016093,5,N,5</td><td>10288,5,10279,5</td></tr>\n",
       "<tr><td>2018-01-02T03:00:00</td><td>-0083,1</td><td>-0167,1</td><td>null</td><td>270,1,N,0062,1</td><td>016000,1,9,9</td><td>99999,9,10276,1</td></tr>\n",
       "</table>\n"
      ],
      "text/plain": [
       "+-------------------+-------+-------+-----------+--------------+------------+---------------+\n",
       "|               DATE|    TMP|    DEW|        AA1|           WND|         VIS|            MA1|\n",
       "+-------------------+-------+-------+-----------+--------------+------------+---------------+\n",
       "|2018-01-02T00:00:00|-0078,1|-0206,1|       null|300,1,N,0077,1|016000,1,9,9|99999,9,10276,1|\n",
       "|2018-01-02T00:51:00|-0083,5|-0200,5|01,0000,9,5|290,5,N,0067,5|016093,5,N,5|10288,5,10279,5|\n",
       "|2018-01-02T01:51:00|-0083,5|-0189,5|01,0000,9,5|270,5,N,0062,5|016093,5,N,5|10288,5,10279,5|\n",
       "|2018-01-02T02:51:00|-0083,5|-0167,5|01,0000,9,5|270,5,N,0062,5|016093,5,N,5|10288,5,10279,5|\n",
       "|2018-01-02T03:00:00|-0083,1|-0167,1|       null|270,1,N,0062,1|016000,1,9,9|99999,9,10276,1|\n",
       "+-------------------+-------+-------+-----------+--------------+------------+---------------+"
      ]
     },
     "execution_count": 6,
     "metadata": {},
     "output_type": "execute_result"
    }
   ],
   "source": [
    "weather.limit(5)"
   ]
  },
  {
   "cell_type": "code",
   "execution_count": 7,
   "id": "0113c6f4-18d9-4823-b03a-c2e5db2e7c1b",
   "metadata": {},
   "outputs": [
    {
     "name": "stderr",
     "output_type": "stream",
     "text": [
      "                                                                                \r"
     ]
    },
    {
     "data": {
      "text/html": [
       "<table border='1'>\n",
       "<tr><th>tpep_pickup_datetime</th><th>tpep_dropoff_datetime</th><th>PULocationID</th><th>DOLocationID</th></tr>\n",
       "<tr><td>2018-03-01 00:01:34</td><td>2018-03-01 00:01:43</td><td>145</td><td>145</td></tr>\n",
       "<tr><td>2018-03-01 00:14:34</td><td>2018-03-01 00:28:13</td><td>151</td><td>244</td></tr>\n",
       "<tr><td>2018-03-01 00:51:25</td><td>2018-03-01 00:59:54</td><td>238</td><td>152</td></tr>\n",
       "<tr><td>2018-03-01 00:00:01</td><td>2018-03-01 00:00:17</td><td>145</td><td>145</td></tr>\n",
       "<tr><td>2018-03-01 00:55:10</td><td>2018-03-01 00:56:36</td><td>145</td><td>145</td></tr>\n",
       "</table>\n"
      ],
      "text/plain": [
       "+--------------------+---------------------+------------+------------+\n",
       "|tpep_pickup_datetime|tpep_dropoff_datetime|PULocationID|DOLocationID|\n",
       "+--------------------+---------------------+------------+------------+\n",
       "| 2018-03-01 00:01:34|  2018-03-01 00:01:43|         145|         145|\n",
       "| 2018-03-01 00:14:34|  2018-03-01 00:28:13|         151|         244|\n",
       "| 2018-03-01 00:51:25|  2018-03-01 00:59:54|         238|         152|\n",
       "| 2018-03-01 00:00:01|  2018-03-01 00:00:17|         145|         145|\n",
       "| 2018-03-01 00:55:10|  2018-03-01 00:56:36|         145|         145|\n",
       "+--------------------+---------------------+------------+------------+"
      ]
     },
     "execution_count": 7,
     "metadata": {},
     "output_type": "execute_result"
    }
   ],
   "source": [
    "taxi.limit(5)"
   ]
  },
  {
   "cell_type": "code",
   "execution_count": 8,
   "id": "36bf046c-c702-48a1-8d44-79d93f86c027",
   "metadata": {},
   "outputs": [
    {
     "name": "stdout",
     "output_type": "stream",
     "text": [
      "root\n",
      " |-- tpep_pickup_datetime: timestamp (nullable = true)\n",
      " |-- tpep_dropoff_datetime: timestamp (nullable = true)\n",
      " |-- PULocationID: long (nullable = true)\n",
      " |-- DOLocationID: long (nullable = true)\n",
      "\n"
     ]
    }
   ],
   "source": [
    "taxi.printSchema()"
   ]
  },
  {
   "cell_type": "code",
   "execution_count": 9,
   "id": "577bcd4d-87bf-4336-9617-db6812f893c3",
   "metadata": {},
   "outputs": [
    {
     "name": "stdout",
     "output_type": "stream",
     "text": [
      "root\n",
      " |-- DATE: string (nullable = true)\n",
      " |-- TMP: string (nullable = true)\n",
      " |-- DEW: string (nullable = true)\n",
      " |-- AA1: string (nullable = true)\n",
      " |-- WND: string (nullable = true)\n",
      " |-- VIS: string (nullable = true)\n",
      " |-- MA1: string (nullable = true)\n",
      "\n"
     ]
    }
   ],
   "source": [
    "weather.printSchema()"
   ]
  },
  {
   "cell_type": "code",
   "execution_count": 10,
   "id": "edc49252-f978-4667-9309-59c63fe1364b",
   "metadata": {
    "tags": []
   },
   "outputs": [],
   "source": [
    "# Taxi Dataset\n",
    "# renaming a few columns\n",
    "field_name_change = {\"PULocationID\": \"pu_location_id\", \n",
    "                     \"DOLocationID\": \"do_location_id\"}\n",
    "for old, new in field_name_change.items():\n",
    "    taxi = taxi.withColumnRenamed(old, new)\n",
    "    \n",
    "# converting columns type\n",
    "for field in ('pu_location_id', 'do_location_id'):\n",
    "    taxi = taxi.withColumn(\n",
    "        field,\n",
    "        F.col(field).cast('INT')\n",
    "    )"
   ]
  },
  {
   "cell_type": "code",
   "execution_count": 11,
   "id": "5dc01fb2-8645-4ed7-a9c3-fef577491635",
   "metadata": {},
   "outputs": [],
   "source": [
    "# Weather Dataset\n",
    "\n",
    "# change column names\n",
    "field_name_change = {\"DATE\": \"date_time\", \"TMP\": \"temperature\",\n",
    "                     \"DEW\": \"dew_point\", \"AA1\": \"precipitation\", \n",
    "                     \"WND\": \"wind_direction\", \"MA1\": \"pressure\", \n",
    "                     \"VIS\":\"visibility\"}\n",
    "for old, new in field_name_change.items():\n",
    "    weather = weather.withColumnRenamed(old, new)\n",
    "\n",
    "# change column data types\n",
    "weather = weather.withColumn('date_time', F.col(\"date_time\").cast('TIMESTAMP'))\n",
    "\n",
    "for field in ('temperature', 'dew_point'):\n",
    "    weather = weather.withColumn(field, \n",
    "                                 concat(weather[field].substr(1, 1), \n",
    "                                        weather[field].substr(2, 4), \n",
    "                                        lit('.'),weather[field].substr(7, 1)) \\\n",
    "                                 .cast('double'))\n",
    "\n",
    "for field in ('visibility', 'wind_direction'):\n",
    "    weather = weather.withColumn(field, \n",
    "                                 split(weather[field], ',') \\\n",
    "                                 .getItem(0).cast('INT'))\n",
    "\n",
    "weather = weather.withColumn('precipitation', \n",
    "                             split(weather['precipitation'], ',') \\\n",
    "                             .getItem(1).cast('INT'))\n",
    "\n",
    "weather = weather.withColumn('pressure', \n",
    "                             split(weather['pressure'], ',') \\\n",
    "                             .getItem(2).cast('INT'))\n",
    "\n"
   ]
  },
  {
   "cell_type": "code",
   "execution_count": 12,
   "id": "7394b3f3-1966-4639-946d-c08c15e708c0",
   "metadata": {},
   "outputs": [
    {
     "data": {
      "text/html": [
       "<table border='1'>\n",
       "<tr><th>date_time</th><th>temperature</th><th>dew_point</th><th>precipitation</th><th>wind_direction</th><th>visibility</th><th>pressure</th></tr>\n",
       "<tr><td>2018-01-02 00:00:00</td><td>-78.1</td><td>-206.1</td><td>null</td><td>300</td><td>16000</td><td>10276</td></tr>\n",
       "<tr><td>2018-01-02 00:51:00</td><td>-83.5</td><td>-200.5</td><td>0</td><td>290</td><td>16093</td><td>10279</td></tr>\n",
       "<tr><td>2018-01-02 01:51:00</td><td>-83.5</td><td>-189.5</td><td>0</td><td>270</td><td>16093</td><td>10279</td></tr>\n",
       "<tr><td>2018-01-02 02:51:00</td><td>-83.5</td><td>-167.5</td><td>0</td><td>270</td><td>16093</td><td>10279</td></tr>\n",
       "<tr><td>2018-01-02 03:00:00</td><td>-83.1</td><td>-167.1</td><td>null</td><td>270</td><td>16000</td><td>10276</td></tr>\n",
       "</table>\n"
      ],
      "text/plain": [
       "+-------------------+-----------+---------+-------------+--------------+----------+--------+\n",
       "|          date_time|temperature|dew_point|precipitation|wind_direction|visibility|pressure|\n",
       "+-------------------+-----------+---------+-------------+--------------+----------+--------+\n",
       "|2018-01-02 00:00:00|      -78.1|   -206.1|         null|           300|     16000|   10276|\n",
       "|2018-01-02 00:51:00|      -83.5|   -200.5|            0|           290|     16093|   10279|\n",
       "|2018-01-02 01:51:00|      -83.5|   -189.5|            0|           270|     16093|   10279|\n",
       "|2018-01-02 02:51:00|      -83.5|   -167.5|            0|           270|     16093|   10279|\n",
       "|2018-01-02 03:00:00|      -83.1|   -167.1|         null|           270|     16000|   10276|\n",
       "+-------------------+-----------+---------+-------------+--------------+----------+--------+"
      ]
     },
     "execution_count": 12,
     "metadata": {},
     "output_type": "execute_result"
    }
   ],
   "source": [
    "weather.limit(5)"
   ]
  },
  {
   "cell_type": "markdown",
   "id": "db7d71db-ab2b-49fd-a132-3c2799182ef2",
   "metadata": {
    "tags": []
   },
   "source": [
    "---\n",
    "# Weather Data Cleaning\n",
    "#### 1. Change 9s to null"
   ]
  },
  {
   "cell_type": "code",
   "execution_count": 13,
   "id": "52b0ae4c-4a90-418b-89af-9c34aa9f9eae",
   "metadata": {},
   "outputs": [
    {
     "data": {
      "text/html": [
       "<table border='1'>\n",
       "<tr><th>date_time</th><th>temperature</th><th>dew_point</th><th>precipitation</th><th>wind_direction</th><th>visibility</th><th>pressure</th></tr>\n",
       "<tr><td>2018-01-02 04:59:00</td><td>9999.9</td><td>9999.9</td><td>0</td><td>999</td><td>999999</td><td>null</td></tr>\n",
       "<tr><td>2018-01-03 04:59:00</td><td>9999.9</td><td>9999.9</td><td>0</td><td>999</td><td>999999</td><td>null</td></tr>\n",
       "<tr><td>2018-01-04 04:59:00</td><td>9999.9</td><td>9999.9</td><td>0</td><td>999</td><td>999999</td><td>null</td></tr>\n",
       "<tr><td>2018-01-05 04:59:00</td><td>9999.9</td><td>9999.9</td><td>124</td><td>999</td><td>999999</td><td>null</td></tr>\n",
       "<tr><td>2018-01-06 04:59:00</td><td>9999.9</td><td>9999.9</td><td>0</td><td>999</td><td>999999</td><td>null</td></tr>\n",
       "</table>\n"
      ],
      "text/plain": [
       "+-------------------+-----------+---------+-------------+--------------+----------+--------+\n",
       "|          date_time|temperature|dew_point|precipitation|wind_direction|visibility|pressure|\n",
       "+-------------------+-----------+---------+-------------+--------------+----------+--------+\n",
       "|2018-01-02 04:59:00|     9999.9|   9999.9|            0|           999|    999999|    null|\n",
       "|2018-01-03 04:59:00|     9999.9|   9999.9|            0|           999|    999999|    null|\n",
       "|2018-01-04 04:59:00|     9999.9|   9999.9|            0|           999|    999999|    null|\n",
       "|2018-01-05 04:59:00|     9999.9|   9999.9|          124|           999|    999999|    null|\n",
       "|2018-01-06 04:59:00|     9999.9|   9999.9|            0|           999|    999999|    null|\n",
       "+-------------------+-----------+---------+-------------+--------------+----------+--------+"
      ]
     },
     "execution_count": 13,
     "metadata": {},
     "output_type": "execute_result"
    }
   ],
   "source": [
    "# found many entries where there are 9s in multiple columns\n",
    "# documentation stated these are missing values\n",
    "weather.filter(F.col('dew_point') == 9999.9).limit(5)"
   ]
  },
  {
   "cell_type": "code",
   "execution_count": 14,
   "id": "5ab3d663-e1aa-4879-9baa-daaf9c043c8e",
   "metadata": {},
   "outputs": [],
   "source": [
    "# set features to null when equals to 9s\n",
    "miss_values = {\"precipitation\": 9999, \"temperature\": 9999.9, \n",
    "               \"dew_point\": 9999.9, \"visibility\": 999999,\n",
    "               \"wind_direction\": 999, \"pressure\": 99999.0}\n",
    "for field, val in miss_values.items():\n",
    "    weather = weather.withColumn(field, \n",
    "                             when(col(field) == val, None) \\\n",
    "                             .otherwise(col(field)))\n"
   ]
  },
  {
   "cell_type": "markdown",
   "id": "a6656330-9779-4373-8ad0-379e44699063",
   "metadata": {},
   "source": [
    "#### 2. Fill null values by using the median of 6 hours timeframe segment"
   ]
  },
  {
   "cell_type": "code",
   "execution_count": 15,
   "id": "5e169d3d-9e80-4228-b696-6265805c4058",
   "metadata": {},
   "outputs": [
    {
     "data": {
      "text/plain": [
       "{'date_time': 0,\n",
       " 'temperature': 774,\n",
       " 'dew_point': 775,\n",
       " 'precipitation': 6205,\n",
       " 'wind_direction': 1878,\n",
       " 'visibility': 754,\n",
       " 'pressure': 960}"
      ]
     },
     "execution_count": 15,
     "metadata": {},
     "output_type": "execute_result"
    }
   ],
   "source": [
    "dict_null = {col:weather.filter(weather[col].isNull()).count() \n",
    "             for col in weather.columns}\n",
    "dict_null"
   ]
  },
  {
   "cell_type": "code",
   "execution_count": 16,
   "id": "635e8574-8b67-426c-9a9f-47ba2082dca8",
   "metadata": {},
   "outputs": [
    {
     "data": {
      "text/plain": [
       "27136"
      ]
     },
     "execution_count": 16,
     "metadata": {},
     "output_type": "execute_result"
    }
   ],
   "source": [
    "weather.count()"
   ]
  },
  {
   "cell_type": "code",
   "execution_count": 17,
   "id": "a8ec1e08-1e97-41a1-b256-1e48ed249a00",
   "metadata": {},
   "outputs": [],
   "source": [
    "weather = weather.withColumn(\n",
    "    \"date\",\n",
    "    to_date(col(\"date_time\"),\"yyyy-MM-dd\")\n",
    ")\n",
    "\n",
    "weather = weather.withColumn('hour', hour(weather.date_time))"
   ]
  },
  {
   "cell_type": "code",
   "execution_count": 18,
   "id": "948c916e-944f-4b99-868b-40331d6c0fb8",
   "metadata": {},
   "outputs": [],
   "source": [
    "# partition 24 hours into group of 6 (4 hours each)\n",
    "segment = {}\n",
    "seg = 0\n",
    "for h in range(0, 24):\n",
    "    if h % 6 == 0:\n",
    "        seg += 1\n",
    "    segment[h] = seg\n",
    "\n",
    "# map dictionary to a new column in weather dataframe\n",
    "mapping_expr = create_map([lit(x) for x in chain(*segment.items())])\n",
    "\n",
    "weather = weather.withColumn(\"time_segment\", mapping_expr[col(\"hour\")])"
   ]
  },
  {
   "cell_type": "code",
   "execution_count": 19,
   "id": "e4ccdaf9-9e53-486b-85e2-9f198ee87847",
   "metadata": {},
   "outputs": [
    {
     "data": {
      "text/plain": [
       "['date_time',\n",
       " 'temperature',\n",
       " 'dew_point',\n",
       " 'precipitation',\n",
       " 'wind_direction',\n",
       " 'visibility',\n",
       " 'pressure',\n",
       " 'date',\n",
       " 'hour',\n",
       " 'time_segment']"
      ]
     },
     "execution_count": 19,
     "metadata": {},
     "output_type": "execute_result"
    }
   ],
   "source": [
    "weather.columns"
   ]
  },
  {
   "cell_type": "code",
   "execution_count": 20,
   "id": "7e7285a2-62ed-4dea-ab55-ab90f7c97112",
   "metadata": {},
   "outputs": [],
   "source": [
    "window = Window.partitionBy([\"date\", \"time_segment\"]).orderBy(\"date\")\n",
    "\n",
    "fields = ['temperature', 'dew_point', 'precipitation', \n",
    "          'wind_direction', 'visibility', 'pressure']\n",
    "\n",
    "for field in fields:\n",
    "    weather = (\n",
    "        weather.withColumn(\"median\", F.expr(f'percentile_approx({field}, 0.5)').over(window)) \\\n",
    "            .withColumn(field, F.when(F.col(field).isNull(), \n",
    "                                              F.col(\"median\")) \\\n",
    "                        .otherwise(F.col(field))).drop(\"median\")\n",
    "    )\n"
   ]
  },
  {
   "cell_type": "code",
   "execution_count": 21,
   "id": "507f36c0-b99e-49e1-8633-a64eb086fc4e",
   "metadata": {},
   "outputs": [
    {
     "data": {
      "text/plain": [
       "{'date_time': 0,\n",
       " 'temperature': 0,\n",
       " 'dew_point': 0,\n",
       " 'precipitation': 32,\n",
       " 'wind_direction': 0,\n",
       " 'visibility': 0,\n",
       " 'pressure': 0,\n",
       " 'date': 0,\n",
       " 'hour': 0,\n",
       " 'time_segment': 0}"
      ]
     },
     "execution_count": 21,
     "metadata": {},
     "output_type": "execute_result"
    }
   ],
   "source": [
    "dict_null = {col:weather.filter(weather[col].isNull()).count() \n",
    "             for col in weather.columns}\n",
    "dict_null"
   ]
  },
  {
   "cell_type": "code",
   "execution_count": 22,
   "id": "300acf70-597e-48dc-8ddb-371279c35f0a",
   "metadata": {},
   "outputs": [
    {
     "name": "stdout",
     "output_type": "stream",
     "text": [
      "+-------------------+-----------+---------+-------------+--------------+----------+--------+----------+----+------------+\n",
      "|          date_time|temperature|dew_point|precipitation|wind_direction|visibility|pressure|      date|hour|time_segment|\n",
      "+-------------------+-----------+---------+-------------+--------------+----------+--------+----------+----+------------+\n",
      "|2019-10-22 06:00:00|      122.1|    100.1|         null|            70|     16000|   10185|2019-10-22|   6|           2|\n",
      "|2019-10-22 06:51:00|      122.1|    100.1|         null|            70|     16093|   10182|2019-10-22|   6|           2|\n",
      "|2019-10-22 07:51:00|      122.1|     89.1|         null|            50|     16093|   10182|2019-10-22|   7|           2|\n",
      "|2019-10-22 08:51:00|      128.1|     83.1|         null|            40|     16093|   10182|2019-10-22|   8|           2|\n",
      "|2019-10-22 09:00:00|      128.1|     83.1|         null|            40|     16000|   10182|2019-10-22|   9|           2|\n",
      "|2019-10-22 09:47:00|      130.5|     90.5|         null|            60|     16093|   10181|2019-10-22|   9|           2|\n",
      "|2019-10-22 09:51:00|      128.1|     94.1|         null|            60|     16093|   10182|2019-10-22|   9|           2|\n",
      "|2019-10-22 10:51:00|      128.1|    106.1|         null|            70|     16093|   10182|2019-10-22|  10|           2|\n",
      "|2019-10-22 11:51:00|      133.1|    111.1|         null|            70|     16093|   10182|2019-10-22|  11|           2|\n",
      "|2019-10-22 12:00:00|      133.1|    111.1|         null|            70|     16000|   10178|2019-10-22|  12|           3|\n",
      "|2019-10-22 12:51:00|      139.1|    128.1|         null|            90|     16093|   10172|2019-10-22|  12|           3|\n",
      "|2019-10-22 13:49:00|      140.5|    130.5|         null|            80|     16093|   10181|2019-10-22|  13|           3|\n",
      "|2019-10-22 13:51:00|      144.1|    128.1|         null|            90|     16093|   10172|2019-10-22|  13|           3|\n",
      "|2019-10-22 14:48:00|      140.5|    130.5|         null|            80|      4023|   10174|2019-10-22|  14|           3|\n",
      "|2019-10-22 14:51:00|      144.1|    133.1|         null|            80|      4023|   10172|2019-10-22|  14|           3|\n",
      "|2019-10-22 15:00:00|      144.1|    133.1|         null|            80|      4000|   10172|2019-10-22|  15|           3|\n",
      "|2019-10-22 15:51:00|      144.1|    144.1|         null|            80|      3219|   10172|2019-10-22|  15|           3|\n",
      "|2019-10-22 16:24:00|      150.5|    150.5|         null|            90|      4828|   10164|2019-10-22|  16|           3|\n",
      "|2019-10-22 16:51:00|      156.1|    150.1|         null|           100|      4828|   10172|2019-10-22|  16|           3|\n",
      "|2019-10-22 17:31:00|      150.5|    150.5|         null|            90|      3219|   10147|2019-10-22|  17|           3|\n",
      "|2019-10-22 17:51:00|      150.1|    150.1|         null|            90|      3219|   10172|2019-10-22|  17|           3|\n",
      "|2019-12-03 06:30:00|       -6.5|    -17.5|         null|            10|     16093|    9985|2019-12-03|   6|           2|\n",
      "|2019-12-03 06:51:00|       -6.5|    -17.5|         null|           350|     11265|    9988|2019-12-03|   6|           2|\n",
      "|2019-12-03 07:25:00|       -6.5|    -17.5|         null|           360|      6437|    9988|2019-12-03|   7|           2|\n",
      "|2019-12-03 07:51:00|       -6.5|    -17.5|         null|           360|      6437|    9992|2019-12-03|   7|           2|\n",
      "|2019-12-03 08:43:00|       -6.5|    -17.5|         null|           360|     16093|    9992|2019-12-03|   8|           2|\n",
      "|2019-12-03 08:51:00|       -6.5|    -17.5|         null|           360|     16093|    9992|2019-12-03|   8|           2|\n",
      "|2019-12-03 09:00:00|       -6.1|    -17.1|         null|           360|     16000|    9989|2019-12-03|   9|           2|\n",
      "|2019-12-03 09:41:00|       -6.5|    -17.5|         null|           350|      8047|    9992|2019-12-03|   9|           2|\n",
      "|2019-12-03 09:51:00|       -6.5|    -17.5|         null|           350|      6437|    9992|2019-12-03|   9|           2|\n",
      "|2019-12-03 10:51:00|       -6.5|    -22.5|         null|           340|      6437|    9995|2019-12-03|  10|           2|\n",
      "|2019-12-03 11:51:00|       -6.5|    -33.5|         null|           350|     11265|    9995|2019-12-03|  11|           2|\n",
      "+-------------------+-----------+---------+-------------+--------------+----------+--------+----------+----+------------+\n",
      "\n"
     ]
    }
   ],
   "source": [
    "weather.filter(weather['precipitation'].isNull()).show(40)"
   ]
  },
  {
   "cell_type": "markdown",
   "id": "145fa363-bd52-4406-b9b8-66a29531dec1",
   "metadata": {},
   "source": [
    "It appears that there are 2 wide time gaps where precipitation data are null. By the past weather data from https://www.timeanddate.com/weather/usa/new-york/historic?month=12&year=2019, it appear that there is no rain within these hours. Hence, we will change these null values to 0 mm precipitation."
   ]
  },
  {
   "cell_type": "code",
   "execution_count": 23,
   "id": "e444865a-8df1-44b3-b101-c1323cdb7646",
   "metadata": {},
   "outputs": [],
   "source": [
    "weather = weather.withColumn(\"precipitation\", F.when(F.col(\"precipitation\").isNull(), 0) \\\n",
    "                        .otherwise(F.col(\"precipitation\"))).drop(\"time_segment\")\n"
   ]
  },
  {
   "cell_type": "code",
   "execution_count": 24,
   "id": "d1b78cfb-f798-4d8b-8ba6-3e434eeabc11",
   "metadata": {},
   "outputs": [
    {
     "data": {
      "text/plain": [
       "{'date_time': 0,\n",
       " 'temperature': 0,\n",
       " 'dew_point': 0,\n",
       " 'precipitation': 0,\n",
       " 'wind_direction': 0,\n",
       " 'visibility': 0,\n",
       " 'pressure': 0,\n",
       " 'date': 0,\n",
       " 'hour': 0}"
      ]
     },
     "execution_count": 24,
     "metadata": {},
     "output_type": "execute_result"
    }
   ],
   "source": [
    "dict_null = {col:weather.filter(weather[col].isNull()).count() \n",
    "             for col in weather.columns}\n",
    "dict_null"
   ]
  },
  {
   "cell_type": "markdown",
   "id": "4efc5dee-1f5d-4a68-9ba1-33536d59f22d",
   "metadata": {},
   "source": [
    "---\n",
    "# Taxi Data Cleaning\n",
    "#### 1. Remove dates that are outside range"
   ]
  },
  {
   "cell_type": "code",
   "execution_count": 25,
   "id": "3900bf84-6261-450f-b616-d618f47fc651",
   "metadata": {},
   "outputs": [],
   "source": [
    "taxi = taxi.withColumn(\"tpep_pickup_datetime\",\n",
    "                   to_timestamp(col(\"tpep_pickup_datetime\"))) \\\n",
    "         .withColumn(\"pu_year\", date_format(col(\"tpep_pickup_datetime\"), \"y\"))"
   ]
  },
  {
   "cell_type": "code",
   "execution_count": 26,
   "id": "8145a275-cadc-4d50-aeeb-bc14490bf481",
   "metadata": {},
   "outputs": [
    {
     "name": "stderr",
     "output_type": "stream",
     "text": [
      "                                                                                \r"
     ]
    },
    {
     "name": "stdout",
     "output_type": "stream",
     "text": [
      "+-------------------------+\n",
      "|max(tpep_pickup_datetime)|\n",
      "+-------------------------+\n",
      "|      2090-12-31 06:41:26|\n",
      "+-------------------------+\n",
      "\n"
     ]
    },
    {
     "name": "stderr",
     "output_type": "stream",
     "text": [
      "[Stage 152:=============================================>         (20 + 4) / 24]\r"
     ]
    },
    {
     "name": "stdout",
     "output_type": "stream",
     "text": [
      "+-------------------------+\n",
      "|min(tpep_pickup_datetime)|\n",
      "+-------------------------+\n",
      "|      2001-01-01 00:01:48|\n",
      "+-------------------------+\n",
      "\n"
     ]
    },
    {
     "name": "stderr",
     "output_type": "stream",
     "text": [
      "                                                                                \r"
     ]
    }
   ],
   "source": [
    "taxi.agg({'tpep_pickup_datetime': 'max'}).show()\n",
    "taxi.agg({'tpep_pickup_datetime': 'min'}).show()\n"
   ]
  },
  {
   "cell_type": "code",
   "execution_count": 27,
   "id": "e8a548c0-2984-44ac-b725-7b8b8fce1eb1",
   "metadata": {},
   "outputs": [],
   "source": [
    "taxi = taxi.filter(F.col('pu_year').isin([2018, 2019])).drop('pu_year')"
   ]
  },
  {
   "cell_type": "markdown",
   "id": "8c525181-aef9-4ed2-9662-30d784a240ba",
   "metadata": {},
   "source": [
    "#### 2. Remove if drop-off timestamp is < pick-up timestamp"
   ]
  },
  {
   "cell_type": "code",
   "execution_count": 28,
   "id": "3abf72e0-48c7-4709-9bf1-7b7a08126ff4",
   "metadata": {},
   "outputs": [],
   "source": [
    "# create new column to calculate trip duration in seconds\n",
    "taxi = taxi.withColumn(\n",
    "    'trip_duration',\n",
    "    (col(\"tpep_dropoff_datetime\").cast(\"long\") - \n",
    "     col('tpep_pickup_datetime').cast(\"long\")))"
   ]
  },
  {
   "cell_type": "code",
   "execution_count": 29,
   "id": "63793e43-95c5-426b-aff3-e82ff36455b3",
   "metadata": {},
   "outputs": [
    {
     "name": "stderr",
     "output_type": "stream",
     "text": [
      "                                                                                \r"
     ]
    },
    {
     "data": {
      "text/html": [
       "<table border='1'>\n",
       "<tr><th>tpep_pickup_datetime</th><th>tpep_dropoff_datetime</th><th>pu_location_id</th><th>do_location_id</th><th>trip_duration</th></tr>\n",
       "<tr><td>2018-03-06 15:15:05</td><td>2018-03-05 16:05:01</td><td>70</td><td>48</td><td>-83404</td></tr>\n",
       "<tr><td>2018-03-21 08:20:35</td><td>2018-03-21 07:40:23</td><td>239</td><td>230</td><td>-2412</td></tr>\n",
       "<tr><td>2018-03-24 15:15:17</td><td>2018-03-20 14:03:49</td><td>74</td><td>75</td><td>-349888</td></tr>\n",
       "<tr><td>2018-04-12 15:15:06</td><td>2018-04-06 16:14:50</td><td>138</td><td>239</td><td>-514816</td></tr>\n",
       "<tr><td>2018-04-29 15:57:18</td><td>2018-04-29 14:50:55</td><td>142</td><td>66</td><td>-3983</td></tr>\n",
       "</table>\n"
      ],
      "text/plain": [
       "+--------------------+---------------------+--------------+--------------+-------------+\n",
       "|tpep_pickup_datetime|tpep_dropoff_datetime|pu_location_id|do_location_id|trip_duration|\n",
       "+--------------------+---------------------+--------------+--------------+-------------+\n",
       "| 2018-03-06 15:15:05|  2018-03-05 16:05:01|            70|            48|       -83404|\n",
       "| 2018-03-21 08:20:35|  2018-03-21 07:40:23|           239|           230|        -2412|\n",
       "| 2018-03-24 15:15:17|  2018-03-20 14:03:49|            74|            75|      -349888|\n",
       "| 2018-04-12 15:15:06|  2018-04-06 16:14:50|           138|           239|      -514816|\n",
       "| 2018-04-29 15:57:18|  2018-04-29 14:50:55|           142|            66|        -3983|\n",
       "+--------------------+---------------------+--------------+--------------+-------------+"
      ]
     },
     "execution_count": 29,
     "metadata": {},
     "output_type": "execute_result"
    }
   ],
   "source": [
    "taxi.where((F.col('trip_duration') < 0)).limit(5)"
   ]
  },
  {
   "cell_type": "code",
   "execution_count": 30,
   "id": "a60a3e5d-51f7-4b29-9481-44ba8b7d36a2",
   "metadata": {
    "tags": []
   },
   "outputs": [],
   "source": [
    "taxi = taxi.where((F.col('trip_duration') > 0))"
   ]
  },
  {
   "cell_type": "markdown",
   "id": "73ec39c9-5265-4ba7-977d-9807dccd31c2",
   "metadata": {},
   "source": [
    "#### 3. Remove if duration is more than 1 day (do - pu > 18000)"
   ]
  },
  {
   "cell_type": "code",
   "execution_count": 31,
   "id": "c260c7f5-050e-43d4-a72a-595beb5f5478",
   "metadata": {},
   "outputs": [
    {
     "name": "stderr",
     "output_type": "stream",
     "text": [
      "                                                                                \r"
     ]
    },
    {
     "data": {
      "text/html": [
       "<table border='1'>\n",
       "<tr><th>tpep_pickup_datetime</th><th>tpep_dropoff_datetime</th><th>pu_location_id</th><th>do_location_id</th><th>trip_duration</th></tr>\n",
       "<tr><td>2018-03-01 00:02:42</td><td>2018-03-01 23:52:20</td><td>48</td><td>143</td><td>85778</td></tr>\n",
       "<tr><td>2018-03-01 00:05:51</td><td>2018-03-01 23:53:55</td><td>234</td><td>232</td><td>85684</td></tr>\n",
       "<tr><td>2018-03-01 00:04:21</td><td>2018-03-01 23:28:33</td><td>43</td><td>107</td><td>84252</td></tr>\n",
       "<tr><td>2018-03-01 00:34:36</td><td>2018-03-02 00:05:46</td><td>163</td><td>7</td><td>84670</td></tr>\n",
       "<tr><td>2018-03-01 00:15:23</td><td>2018-03-01 23:39:52</td><td>114</td><td>79</td><td>84269</td></tr>\n",
       "</table>\n"
      ],
      "text/plain": [
       "+--------------------+---------------------+--------------+--------------+-------------+\n",
       "|tpep_pickup_datetime|tpep_dropoff_datetime|pu_location_id|do_location_id|trip_duration|\n",
       "+--------------------+---------------------+--------------+--------------+-------------+\n",
       "| 2018-03-01 00:02:42|  2018-03-01 23:52:20|            48|           143|        85778|\n",
       "| 2018-03-01 00:05:51|  2018-03-01 23:53:55|           234|           232|        85684|\n",
       "| 2018-03-01 00:04:21|  2018-03-01 23:28:33|            43|           107|        84252|\n",
       "| 2018-03-01 00:34:36|  2018-03-02 00:05:46|           163|             7|        84670|\n",
       "| 2018-03-01 00:15:23|  2018-03-01 23:39:52|           114|            79|        84269|\n",
       "+--------------------+---------------------+--------------+--------------+-------------+"
      ]
     },
     "execution_count": 31,
     "metadata": {},
     "output_type": "execute_result"
    }
   ],
   "source": [
    "taxi.where((F.col('trip_duration') > 18000)).limit(5)"
   ]
  },
  {
   "cell_type": "code",
   "execution_count": 32,
   "id": "4bef3415-eee1-4852-bf6e-0eaa03d671f7",
   "metadata": {},
   "outputs": [],
   "source": [
    "taxi = taxi.where((F.col('trip_duration') < 18000))"
   ]
  },
  {
   "cell_type": "markdown",
   "id": "1a289cbc-30d2-41ad-b49f-eb871812895f",
   "metadata": {},
   "source": [
    "#### 4. Only select pick up location from JFK or LaGuardia Airport"
   ]
  },
  {
   "cell_type": "code",
   "execution_count": 33,
   "id": "fb33a3de-3752-49dd-9628-a93a96418d34",
   "metadata": {},
   "outputs": [
    {
     "data": {
      "text/html": [
       "<div>\n",
       "<style scoped>\n",
       "    .dataframe tbody tr th:only-of-type {\n",
       "        vertical-align: middle;\n",
       "    }\n",
       "\n",
       "    .dataframe tbody tr th {\n",
       "        vertical-align: top;\n",
       "    }\n",
       "\n",
       "    .dataframe thead th {\n",
       "        text-align: right;\n",
       "    }\n",
       "</style>\n",
       "<table border=\"1\" class=\"dataframe\">\n",
       "  <thead>\n",
       "    <tr style=\"text-align: right;\">\n",
       "      <th></th>\n",
       "      <th>LocationID</th>\n",
       "      <th>Borough</th>\n",
       "      <th>Zone</th>\n",
       "      <th>service_zone</th>\n",
       "    </tr>\n",
       "  </thead>\n",
       "  <tbody>\n",
       "    <tr>\n",
       "      <th>131</th>\n",
       "      <td>132</td>\n",
       "      <td>Queens</td>\n",
       "      <td>JFK Airport</td>\n",
       "      <td>Airports</td>\n",
       "    </tr>\n",
       "    <tr>\n",
       "      <th>137</th>\n",
       "      <td>138</td>\n",
       "      <td>Queens</td>\n",
       "      <td>LaGuardia Airport</td>\n",
       "      <td>Airports</td>\n",
       "    </tr>\n",
       "  </tbody>\n",
       "</table>\n",
       "</div>"
      ],
      "text/plain": [
       "     LocationID Borough               Zone service_zone\n",
       "131         132  Queens        JFK Airport     Airports\n",
       "137         138  Queens  LaGuardia Airport     Airports"
      ]
     },
     "execution_count": 33,
     "metadata": {},
     "output_type": "execute_result"
    }
   ],
   "source": [
    "zones[zones['service_zone'] == 'Airports']"
   ]
  },
  {
   "cell_type": "code",
   "execution_count": 34,
   "id": "d330fd21-5d9d-41ce-a6f2-30ebd3224f20",
   "metadata": {},
   "outputs": [
    {
     "name": "stderr",
     "output_type": "stream",
     "text": [
      "                                                                                \r"
     ]
    },
    {
     "data": {
      "text/plain": [
       "13592895"
      ]
     },
     "execution_count": 34,
     "metadata": {},
     "output_type": "execute_result"
    }
   ],
   "source": [
    "taxi.where((F.col('pu_location_id').isin([132, 138])) | \n",
    "           (F.col('do_location_id').isin([132, 138]))).count()"
   ]
  },
  {
   "cell_type": "code",
   "execution_count": 35,
   "id": "91f32be4-730c-4080-b3da-878d54f0d167",
   "metadata": {},
   "outputs": [],
   "source": [
    "taxi = taxi.where((F.col('pu_location_id').isin([132, 138])) | \n",
    "                  (F.col('do_location_id').isin([132, 138])))"
   ]
  },
  {
   "cell_type": "markdown",
   "id": "7d2dac45-009d-4332-aafe-19e648c88928",
   "metadata": {},
   "source": [
    "#### 5. Check for null values"
   ]
  },
  {
   "cell_type": "code",
   "execution_count": 36,
   "id": "57eac845-87fb-42d6-8f25-aca2655d995b",
   "metadata": {},
   "outputs": [
    {
     "name": "stderr",
     "output_type": "stream",
     "text": [
      "                                                                                \r"
     ]
    },
    {
     "data": {
      "text/plain": [
       "{'tpep_pickup_datetime': 0,\n",
       " 'tpep_dropoff_datetime': 0,\n",
       " 'pu_location_id': 0,\n",
       " 'do_location_id': 0,\n",
       " 'trip_duration': 0}"
      ]
     },
     "execution_count": 36,
     "metadata": {},
     "output_type": "execute_result"
    }
   ],
   "source": [
    "dict_null = {col:taxi.filter(taxi[col].isNull()).count() for col in taxi.columns}\n",
    "dict_null"
   ]
  },
  {
   "cell_type": "markdown",
   "id": "43ded502-c307-4618-b7c3-e6b570814cf7",
   "metadata": {},
   "source": [
    "---\n",
    "# Create new features"
   ]
  },
  {
   "cell_type": "markdown",
   "id": "629e7e8a-d908-4bb4-aa4b-f3e665dd6755",
   "metadata": {},
   "source": [
    "#### 1. From existing taxi dataset"
   ]
  },
  {
   "cell_type": "code",
   "execution_count": 37,
   "id": "db309377-aefa-4eef-ba46-2887d4978a41",
   "metadata": {},
   "outputs": [],
   "source": [
    "# create new column pickup day of week\n",
    "for abbr in ('pu', 'do'):\n",
    "    if abbr == 'pu':\n",
    "        long = \"pickup\"\n",
    "    else:\n",
    "        long = \"dropoff\"\n",
    "    taxi = taxi.withColumn(f\"tpep_{long}_datetime\",\n",
    "                       to_timestamp(col(f\"tpep_{long}_datetime\"))) \\\n",
    "             .withColumn(f\"{abbr}_dow\", dayofweek(col(f\"tpep_{long}_datetime\")))\n",
    "\n",
    "    # create new column pickup hour\n",
    "    taxi = taxi.withColumn(f'{abbr}_hour', hour(taxi[f'tpep_{long}_datetime']))\n",
    "\n"
   ]
  },
  {
   "cell_type": "markdown",
   "id": "52af62f2-fae5-42a3-8e17-de67ea77c46d",
   "metadata": {},
   "source": [
    "#### 2a. From external dataset (School Holidays)"
   ]
  },
  {
   "cell_type": "code",
   "execution_count": 38,
   "id": "a4fb27e7-0557-4812-b21a-3a70d001ddd0",
   "metadata": {},
   "outputs": [],
   "source": [
    "sch_hol = pd.read_csv(\"../data/raw/other_data/nyc_school_holiday.csv\", sep=\";\")\n",
    "sch_hol['DATE'] = pd.to_datetime(sch_hol['DATE'], format='%d/%m/%y')\n",
    "sch_hol_date = sch_hol['DATE'].dt.date.tolist()\n",
    "\n",
    "# create helper column pickup date format\n",
    "taxi = taxi.withColumn(\n",
    "    \"pu_date\",\n",
    "    to_date(col(\"tpep_pickup_datetime\"),\"yyyy-MM-dd\")\n",
    ")\n",
    "\n",
    "# create new column to identify if that day is school holiday\n",
    "taxi = taxi.withColumn(\n",
    "    'is_school_holiday',\n",
    "    F.when(\n",
    "        (F.col('pu_date').isin(sch_hol_date)),\n",
    "        1\n",
    "    ).otherwise(0)\n",
    ")\n"
   ]
  },
  {
   "cell_type": "code",
   "execution_count": 39,
   "id": "a9ab3b39-b378-4987-801a-24c9957824cb",
   "metadata": {},
   "outputs": [
    {
     "data": {
      "text/html": [
       "<div>\n",
       "<style scoped>\n",
       "    .dataframe tbody tr th:only-of-type {\n",
       "        vertical-align: middle;\n",
       "    }\n",
       "\n",
       "    .dataframe tbody tr th {\n",
       "        vertical-align: top;\n",
       "    }\n",
       "\n",
       "    .dataframe thead th {\n",
       "        text-align: right;\n",
       "    }\n",
       "</style>\n",
       "<table border=\"1\" class=\"dataframe\">\n",
       "  <thead>\n",
       "    <tr style=\"text-align: right;\">\n",
       "      <th></th>\n",
       "      <th>DATE</th>\n",
       "      <th>EVENT</th>\n",
       "    </tr>\n",
       "  </thead>\n",
       "  <tbody>\n",
       "    <tr>\n",
       "      <th>0</th>\n",
       "      <td>2018-01-01</td>\n",
       "      <td>Winter Recess (Schools closed)</td>\n",
       "    </tr>\n",
       "    <tr>\n",
       "      <th>1</th>\n",
       "      <td>2018-01-15</td>\n",
       "      <td>Dr. Martin Luther King Jr. Day (schools closed)</td>\n",
       "    </tr>\n",
       "    <tr>\n",
       "      <th>2</th>\n",
       "      <td>2018-02-16</td>\n",
       "      <td>Lunar New Year (schools closed)</td>\n",
       "    </tr>\n",
       "    <tr>\n",
       "      <th>3</th>\n",
       "      <td>2018-02-19</td>\n",
       "      <td>Midwinter Recess (includes Washington’s Birthd...</td>\n",
       "    </tr>\n",
       "    <tr>\n",
       "      <th>4</th>\n",
       "      <td>2018-02-20</td>\n",
       "      <td>Midwinter Recess (includes Washington’s Birthd...</td>\n",
       "    </tr>\n",
       "  </tbody>\n",
       "</table>\n",
       "</div>"
      ],
      "text/plain": [
       "        DATE                                              EVENT\n",
       "0 2018-01-01                     Winter Recess (Schools closed)\n",
       "1 2018-01-15   Dr. Martin Luther King Jr. Day (schools closed) \n",
       "2 2018-02-16                   Lunar New Year (schools closed) \n",
       "3 2018-02-19  Midwinter Recess (includes Washington’s Birthd...\n",
       "4 2018-02-20  Midwinter Recess (includes Washington’s Birthd..."
      ]
     },
     "execution_count": 39,
     "metadata": {},
     "output_type": "execute_result"
    }
   ],
   "source": [
    "sch_hol.head()"
   ]
  },
  {
   "cell_type": "code",
   "execution_count": 40,
   "id": "9785c8d5-1b92-47cc-89e4-008d39253dd2",
   "metadata": {},
   "outputs": [
    {
     "name": "stderr",
     "output_type": "stream",
     "text": [
      "[Stage 186:====================================================>  (23 + 1) / 24]\r"
     ]
    },
    {
     "data": {
      "text/html": [
       "<table border='1'>\n",
       "<tr><th>tpep_pickup_datetime</th><th>tpep_dropoff_datetime</th><th>pu_location_id</th><th>do_location_id</th><th>trip_duration</th><th>pu_dow</th><th>pu_hour</th><th>do_dow</th><th>do_hour</th><th>pu_date</th><th>is_school_holiday</th></tr>\n",
       "</table>\n"
      ],
      "text/plain": [
       "+--------------------+---------------------+--------------+--------------+-------------+------+-------+------+-------+-------+-----------------+\n",
       "|tpep_pickup_datetime|tpep_dropoff_datetime|pu_location_id|do_location_id|trip_duration|pu_dow|pu_hour|do_dow|do_hour|pu_date|is_school_holiday|\n",
       "+--------------------+---------------------+--------------+--------------+-------------+------+-------+------+-------+-------+-----------------+\n",
       "+--------------------+---------------------+--------------+--------------+-------------+------+-------+------+-------+-------+-----------------+"
      ]
     },
     "execution_count": 40,
     "metadata": {},
     "output_type": "execute_result"
    }
   ],
   "source": [
    "# check if 15-01-2018 is marked as holiday\n",
    "taxi.filter(F.col('pu_date') == datetime(2018, 1, 15)).limit(5)"
   ]
  },
  {
   "cell_type": "markdown",
   "id": "6a31ef2a-d645-44cc-a655-e83abf99a4f3",
   "metadata": {},
   "source": [
    "#### 2b. From external dataset (Hourly Weather)"
   ]
  },
  {
   "cell_type": "code",
   "execution_count": 41,
   "id": "61cf0d2f-0d6d-4305-b789-62c443050c23",
   "metadata": {},
   "outputs": [
    {
     "name": "stdout",
     "output_type": "stream",
     "text": [
      "+----------+----+-----------+---------+-------------+--------------+----------+--------+\n",
      "|      date|hour|temperature|dew_point|precipitation|wind_direction|visibility|pressure|\n",
      "+----------+----+-----------+---------+-------------+--------------+----------+--------+\n",
      "|2018-01-02|   0|      -80.8|   -203.3|          0.0|         295.0|   16046.5| 10277.5|\n",
      "|2018-01-02|   1|      -83.5|   -189.5|          0.0|         270.0|   16093.0| 10279.0|\n",
      "|2018-01-02|   2|      -83.5|   -167.5|          0.0|         270.0|   16093.0| 10279.0|\n",
      "|2018-01-02|   3|      -83.3|   -161.8|          0.0|         275.0|   16046.5| 10277.5|\n",
      "|2018-01-02|   4|      -86.5|   -162.0|          0.0|         270.0|   16093.0| 10276.0|\n",
      "|2018-01-02|   5|      -94.5|   -161.5|          0.0|         270.0|   16093.0| 10276.0|\n",
      "|2018-01-02|   6|      -94.3|   -164.3|          0.0|         275.0|   16046.5| 10274.5|\n",
      "|2018-01-02|   7|      -94.5|   -167.5|          0.0|         280.0|   16093.0| 10283.0|\n",
      "|2018-01-02|   8|     -100.5|   -167.5|          0.0|         270.0|   16093.0| 10283.0|\n",
      "|2018-01-02|   9|     -100.3|   -167.3|          0.0|         280.0|   16046.5| 10283.0|\n",
      "|2018-01-02|  10|     -100.5|   -167.5|          0.0|         280.0|   16093.0| 10289.0|\n",
      "|2018-01-02|  11|     -100.5|   -161.5|          0.0|         270.0|   16093.0| 10296.0|\n",
      "|2018-01-02|  12|     -100.3|   -161.3|          0.0|         280.0|   16046.5| 10298.0|\n",
      "|2018-01-02|  13|      -89.5|   -161.5|          0.0|         290.0|   16093.0| 10303.0|\n",
      "|2018-01-02|  14|      -78.5|   -156.5|          0.0|         270.0|   16093.0| 10306.0|\n",
      "|2018-01-02|  15|      -72.8|   -156.3|          0.0|         280.0|   16046.5| 10301.5|\n",
      "|2018-01-02|  16|      -56.5|   -150.5|          0.0|         290.0|   16093.0| 10286.0|\n",
      "|2018-01-02|  17|      -44.5|   -144.5|          0.0|         260.0|   16093.0| 10279.0|\n",
      "|2018-01-02|  18|      -41.8|   -144.3|          0.0|         265.0|   16046.5| 10272.5|\n",
      "|2018-01-02|  19|      -33.5|   -144.5|          0.0|         260.0|   16093.0| 10269.0|\n",
      "+----------+----+-----------+---------+-------------+--------------+----------+--------+\n",
      "only showing top 20 rows\n",
      "\n"
     ]
    },
    {
     "name": "stderr",
     "output_type": "stream",
     "text": [
      "                                                                                \r"
     ]
    }
   ],
   "source": [
    "clean_weather = weather \\\n",
    "                    .groupBy(['date', 'hour']) \\\n",
    "                    .agg(\n",
    "                        F.mean(\"temperature\").alias(\"temperature\"),\n",
    "                        F.mean(\"dew_point\").alias(\"dew_point\"),\n",
    "                        F.mean(\"precipitation\").alias(\"precipitation\"),\n",
    "                        F.mean(\"wind_direction\").alias(\"wind_direction\"),\n",
    "                        F.mean(\"visibility\").alias(\"visibility\"),\n",
    "                        F.mean(\"pressure\").alias(\"pressure\"),\n",
    "                    ) \\\n",
    "                    .orderBy([\"date\", 'hour'])\n",
    "\n",
    "clean_weather.show()"
   ]
  },
  {
   "cell_type": "code",
   "execution_count": 42,
   "id": "7fb19436-107b-4f59-8d91-a75e5c546b2c",
   "metadata": {},
   "outputs": [],
   "source": [
    "# merge taxi and weather dataset on date and hour\n",
    "# remove taxi data if weather is not available (inner join)\n",
    "sdf = (taxi \\\n",
    "           .join(clean_weather, on=[taxi['pu_date'] == clean_weather['date'], \n",
    "                    taxi['pu_hour'] == clean_weather['hour']], how='inner')\n",
    "           .drop(clean_weather['date'])\n",
    "           .drop(clean_weather['hour'])\n",
    "      )"
   ]
  },
  {
   "cell_type": "code",
   "execution_count": 43,
   "id": "231fe258-70ba-4dca-95d6-0e6e88d11daf",
   "metadata": {},
   "outputs": [
    {
     "name": "stderr",
     "output_type": "stream",
     "text": [
      "                                                                                \r"
     ]
    },
    {
     "data": {
      "text/plain": [
       "(13592895, 13573975)"
      ]
     },
     "execution_count": 43,
     "metadata": {},
     "output_type": "execute_result"
    }
   ],
   "source": [
    "# taxi number of rows before merge vs after weather merge\n",
    "(taxi.count(), sdf.count())"
   ]
  },
  {
   "cell_type": "code",
   "execution_count": 44,
   "id": "69f073df-0ed9-432f-86c5-14de639ce459",
   "metadata": {},
   "outputs": [
    {
     "data": {
      "text/html": [
       "<table border='1'>\n",
       "<tr><th>date</th><th>hour</th><th>temperature</th><th>dew_point</th><th>precipitation</th><th>wind_direction</th><th>visibility</th><th>pressure</th></tr>\n",
       "</table>\n"
      ],
      "text/plain": [
       "+----+----+-----------+---------+-------------+--------------+----------+--------+\n",
       "|date|hour|temperature|dew_point|precipitation|wind_direction|visibility|pressure|\n",
       "+----+----+-----------+---------+-------------+--------------+----------+--------+\n",
       "+----+----+-----------+---------+-------------+--------------+----------+--------+"
      ]
     },
     "execution_count": 44,
     "metadata": {},
     "output_type": "execute_result"
    }
   ],
   "source": [
    "# check if merge matches perfectly\n",
    "clean_weather.filter((F.col('date') == datetime(2018, 3, 1)) & F.col('hour').isin([10, 11])).limit(2)"
   ]
  },
  {
   "cell_type": "code",
   "execution_count": 45,
   "id": "dedba46f-0f0b-460c-91cc-fc9999ccc9a7",
   "metadata": {},
   "outputs": [
    {
     "name": "stderr",
     "output_type": "stream",
     "text": [
      "[Stage 209:==================================================>    (22 + 2) / 24]\r"
     ]
    },
    {
     "data": {
      "text/html": [
       "<table border='1'>\n",
       "<tr><th>tpep_pickup_datetime</th><th>tpep_dropoff_datetime</th><th>pu_location_id</th><th>do_location_id</th><th>trip_duration</th><th>pu_dow</th><th>pu_hour</th><th>do_dow</th><th>do_hour</th><th>pu_date</th><th>is_school_holiday</th></tr>\n",
       "</table>\n"
      ],
      "text/plain": [
       "+--------------------+---------------------+--------------+--------------+-------------+------+-------+------+-------+-------+-----------------+\n",
       "|tpep_pickup_datetime|tpep_dropoff_datetime|pu_location_id|do_location_id|trip_duration|pu_dow|pu_hour|do_dow|do_hour|pu_date|is_school_holiday|\n",
       "+--------------------+---------------------+--------------+--------------+-------------+------+-------+------+-------+-------+-----------------+\n",
       "+--------------------+---------------------+--------------+--------------+-------------+------+-------+------+-------+-------+-----------------+"
      ]
     },
     "execution_count": 45,
     "metadata": {},
     "output_type": "execute_result"
    }
   ],
   "source": [
    "taxi.filter(F.col('pu_date') == datetime(2018, 3, 1)).limit(3)"
   ]
  },
  {
   "cell_type": "code",
   "execution_count": 46,
   "id": "c158885c-2b76-4b24-be48-0ba4c9934024",
   "metadata": {},
   "outputs": [
    {
     "data": {
      "text/html": [
       "<table border='1'>\n",
       "<tr><th>tpep_pickup_datetime</th><th>tpep_dropoff_datetime</th><th>pu_location_id</th><th>do_location_id</th><th>trip_duration</th><th>pu_dow</th><th>pu_hour</th><th>do_dow</th><th>do_hour</th><th>pu_date</th><th>is_school_holiday</th><th>temperature</th><th>dew_point</th><th>precipitation</th><th>wind_direction</th><th>visibility</th><th>pressure</th></tr>\n",
       "</table>\n"
      ],
      "text/plain": [
       "+--------------------+---------------------+--------------+--------------+-------------+------+-------+------+-------+-------+-----------------+-----------+---------+-------------+--------------+----------+--------+\n",
       "|tpep_pickup_datetime|tpep_dropoff_datetime|pu_location_id|do_location_id|trip_duration|pu_dow|pu_hour|do_dow|do_hour|pu_date|is_school_holiday|temperature|dew_point|precipitation|wind_direction|visibility|pressure|\n",
       "+--------------------+---------------------+--------------+--------------+-------------+------+-------+------+-------+-------+-----------------+-----------+---------+-------------+--------------+----------+--------+\n",
       "+--------------------+---------------------+--------------+--------------+-------------+------+-------+------+-------+-------+-----------------+-----------+---------+-------------+--------------+----------+--------+"
      ]
     },
     "execution_count": 46,
     "metadata": {},
     "output_type": "execute_result"
    }
   ],
   "source": [
    "sdf.filter(F.col('pu_date') == datetime(2018, 3, 1)).limit(3)"
   ]
  },
  {
   "cell_type": "markdown",
   "id": "ad179daa-4959-4875-9c0e-c3b0dcdc3e2d",
   "metadata": {},
   "source": [
    "---\n",
    "### Random sampling data for visualization"
   ]
  },
  {
   "cell_type": "code",
   "execution_count": 47,
   "id": "a04fd423-c6bf-4e1b-8733-1c2898cf7183",
   "metadata": {
    "tags": []
   },
   "outputs": [
    {
     "name": "stderr",
     "output_type": "stream",
     "text": [
      "                                                                                \r"
     ]
    }
   ],
   "source": [
    "SAMPLE_SIZE = 0.05\n",
    "df = sdf.sample(SAMPLE_SIZE, seed=0).toPandas()\n",
    "df.to_parquet('../data/curated/sample_data.parquet')"
   ]
  },
  {
   "cell_type": "markdown",
   "id": "ff91e52c-f392-45b1-a95c-20111452ba7f",
   "metadata": {},
   "source": [
    "### Save final sdf to curated data folder"
   ]
  },
  {
   "cell_type": "code",
   "execution_count": 48,
   "id": "a003d969-4b16-4cad-bb4c-c198c67261f8",
   "metadata": {},
   "outputs": [
    {
     "name": "stderr",
     "output_type": "stream",
     "text": [
      "                                                                                \r"
     ]
    }
   ],
   "source": [
    "sdf.write.parquet(\"../data/curated/curated_sdf.parquet\")"
   ]
  },
  {
   "cell_type": "markdown",
   "id": "a27849dd-5008-4788-bafd-7ad38dab74d6",
   "metadata": {
    "tags": []
   },
   "source": [
    "---\n",
    "# Feature Engineering\n",
    "#### 1. Check for feature correlations"
   ]
  },
  {
   "cell_type": "code",
   "execution_count": null,
   "id": "263e565d-5f2c-42f6-afd0-63a9f7238411",
   "metadata": {},
   "outputs": [],
   "source": []
  },
  {
   "cell_type": "code",
   "execution_count": null,
   "id": "465a8668-63c4-43f4-944a-ba1686d174b0",
   "metadata": {},
   "outputs": [],
   "source": []
  },
  {
   "cell_type": "code",
   "execution_count": null,
   "id": "88541648-ea22-4681-855c-c4fe9f70c2b5",
   "metadata": {},
   "outputs": [],
   "source": []
  },
  {
   "cell_type": "markdown",
   "id": "c07997fe-c5f3-4677-b128-abc54b33b806",
   "metadata": {},
   "source": [
    "#### 2. Feature Selection using AIC"
   ]
  },
  {
   "cell_type": "code",
   "execution_count": null,
   "id": "d05a40bd-6dac-4e96-8304-931c33628609",
   "metadata": {},
   "outputs": [],
   "source": []
  },
  {
   "cell_type": "code",
   "execution_count": null,
   "id": "8c19db1d-684c-4b4e-8be8-3d1787fc4804",
   "metadata": {},
   "outputs": [],
   "source": []
  },
  {
   "cell_type": "code",
   "execution_count": null,
   "id": "5533173e-5196-40dc-beed-558e1bbbe2ea",
   "metadata": {},
   "outputs": [],
   "source": []
  }
 ],
 "metadata": {
  "kernelspec": {
   "display_name": "Python 3 (ipykernel)",
   "language": "python",
   "name": "python3"
  },
  "language_info": {
   "codemirror_mode": {
    "name": "ipython",
    "version": 3
   },
   "file_extension": ".py",
   "mimetype": "text/x-python",
   "name": "python",
   "nbconvert_exporter": "python",
   "pygments_lexer": "ipython3",
   "version": "3.9.7"
  }
 },
 "nbformat": 4,
 "nbformat_minor": 5
}
