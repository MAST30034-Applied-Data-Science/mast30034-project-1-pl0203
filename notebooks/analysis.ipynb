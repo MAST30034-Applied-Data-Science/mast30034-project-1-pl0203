{
 "cells": [
  {
   "cell_type": "markdown",
   "id": "9e9da0b2-5a21-46f9-8eba-0b6bed63b955",
   "metadata": {},
   "source": [
    "# Analysis:\n",
    "1. Initial outlier analysis\n",
    "2. Data distribution\n",
    "3. Feature Engineering: Check for correlation between features, Feature selection using AIC\n",
    "4. Other interesting findings"
   ]
  },
  {
   "cell_type": "code",
   "execution_count": 1,
   "id": "217ad867-55d8-4c16-8904-9e77ccd75a08",
   "metadata": {},
   "outputs": [],
   "source": [
    "from pyspark.sql.functions import to_timestamp, date_format, hour, dayofweek\n",
    "from pyspark.sql.functions import isnan, when, count, col, split, concat, lit\n",
    "from pyspark.sql.functions import to_date, create_map\n",
    "from itertools import chain\n",
    "from pyspark.sql import SparkSession, Window, functions as F\n",
    "import pandas as pd\n",
    "import numpy as np\n",
    "import seaborn as sns\n",
    "from datetime import datetime\n",
    "import matplotlib.pyplot as plt\n",
    "%matplotlib inline"
   ]
  },
  {
   "cell_type": "code",
   "execution_count": 2,
   "id": "1798770d-f59e-47cb-b733-cb08e6a6eba6",
   "metadata": {},
   "outputs": [
    {
     "name": "stderr",
     "output_type": "stream",
     "text": [
      "Setting default log level to \"WARN\".\n",
      "To adjust logging level use sc.setLogLevel(newLevel). For SparkR, use setLogLevel(newLevel).\n"
     ]
    },
    {
     "name": "stdout",
     "output_type": "stream",
     "text": [
      "22/08/17 00:21:54 WARN NativeCodeLoader: Unable to load native-hadoop library for your platform... using builtin-java classes where applicable\n",
      "22/08/17 00:21:55 WARN Utils: Service 'SparkUI' could not bind on port 4040. Attempting port 4041.\n"
     ]
    }
   ],
   "source": [
    "# Create a spark session (which will run spark jobs)\n",
    "spark = (\n",
    "    SparkSession.builder.appName(\"Analysis\")\n",
    "    .config(\"spark.sql.repl.eagerEval.enabled\", True) \n",
    "    .config(\"spark.sql.parquet.cacheMetadata\", \"true\")\n",
    "    .config(\"spark.sql.session.timeZone\", \"Etc/UTC\")\n",
    "    .getOrCreate()\n",
    ")"
   ]
  },
  {
   "cell_type": "code",
   "execution_count": 3,
   "id": "9fc220a5-1cca-460c-b216-fddba9e2639a",
   "metadata": {},
   "outputs": [
    {
     "name": "stderr",
     "output_type": "stream",
     "text": [
      "                                                                                \r"
     ]
    }
   ],
   "source": [
    "sdf = spark.read.parquet(\"../data/curated/curated_sdf.parquet\")"
   ]
  },
  {
   "cell_type": "code",
   "execution_count": 4,
   "id": "d6d1aade-bf4b-4d09-b290-f2929dcfe9ff",
   "metadata": {},
   "outputs": [],
   "source": [
    "df = pd.read_parquet(\"../data/curated/sample_data.parquet\")"
   ]
  },
  {
   "cell_type": "code",
   "execution_count": 10,
   "id": "b6e8e5b4-b5de-4124-84f8-713145cc413c",
   "metadata": {},
   "outputs": [
    {
     "data": {
      "text/plain": [
       "Index(['tpep_pickup_datetime', 'tpep_dropoff_datetime', 'pu_location_id',\n",
       "       'do_location_id', 'trip_duration', 'pu_dow', 'pu_hour', 'do_dow',\n",
       "       'do_hour', 'pu_date', 'is_school_holiday', 'temperature', 'dew_point',\n",
       "       'precipitation', 'wind_direction', 'visibility', 'pressure'],\n",
       "      dtype='object')"
      ]
     },
     "execution_count": 10,
     "metadata": {},
     "output_type": "execute_result"
    }
   ],
   "source": [
    "df.columns"
   ]
  },
  {
   "cell_type": "markdown",
   "id": "e691c16c-26db-44b0-8816-24776d39fc9a",
   "metadata": {},
   "source": [
    "Need to drop negative fare_amount, trip_duration, trip_distance data"
   ]
  },
  {
   "cell_type": "code",
   "execution_count": 8,
   "id": "7ddee644-1dbc-428b-8539-ecd952a14fce",
   "metadata": {},
   "outputs": [
    {
     "data": {
      "image/png": "[encoded data removed]",
      "text/plain": [
       "<Figure size 432x288 with 1 Axes>"
      ]
     },
     "metadata": {
      "needs_background": "light"
     },
     "output_type": "display_data"
    }
   ],
   "source": [
    "ax = sns.boxplot(data=df[['temperature', 'dew_point']], orient=\"h\", palette=\"Set2\")"
   ]
  },
  {
   "cell_type": "code",
   "execution_count": 11,
   "id": "1de42b3e-af69-4a45-9f38-34d9beda44aa",
   "metadata": {},
   "outputs": [
    {
     "data": {
      "image/png": "[encoded data removed]",
      "text/plain": [
       "<Figure size 432x288 with 1 Axes>"
      ]
     },
     "metadata": {
      "needs_background": "light"
     },
     "output_type": "display_data"
    }
   ],
   "source": [
    "ax = sns.boxplot(data=df[['pu_hour', 'do_hour']], orient=\"h\", palette=\"Set2\")"
   ]
  },
  {
   "cell_type": "code",
   "execution_count": 5,
   "id": "adf912bc-4912-4c94-8174-d0dbcfae82d0",
   "metadata": {},
   "outputs": [
    {
     "data": {
      "text/plain": [
       "<AxesSubplot:xlabel='pu_hour'>"
      ]
     },
     "execution_count": 5,
     "metadata": {},
     "output_type": "execute_result"
    },
    {
     "data": {
      "image/png": "[encoded data removed]",
      "text/plain": [
       "<Figure size 432x288 with 1 Axes>"
      ]
     },
     "metadata": {
      "needs_background": "light"
     },
     "output_type": "display_data"
    }
   ],
   "source": [
    "df.groupby(df['pu_hour']).size().plot()\n"
   ]
  },
  {
   "cell_type": "code",
   "execution_count": null,
   "id": "6f7932a3-8d7d-4519-a6e3-c32c6535b2c3",
   "metadata": {},
   "outputs": [],
   "source": []
  }
 ],
 "metadata": {
  "kernelspec": {
   "display_name": "Python 3 (ipykernel)",
   "language": "python",
   "name": "python3"
  },
  "language_info": {
   "codemirror_mode": {
    "name": "ipython",
    "version": 3
   },
   "file_extension": ".py",
   "mimetype": "text/x-python",
   "name": "python",
   "nbconvert_exporter": "python",
   "pygments_lexer": "ipython3",
   "version": "3.9.7"
  }
 },
 "nbformat": 4,
 "nbformat_minor": 5
}
