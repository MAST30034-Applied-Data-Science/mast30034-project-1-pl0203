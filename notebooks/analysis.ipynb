{
 "cells": [
  {
   "cell_type": "markdown",
   "id": "9e9da0b2-5a21-46f9-8eba-0b6bed63b955",
   "metadata": {},
   "source": [
    "# Analysis:\n",
    "1. Initial outlier analysis\n",
    "2. Data distribution\n",
    "3. Null values\n",
    "4. Other interesting findings"
   ]
  },
  {
   "cell_type": "code",
   "execution_count": 1,
   "id": "217ad867-55d8-4c16-8904-9e77ccd75a08",
   "metadata": {},
   "outputs": [],
   "source": [
    "import pandas as pd\n",
    "import datetime as dt\n",
    "import seaborn as sns\n",
    "from datetime import datetime\n",
    "import matplotlib.pyplot as plt\n",
    "%matplotlib inline"
   ]
  },
  {
   "cell_type": "code",
   "execution_count": 2,
   "id": "d6d1aade-bf4b-4d09-b290-f2929dcfe9ff",
   "metadata": {},
   "outputs": [
    {
     "name": "stderr",
     "output_type": "stream",
     "text": [
      "/Users/patrick/opt/anaconda3/lib/python3.9/site-packages/IPython/core/interactiveshell.py:3444: DtypeWarning: Columns (6) have mixed types.Specify dtype option on import or set low_memory=False.\n",
      "  exec(code_obj, self.user_global_ns, self.user_ns)\n"
     ]
    }
   ],
   "source": [
    "df = pd.read_csv(\"../data/raw/other_data/sample_data.csv\")"
   ]
  },
  {
   "cell_type": "code",
   "execution_count": 3,
   "id": "0d0f7ca8-0bc2-476f-b5c9-b0e6f18763aa",
   "metadata": {},
   "outputs": [
    {
     "name": "stdout",
     "output_type": "stream",
     "text": [
      "<class 'pandas.core.frame.DataFrame'>\n",
      "RangeIndex: 1266440 entries, 0 to 1266439\n",
      "Data columns (total 26 columns):\n",
      " #   Column                 Non-Null Count    Dtype  \n",
      "---  ------                 --------------    -----  \n",
      " 0   vendor_id              1266440 non-null  int64  \n",
      " 1   tpep_pickup_datetime   1266440 non-null  object \n",
      " 2   tpep_dropoff_datetime  1266440 non-null  object \n",
      " 3   passenger_count        1259591 non-null  float64\n",
      " 4   trip_distance          1266440 non-null  float64\n",
      " 5   ratecode_id            1259591 non-null  float64\n",
      " 6   store_and_fwd_flag     1259591 non-null  object \n",
      " 7   pu_location_id         1266440 non-null  int64  \n",
      " 8   do_location_id         1266440 non-null  int64  \n",
      " 9   payment_type           1266440 non-null  int64  \n",
      " 10  fare_amount            1266440 non-null  float64\n",
      " 11  extra                  1266440 non-null  float64\n",
      " 12  mta_tax                1266440 non-null  float64\n",
      " 13  tip_amount             1266440 non-null  float64\n",
      " 14  tolls_amount           1266440 non-null  float64\n",
      " 15  improvement_surcharge  1266440 non-null  float64\n",
      " 16  total_amount           1266440 non-null  float64\n",
      " 17  congestion_surcharge   1186507 non-null  float64\n",
      " 18  pu_year                1266440 non-null  int64  \n",
      " 19  pu_day                 1266440 non-null  int64  \n",
      " 20  pu_month               1266440 non-null  int64  \n",
      " 21  pu_hour                1266440 non-null  int64  \n",
      " 22  is_weekend             1266440 non-null  int64  \n",
      " 23  is_weekday_peak_hour   1266440 non-null  int64  \n",
      " 24  trip_duration          1266440 non-null  int64  \n",
      " 25  is_school_holiday      1266440 non-null  int64  \n",
      "dtypes: float64(11), int64(12), object(3)\n",
      "memory usage: 251.2+ MB\n"
     ]
    }
   ],
   "source": [
    "df.info()"
   ]
  },
  {
   "cell_type": "code",
   "execution_count": 4,
   "id": "02e76c9a-d2f7-4880-b9cb-db03745aad3d",
   "metadata": {},
   "outputs": [
    {
     "data": {
      "text/html": [
       "<div>\n",
       "<style scoped>\n",
       "    .dataframe tbody tr th:only-of-type {\n",
       "        vertical-align: middle;\n",
       "    }\n",
       "\n",
       "    .dataframe tbody tr th {\n",
       "        vertical-align: top;\n",
       "    }\n",
       "\n",
       "    .dataframe thead th {\n",
       "        text-align: right;\n",
       "    }\n",
       "</style>\n",
       "<table border=\"1\" class=\"dataframe\">\n",
       "  <thead>\n",
       "    <tr style=\"text-align: right;\">\n",
       "      <th></th>\n",
       "      <th>passenger_count</th>\n",
       "      <th>trip_distance</th>\n",
       "      <th>fare_amount</th>\n",
       "      <th>trip_duration</th>\n",
       "    </tr>\n",
       "  </thead>\n",
       "  <tbody>\n",
       "    <tr>\n",
       "      <th>count</th>\n",
       "      <td>1.259591e+06</td>\n",
       "      <td>1.266440e+06</td>\n",
       "      <td>1.266440e+06</td>\n",
       "      <td>1.266440e+06</td>\n",
       "    </tr>\n",
       "    <tr>\n",
       "      <th>mean</th>\n",
       "      <td>1.562722e+00</td>\n",
       "      <td>3.008077e+00</td>\n",
       "      <td>1.347355e+01</td>\n",
       "      <td>1.082000e+03</td>\n",
       "    </tr>\n",
       "    <tr>\n",
       "      <th>std</th>\n",
       "      <td>1.208074e+00</td>\n",
       "      <td>3.927121e+00</td>\n",
       "      <td>1.355243e+02</td>\n",
       "      <td>4.218344e+03</td>\n",
       "    </tr>\n",
       "    <tr>\n",
       "      <th>min</th>\n",
       "      <td>0.000000e+00</td>\n",
       "      <td>-2.568000e+01</td>\n",
       "      <td>-2.540000e+02</td>\n",
       "      <td>-3.224000e+03</td>\n",
       "    </tr>\n",
       "    <tr>\n",
       "      <th>25%</th>\n",
       "      <td>1.000000e+00</td>\n",
       "      <td>9.800000e-01</td>\n",
       "      <td>6.500000e+00</td>\n",
       "      <td>4.040000e+02</td>\n",
       "    </tr>\n",
       "    <tr>\n",
       "      <th>50%</th>\n",
       "      <td>1.000000e+00</td>\n",
       "      <td>1.630000e+00</td>\n",
       "      <td>9.500000e+00</td>\n",
       "      <td>6.800000e+02</td>\n",
       "    </tr>\n",
       "    <tr>\n",
       "      <th>75%</th>\n",
       "      <td>2.000000e+00</td>\n",
       "      <td>3.060000e+00</td>\n",
       "      <td>1.500000e+01</td>\n",
       "      <td>1.120000e+03</td>\n",
       "    </tr>\n",
       "    <tr>\n",
       "      <th>max</th>\n",
       "      <td>9.000000e+00</td>\n",
       "      <td>1.335200e+02</td>\n",
       "      <td>1.509984e+05</td>\n",
       "      <td>2.662280e+05</td>\n",
       "    </tr>\n",
       "  </tbody>\n",
       "</table>\n",
       "</div>"
      ],
      "text/plain": [
       "       passenger_count  trip_distance   fare_amount  trip_duration\n",
       "count     1.259591e+06   1.266440e+06  1.266440e+06   1.266440e+06\n",
       "mean      1.562722e+00   3.008077e+00  1.347355e+01   1.082000e+03\n",
       "std       1.208074e+00   3.927121e+00  1.355243e+02   4.218344e+03\n",
       "min       0.000000e+00  -2.568000e+01 -2.540000e+02  -3.224000e+03\n",
       "25%       1.000000e+00   9.800000e-01  6.500000e+00   4.040000e+02\n",
       "50%       1.000000e+00   1.630000e+00  9.500000e+00   6.800000e+02\n",
       "75%       2.000000e+00   3.060000e+00  1.500000e+01   1.120000e+03\n",
       "max       9.000000e+00   1.335200e+02  1.509984e+05   2.662280e+05"
      ]
     },
     "execution_count": 4,
     "metadata": {},
     "output_type": "execute_result"
    }
   ],
   "source": [
    "col_interest = ['passenger_count', 'trip_distance', 'fare_amount', 'trip_duration']\n",
    "df[col_interest].describe()"
   ]
  },
  {
   "cell_type": "markdown",
   "id": "e691c16c-26db-44b0-8816-24776d39fc9a",
   "metadata": {},
   "source": [
    "Need to drop negative fare_amount, trip_duration, trip_distance data"
   ]
  },
  {
   "cell_type": "code",
   "execution_count": null,
   "id": "7ddee644-1dbc-428b-8539-ecd952a14fce",
   "metadata": {},
   "outputs": [],
   "source": [
    "ax = sns.boxplot(data=df_2, orient=\"h\", palette=\"Set2\")"
   ]
  }
 ],
 "metadata": {
  "kernelspec": {
   "display_name": "Python 3 (ipykernel)",
   "language": "python",
   "name": "python3"
  },
  "language_info": {
   "codemirror_mode": {
    "name": "ipython",
    "version": 3
   },
   "file_extension": ".py",
   "mimetype": "text/x-python",
   "name": "python",
   "nbconvert_exporter": "python",
   "pygments_lexer": "ipython3",
   "version": "3.9.7"
  }
 },
 "nbformat": 4,
 "nbformat_minor": 5
}
