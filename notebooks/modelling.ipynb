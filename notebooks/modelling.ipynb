{
 "cells": [
  {
   "cell_type": "markdown",
   "id": "e89470fc-7630-4b92-a750-39a96ec11687",
   "metadata": {},
   "source": [
    "# Statistical Modelling\n",
    "### Random Forest and CNN\n",
    "1. Feature Selection\n",
    "2. Use 2022 April as Test Data\n",
    "3. Modelling\n",
    "4. Hyper Parameter Tuning"
   ]
  },
  {
   "cell_type": "code",
   "execution_count": 1,
   "id": "2a7b0337-2981-435a-989c-bd315f5fb933",
   "metadata": {},
   "outputs": [],
   "source": [
    "from pyspark.sql.functions import to_timestamp, date_format, hour, dayofweek\n",
    "from pyspark.sql.functions import isnan, when, count, col, split, concat, lit\n",
    "from pyspark.sql.functions import to_date, create_map\n",
    "from itertools import chain\n",
    "from pyspark.sql import SparkSession, Window, functions as F\n",
    "import pandas as pd\n",
    "import numpy as np\n",
    "import seaborn as sns\n",
    "import geopandas as gpd\n",
    "from datetime import datetime\n",
    "import folium\n",
    "import matplotlib.pyplot as plt\n",
    "%matplotlib inline\n",
    "\n",
    "# statistical model\n",
    "from sklearn.ensemble import RandomForestRegressor\n",
    "from sklearn.datasets import make_regression\n",
    "from sklearn.preprocessing import StandardScaler\n",
    "from scipy.stats import zscore\n",
    "from statsmodels.formula.api import ols, glm\n",
    "\n",
    "import warnings\n",
    "warnings.filterwarnings(\"ignore\")"
   ]
  },
  {
   "cell_type": "code",
   "execution_count": 2,
   "id": "02ac1335-3ca7-4c8e-9184-ad8fed11f7b3",
   "metadata": {},
   "outputs": [],
   "source": [
    "# train data 2018-2019\n",
    "df = pd.read_parquet(\"../data/curated/merged_df.parquet\")\n",
    "df['pu_date'] = pd.to_datetime(df['pu_date'])\n",
    "df = df.sort_values(by=['pu_date', 'pu_hour']).reset_index(drop=True)\n",
    "\n",
    "df['pu_day'] = df['pu_date'].dt.day\n",
    "df['pu_month'] = df['pu_date'].dt.month\n",
    "df.drop('pu_date', axis=1, inplace=True)\n",
    "\n",
    "# test data Jan 2020\n",
    "df_test = pd.read_parquet(\"../data/curated/merged_test_df.parquet\")\n",
    "df_test['pu_date'] = pd.to_datetime(df_test['pu_date'])\n",
    "df_test = df_test.sort_values(by=['pu_date', 'pu_hour']).reset_index(drop=True)\n",
    "\n",
    "df_test['pu_day'] = df_test['pu_date'].dt.day\n",
    "df_test['pu_month'] = df_test['pu_date'].dt.month\n",
    "df_test.drop('pu_date', axis=1, inplace=True)"
   ]
  },
  {
   "cell_type": "markdown",
   "id": "68ba9c08-2bf4-4fc0-b999-605e720facc2",
   "metadata": {},
   "source": [
    "---\n",
    "## Standardize Data"
   ]
  },
  {
   "cell_type": "code",
   "execution_count": 3,
   "id": "535bbe47-88b7-4337-bd20-5c07cbc21d78",
   "metadata": {},
   "outputs": [
    {
     "data": {
      "text/html": [
       "<div>\n",
       "<style scoped>\n",
       "    .dataframe tbody tr th:only-of-type {\n",
       "        vertical-align: middle;\n",
       "    }\n",
       "\n",
       "    .dataframe tbody tr th {\n",
       "        vertical-align: top;\n",
       "    }\n",
       "\n",
       "    .dataframe thead th {\n",
       "        text-align: right;\n",
       "    }\n",
       "</style>\n",
       "<table border=\"1\" class=\"dataframe\">\n",
       "  <thead>\n",
       "    <tr style=\"text-align: right;\">\n",
       "      <th></th>\n",
       "      <th>pu_hour</th>\n",
       "      <th>pu_dow</th>\n",
       "      <th>is_school_holiday</th>\n",
       "      <th>trip_freq</th>\n",
       "      <th>temperature</th>\n",
       "      <th>dew_point</th>\n",
       "      <th>precipitation</th>\n",
       "      <th>wind_direction</th>\n",
       "      <th>visibility</th>\n",
       "      <th>pressure</th>\n",
       "      <th>pu_day</th>\n",
       "      <th>pu_month</th>\n",
       "    </tr>\n",
       "  </thead>\n",
       "  <tbody>\n",
       "    <tr>\n",
       "      <th>0</th>\n",
       "      <td>0</td>\n",
       "      <td>2</td>\n",
       "      <td>1</td>\n",
       "      <td>240</td>\n",
       "      <td>-114.3</td>\n",
       "      <td>-200.300000</td>\n",
       "      <td>0.0</td>\n",
       "      <td>315.000000</td>\n",
       "      <td>16046.5</td>\n",
       "      <td>10260.5</td>\n",
       "      <td>1</td>\n",
       "      <td>1</td>\n",
       "    </tr>\n",
       "    <tr>\n",
       "      <th>1</th>\n",
       "      <td>1</td>\n",
       "      <td>2</td>\n",
       "      <td>1</td>\n",
       "      <td>141</td>\n",
       "      <td>-117.5</td>\n",
       "      <td>-206.500000</td>\n",
       "      <td>0.0</td>\n",
       "      <td>330.000000</td>\n",
       "      <td>16093.0</td>\n",
       "      <td>10262.0</td>\n",
       "      <td>1</td>\n",
       "      <td>1</td>\n",
       "    </tr>\n",
       "    <tr>\n",
       "      <th>2</th>\n",
       "      <td>2</td>\n",
       "      <td>2</td>\n",
       "      <td>1</td>\n",
       "      <td>33</td>\n",
       "      <td>-122.5</td>\n",
       "      <td>-200.500000</td>\n",
       "      <td>0.0</td>\n",
       "      <td>310.000000</td>\n",
       "      <td>16093.0</td>\n",
       "      <td>10262.0</td>\n",
       "      <td>1</td>\n",
       "      <td>1</td>\n",
       "    </tr>\n",
       "    <tr>\n",
       "      <th>3</th>\n",
       "      <td>3</td>\n",
       "      <td>2</td>\n",
       "      <td>1</td>\n",
       "      <td>26</td>\n",
       "      <td>-122.3</td>\n",
       "      <td>-197.300000</td>\n",
       "      <td>0.0</td>\n",
       "      <td>310.000000</td>\n",
       "      <td>16046.5</td>\n",
       "      <td>10262.5</td>\n",
       "      <td>1</td>\n",
       "      <td>1</td>\n",
       "    </tr>\n",
       "    <tr>\n",
       "      <th>4</th>\n",
       "      <td>4</td>\n",
       "      <td>2</td>\n",
       "      <td>1</td>\n",
       "      <td>50</td>\n",
       "      <td>-124.5</td>\n",
       "      <td>-198.233333</td>\n",
       "      <td>0.0</td>\n",
       "      <td>316.666667</td>\n",
       "      <td>16093.0</td>\n",
       "      <td>10262.0</td>\n",
       "      <td>1</td>\n",
       "      <td>1</td>\n",
       "    </tr>\n",
       "  </tbody>\n",
       "</table>\n",
       "</div>"
      ],
      "text/plain": [
       "   pu_hour  pu_dow  is_school_holiday  trip_freq  temperature   dew_point  \\\n",
       "0        0       2                  1        240       -114.3 -200.300000   \n",
       "1        1       2                  1        141       -117.5 -206.500000   \n",
       "2        2       2                  1         33       -122.5 -200.500000   \n",
       "3        3       2                  1         26       -122.3 -197.300000   \n",
       "4        4       2                  1         50       -124.5 -198.233333   \n",
       "\n",
       "   precipitation  wind_direction  visibility  pressure  pu_day  pu_month  \n",
       "0            0.0      315.000000     16046.5   10260.5       1         1  \n",
       "1            0.0      330.000000     16093.0   10262.0       1         1  \n",
       "2            0.0      310.000000     16093.0   10262.0       1         1  \n",
       "3            0.0      310.000000     16046.5   10262.5       1         1  \n",
       "4            0.0      316.666667     16093.0   10262.0       1         1  "
      ]
     },
     "execution_count": 3,
     "metadata": {},
     "output_type": "execute_result"
    }
   ],
   "source": [
    "df.head()"
   ]
  },
  {
   "cell_type": "code",
   "execution_count": 4,
   "id": "a22c64aa-82f7-423b-8c9e-0153a6c808b6",
   "metadata": {},
   "outputs": [],
   "source": [
    "std_col = ['temperature', 'dew_point', 'precipitation', \n",
    "           'wind_direction', 'visibility', 'pressure']\n",
    "df_standard = df[std_col].astype(float).apply(zscore)\n",
    "\n",
    "df_test_standard = df_test[std_col].astype(float).apply(zscore)"
   ]
  },
  {
   "cell_type": "code",
   "execution_count": 5,
   "id": "3e787a48-0c7a-4481-8b5b-f4318faf639c",
   "metadata": {},
   "outputs": [
    {
     "data": {
      "text/plain": [
       "(744, 6)"
      ]
     },
     "execution_count": 5,
     "metadata": {},
     "output_type": "execute_result"
    }
   ],
   "source": [
    "df_test_standard.shape"
   ]
  },
  {
   "cell_type": "code",
   "execution_count": 6,
   "id": "e4909045-7ff4-4146-8a2b-bfbdba92485b",
   "metadata": {},
   "outputs": [
    {
     "data": {
      "text/plain": [
       "(17518, 6)"
      ]
     },
     "execution_count": 6,
     "metadata": {},
     "output_type": "execute_result"
    }
   ],
   "source": [
    "df_standard.shape"
   ]
  },
  {
   "cell_type": "code",
   "execution_count": 7,
   "id": "f861cc95-39fb-4ff5-9584-84a5049e7622",
   "metadata": {},
   "outputs": [
    {
     "data": {
      "text/html": [
       "<div>\n",
       "<style scoped>\n",
       "    .dataframe tbody tr th:only-of-type {\n",
       "        vertical-align: middle;\n",
       "    }\n",
       "\n",
       "    .dataframe tbody tr th {\n",
       "        vertical-align: top;\n",
       "    }\n",
       "\n",
       "    .dataframe thead th {\n",
       "        text-align: right;\n",
       "    }\n",
       "</style>\n",
       "<table border=\"1\" class=\"dataframe\">\n",
       "  <thead>\n",
       "    <tr style=\"text-align: right;\">\n",
       "      <th></th>\n",
       "      <th>temperature</th>\n",
       "      <th>dew_point</th>\n",
       "      <th>precipitation</th>\n",
       "      <th>wind_direction</th>\n",
       "      <th>visibility</th>\n",
       "      <th>pressure</th>\n",
       "    </tr>\n",
       "  </thead>\n",
       "  <tbody>\n",
       "    <tr>\n",
       "      <th>mean</th>\n",
       "      <td>4.964823e-16</td>\n",
       "      <td>-6.691822e-16</td>\n",
       "      <td>-4.015543e-16</td>\n",
       "      <td>-6.655729e-16</td>\n",
       "      <td>1.995017e-16</td>\n",
       "      <td>-5.256213e-15</td>\n",
       "    </tr>\n",
       "    <tr>\n",
       "      <th>std</th>\n",
       "      <td>1.000029e+00</td>\n",
       "      <td>1.000029e+00</td>\n",
       "      <td>1.000029e+00</td>\n",
       "      <td>1.000029e+00</td>\n",
       "      <td>1.000029e+00</td>\n",
       "      <td>1.000029e+00</td>\n",
       "    </tr>\n",
       "  </tbody>\n",
       "</table>\n",
       "</div>"
      ],
      "text/plain": [
       "       temperature     dew_point  precipitation  wind_direction    visibility  \\\n",
       "mean  4.964823e-16 -6.691822e-16  -4.015543e-16   -6.655729e-16  1.995017e-16   \n",
       "std   1.000029e+00  1.000029e+00   1.000029e+00    1.000029e+00  1.000029e+00   \n",
       "\n",
       "          pressure  \n",
       "mean -5.256213e-15  \n",
       "std   1.000029e+00  "
      ]
     },
     "execution_count": 7,
     "metadata": {},
     "output_type": "execute_result"
    }
   ],
   "source": [
    "df_standard.describe().loc[['mean','std']]"
   ]
  },
  {
   "cell_type": "code",
   "execution_count": 8,
   "id": "58f2a64c-ad92-492e-9b8c-788fdbcfba17",
   "metadata": {},
   "outputs": [
    {
     "data": {
      "text/html": [
       "<div>\n",
       "<style scoped>\n",
       "    .dataframe tbody tr th:only-of-type {\n",
       "        vertical-align: middle;\n",
       "    }\n",
       "\n",
       "    .dataframe tbody tr th {\n",
       "        vertical-align: top;\n",
       "    }\n",
       "\n",
       "    .dataframe thead th {\n",
       "        text-align: right;\n",
       "    }\n",
       "</style>\n",
       "<table border=\"1\" class=\"dataframe\">\n",
       "  <thead>\n",
       "    <tr style=\"text-align: right;\">\n",
       "      <th></th>\n",
       "      <th>temperature</th>\n",
       "      <th>dew_point</th>\n",
       "      <th>precipitation</th>\n",
       "      <th>wind_direction</th>\n",
       "      <th>visibility</th>\n",
       "      <th>pressure</th>\n",
       "    </tr>\n",
       "  </thead>\n",
       "  <tbody>\n",
       "    <tr>\n",
       "      <th>0</th>\n",
       "      <td>-2.482008</td>\n",
       "      <td>-2.431581</td>\n",
       "      <td>-0.213048</td>\n",
       "      <td>1.203785</td>\n",
       "      <td>0.373931</td>\n",
       "      <td>1.119520</td>\n",
       "    </tr>\n",
       "    <tr>\n",
       "      <th>1</th>\n",
       "      <td>-2.515051</td>\n",
       "      <td>-2.486621</td>\n",
       "      <td>-0.213048</td>\n",
       "      <td>1.355128</td>\n",
       "      <td>0.386613</td>\n",
       "      <td>1.137956</td>\n",
       "    </tr>\n",
       "    <tr>\n",
       "      <th>2</th>\n",
       "      <td>-2.566679</td>\n",
       "      <td>-2.433356</td>\n",
       "      <td>-0.213048</td>\n",
       "      <td>1.153337</td>\n",
       "      <td>0.386613</td>\n",
       "      <td>1.137956</td>\n",
       "    </tr>\n",
       "    <tr>\n",
       "      <th>3</th>\n",
       "      <td>-2.564614</td>\n",
       "      <td>-2.404948</td>\n",
       "      <td>-0.213048</td>\n",
       "      <td>1.153337</td>\n",
       "      <td>0.373931</td>\n",
       "      <td>1.144101</td>\n",
       "    </tr>\n",
       "    <tr>\n",
       "      <th>4</th>\n",
       "      <td>-2.587330</td>\n",
       "      <td>-2.413234</td>\n",
       "      <td>-0.213048</td>\n",
       "      <td>1.220601</td>\n",
       "      <td>0.386613</td>\n",
       "      <td>1.137956</td>\n",
       "    </tr>\n",
       "  </tbody>\n",
       "</table>\n",
       "</div>"
      ],
      "text/plain": [
       "   temperature  dew_point  precipitation  wind_direction  visibility  pressure\n",
       "0    -2.482008  -2.431581      -0.213048        1.203785    0.373931  1.119520\n",
       "1    -2.515051  -2.486621      -0.213048        1.355128    0.386613  1.137956\n",
       "2    -2.566679  -2.433356      -0.213048        1.153337    0.386613  1.137956\n",
       "3    -2.564614  -2.404948      -0.213048        1.153337    0.373931  1.144101\n",
       "4    -2.587330  -2.413234      -0.213048        1.220601    0.386613  1.137956"
      ]
     },
     "execution_count": 8,
     "metadata": {},
     "output_type": "execute_result"
    }
   ],
   "source": [
    "df_standard.head()"
   ]
  },
  {
   "cell_type": "code",
   "execution_count": 9,
   "id": "73e4eb48-31c7-4885-9ddb-a5d6fc787090",
   "metadata": {},
   "outputs": [
    {
     "data": {
      "image/png": "[encoded data removed]",
      "text/plain": [
       "<Figure size 864x504 with 2 Axes>"
      ]
     },
     "metadata": {
      "needs_background": "light"
     },
     "output_type": "display_data"
    }
   ],
   "source": [
    "plt.figure(figsize=(12,7))\n",
    "sns.heatmap(pd.concat([df_standard, df[['trip_freq']]], axis=1).corr(), vmin=-1, vmax=1, annot=True, cmap='BrBG')\n",
    "\n",
    "plt.title('Pearson Correlation Metric')\n",
    "plt.show()"
   ]
  },
  {
   "cell_type": "code",
   "execution_count": 10,
   "id": "42ad912d-7459-4763-b09e-d3f1087c5bdf",
   "metadata": {},
   "outputs": [],
   "source": [
    "df_fit = pd.concat([df_standard, df[['trip_freq']]], axis=1)\n",
    "# let's try another model with all weather features\n",
    "fit = ols(\n",
    "    formula=\"trip_freq ~ temperature + dew_point + precipitation + wind_direction + visibility + pressure\",\n",
    "    data=df_fit\n",
    ").fit()"
   ]
  },
  {
   "cell_type": "code",
   "execution_count": 11,
   "id": "25d39b73-1bd8-444e-8bda-5f068849cbb0",
   "metadata": {},
   "outputs": [],
   "source": [
    "# let's try another model without dew_point\n",
    "fitter = ols(\n",
    "    formula=\"trip_freq ~ temperature + precipitation + wind_direction + visibility + pressure\",\n",
    "    data=df_fit\n",
    ").fit()"
   ]
  },
  {
   "cell_type": "code",
   "execution_count": 12,
   "id": "a8d28897-98e9-4449-8999-63f1f78f328d",
   "metadata": {},
   "outputs": [],
   "source": [
    "# let's try another model without temperature\n",
    "fitter1 = ols(\n",
    "    formula=\"trip_freq ~ dew_point + precipitation + wind_direction + visibility + pressure\",\n",
    "    data=df_fit\n",
    ").fit()"
   ]
  },
  {
   "cell_type": "code",
   "execution_count": 13,
   "id": "2cdeefe8-4b0d-469a-8076-a3a55d3aff40",
   "metadata": {},
   "outputs": [
    {
     "data": {
      "text/plain": [
       "(252980.61726486217, 254391.3041391059, 254699.9893976533)"
      ]
     },
     "execution_count": 13,
     "metadata": {},
     "output_type": "execute_result"
    }
   ],
   "source": [
    "fit.aic, fitter.aic, fitter1.aic"
   ]
  },
  {
   "cell_type": "markdown",
   "id": "1c6a4a57-4ced-4a10-8119-a2375baba73c",
   "metadata": {},
   "source": [
    "As Temperature and Dew point are very highly correlated, it is as expected that we should remove one of them to minimise complexity in the model. Using the AIC score, it is obvious that the model without dew_point has the lowest AIC. Hence, moving forward we will remove this feature.\n"
   ]
  },
  {
   "cell_type": "code",
   "execution_count": 14,
   "id": "437bfd1a-5973-4769-9ca1-dd41966573c8",
   "metadata": {},
   "outputs": [],
   "source": [
    "valid_col = [\"temperature\", \"precipitation\", \"wind_direction\", \"visibility\", \"pressure\"]\n",
    "df_standard = df_standard[valid_col]\n",
    "df_test_standard = df_test_standard[valid_col]"
   ]
  },
  {
   "cell_type": "markdown",
   "id": "25045184-04ce-4fbf-87c9-3e2190fa7576",
   "metadata": {},
   "source": [
    "---\n",
    "## One-hot encode categorical variable"
   ]
  },
  {
   "cell_type": "code",
   "execution_count": 15,
   "id": "dbcbc1b6-0029-4309-aefc-57e4a46b2c00",
   "metadata": {},
   "outputs": [],
   "source": [
    "x_col = ['pu_hour', 'pu_dow', 'pu_day', 'pu_month']\n",
    "\n",
    "enc = pd.get_dummies(df['pu_hour'], prefix='pu_hour')\n",
    "for feature in x_col[1:]:\n",
    "    df_feat = pd.get_dummies(df[feature], prefix=feature)\n",
    "    enc = pd.concat([enc, df_feat], axis=1)\n",
    "\n",
    "test_enc = pd.get_dummies(df_test['pu_hour'], prefix='pu_hour')\n",
    "for feature in x_col[1:]:\n",
    "    df_feat = pd.get_dummies(df_test[feature], prefix=feature)\n",
    "    test_enc = pd.concat([test_enc, df_feat], axis=1)\n",
    "for m in range(2, 13):\n",
    "    test_enc[f'pu_month_{str(m)}'] = 0\n"
   ]
  },
  {
   "cell_type": "code",
   "execution_count": 16,
   "id": "a2a4386d-73d6-41d6-b9dd-4e8a631d5c9d",
   "metadata": {},
   "outputs": [
    {
     "data": {
      "text/plain": [
       "(17518, 74)"
      ]
     },
     "execution_count": 16,
     "metadata": {},
     "output_type": "execute_result"
    }
   ],
   "source": [
    "enc.shape"
   ]
  },
  {
   "cell_type": "code",
   "execution_count": 17,
   "id": "9d6da52a-2420-4cd5-a02d-202f9c3d18b4",
   "metadata": {},
   "outputs": [
    {
     "data": {
      "text/plain": [
       "(744, 74)"
      ]
     },
     "execution_count": 17,
     "metadata": {},
     "output_type": "execute_result"
    }
   ],
   "source": [
    "test_enc.shape"
   ]
  },
  {
   "cell_type": "code",
   "execution_count": 18,
   "id": "d92a6b27-2604-467e-8634-815c395b7ec3",
   "metadata": {},
   "outputs": [
    {
     "data": {
      "text/plain": [
       "Index(['pu_hour_0', 'pu_hour_1', 'pu_hour_2', 'pu_hour_3', 'pu_hour_4',\n",
       "       'pu_hour_5', 'pu_hour_6', 'pu_hour_7', 'pu_hour_8', 'pu_hour_9',\n",
       "       'pu_hour_10', 'pu_hour_11', 'pu_hour_12', 'pu_hour_13', 'pu_hour_14',\n",
       "       'pu_hour_15', 'pu_hour_16', 'pu_hour_17', 'pu_hour_18', 'pu_hour_19',\n",
       "       'pu_hour_20', 'pu_hour_21', 'pu_hour_22', 'pu_hour_23', 'pu_dow_1',\n",
       "       'pu_dow_2', 'pu_dow_3', 'pu_dow_4', 'pu_dow_5', 'pu_dow_6', 'pu_dow_7',\n",
       "       'pu_day_1', 'pu_day_2', 'pu_day_3', 'pu_day_4', 'pu_day_5', 'pu_day_6',\n",
       "       'pu_day_7', 'pu_day_8', 'pu_day_9', 'pu_day_10', 'pu_day_11',\n",
       "       'pu_day_12', 'pu_day_13', 'pu_day_14', 'pu_day_15', 'pu_day_16',\n",
       "       'pu_day_17', 'pu_day_18', 'pu_day_19', 'pu_day_20', 'pu_day_21',\n",
       "       'pu_day_22', 'pu_day_23', 'pu_day_24', 'pu_day_25', 'pu_day_26',\n",
       "       'pu_day_27', 'pu_day_28', 'pu_day_29', 'pu_day_30', 'pu_day_31',\n",
       "       'pu_month_1', 'pu_month_2', 'pu_month_3', 'pu_month_4', 'pu_month_5',\n",
       "       'pu_month_6', 'pu_month_7', 'pu_month_8', 'pu_month_9', 'pu_month_10',\n",
       "       'pu_month_11', 'pu_month_12'],\n",
       "      dtype='object')"
      ]
     },
     "execution_count": 18,
     "metadata": {},
     "output_type": "execute_result"
    }
   ],
   "source": [
    "test_enc.columns"
   ]
  },
  {
   "cell_type": "code",
   "execution_count": 19,
   "id": "cee63467-c967-4a25-951c-158e8d5240df",
   "metadata": {},
   "outputs": [
    {
     "data": {
      "text/plain": [
       "Index(['pu_hour_0', 'pu_hour_1', 'pu_hour_2', 'pu_hour_3', 'pu_hour_4',\n",
       "       'pu_hour_5', 'pu_hour_6', 'pu_hour_7', 'pu_hour_8', 'pu_hour_9',\n",
       "       'pu_hour_10', 'pu_hour_11', 'pu_hour_12', 'pu_hour_13', 'pu_hour_14',\n",
       "       'pu_hour_15', 'pu_hour_16', 'pu_hour_17', 'pu_hour_18', 'pu_hour_19',\n",
       "       'pu_hour_20', 'pu_hour_21', 'pu_hour_22', 'pu_hour_23', 'pu_dow_1',\n",
       "       'pu_dow_2', 'pu_dow_3', 'pu_dow_4', 'pu_dow_5', 'pu_dow_6', 'pu_dow_7',\n",
       "       'pu_day_1', 'pu_day_2', 'pu_day_3', 'pu_day_4', 'pu_day_5', 'pu_day_6',\n",
       "       'pu_day_7', 'pu_day_8', 'pu_day_9', 'pu_day_10', 'pu_day_11',\n",
       "       'pu_day_12', 'pu_day_13', 'pu_day_14', 'pu_day_15', 'pu_day_16',\n",
       "       'pu_day_17', 'pu_day_18', 'pu_day_19', 'pu_day_20', 'pu_day_21',\n",
       "       'pu_day_22', 'pu_day_23', 'pu_day_24', 'pu_day_25', 'pu_day_26',\n",
       "       'pu_day_27', 'pu_day_28', 'pu_day_29', 'pu_day_30', 'pu_day_31',\n",
       "       'pu_month_1', 'pu_month_2', 'pu_month_3', 'pu_month_4', 'pu_month_5',\n",
       "       'pu_month_6', 'pu_month_7', 'pu_month_8', 'pu_month_9', 'pu_month_10',\n",
       "       'pu_month_11', 'pu_month_12'],\n",
       "      dtype='object')"
      ]
     },
     "execution_count": 19,
     "metadata": {},
     "output_type": "execute_result"
    }
   ],
   "source": [
    "enc.columns"
   ]
  },
  {
   "cell_type": "markdown",
   "id": "8db954e5-3f52-4341-a500-d95af5b2c9f6",
   "metadata": {},
   "source": [
    "---\n",
    "### Combine the standardized continuous features and one-hot encoded ordinal features into one dataframe"
   ]
  },
  {
   "cell_type": "code",
   "execution_count": 20,
   "id": "305c5358-24c2-43e6-a7de-e471ba5715d7",
   "metadata": {},
   "outputs": [
    {
     "name": "stdout",
     "output_type": "stream",
     "text": [
      "<class 'pandas.core.frame.DataFrame'>\n",
      "RangeIndex: 17518 entries, 0 to 17517\n",
      "Data columns (total 12 columns):\n",
      " #   Column             Non-Null Count  Dtype  \n",
      "---  ------             --------------  -----  \n",
      " 0   pu_hour            17518 non-null  int32  \n",
      " 1   pu_dow             17518 non-null  int32  \n",
      " 2   is_school_holiday  17518 non-null  int32  \n",
      " 3   trip_freq          17518 non-null  int64  \n",
      " 4   temperature        17518 non-null  float64\n",
      " 5   dew_point          17518 non-null  float64\n",
      " 6   precipitation      17518 non-null  float64\n",
      " 7   wind_direction     17518 non-null  float64\n",
      " 8   visibility         17518 non-null  float64\n",
      " 9   pressure           17518 non-null  float64\n",
      " 10  pu_day             17518 non-null  int64  \n",
      " 11  pu_month           17518 non-null  int64  \n",
      "dtypes: float64(6), int32(3), int64(3)\n",
      "memory usage: 1.4 MB\n"
     ]
    }
   ],
   "source": [
    "df.info()"
   ]
  },
  {
   "cell_type": "code",
   "execution_count": 21,
   "id": "bd3a30c1-846e-4be1-b486-54ced40b9ec0",
   "metadata": {},
   "outputs": [],
   "source": [
    "X_train = pd.concat([df_standard, enc, df[['is_school_holiday']]], axis=1)\n",
    "X_test = pd.concat([df_test_standard, test_enc, df_test[['is_school_holiday']]]\n",
    "                   , axis=1)"
   ]
  },
  {
   "cell_type": "code",
   "execution_count": 22,
   "id": "90aac287-2578-4323-bf37-b127091b1c86",
   "metadata": {},
   "outputs": [
    {
     "data": {
      "text/plain": [
       "((17518, 80), (744, 80))"
      ]
     },
     "execution_count": 22,
     "metadata": {},
     "output_type": "execute_result"
    }
   ],
   "source": [
    "X_train.shape, X_test.shape"
   ]
  },
  {
   "cell_type": "code",
   "execution_count": 23,
   "id": "fa1869d7-cfba-4777-91c7-c3e610e6508b",
   "metadata": {},
   "outputs": [],
   "source": [
    "scaler_y_train = StandardScaler().fit(df[['trip_freq']])\n",
    "y_train = np.ravel(scaler_y_train.transform(df[['trip_freq']]))\n",
    "\n",
    "scaler_y_test = StandardScaler().fit(df_test[['trip_freq']])\n",
    "y_test = np.ravel(scaler_y_test.transform(df_test[['trip_freq']]))\n"
   ]
  },
  {
   "cell_type": "markdown",
   "id": "31cd7985-ad8d-46b7-9673-9b7f8fb4b1d5",
   "metadata": {},
   "source": [
    "---\n",
    "# Logistic Regression (base model)"
   ]
  },
  {
   "cell_type": "code",
   "execution_count": null,
   "id": "b667d627-b943-42a0-9a62-903580c33b95",
   "metadata": {},
   "outputs": [],
   "source": []
  },
  {
   "cell_type": "code",
   "execution_count": null,
   "id": "c3633cc7-bd5a-41b2-942f-9c260ff6abf1",
   "metadata": {},
   "outputs": [],
   "source": []
  },
  {
   "cell_type": "code",
   "execution_count": null,
   "id": "15eca402-e97c-4c4b-aa14-231382ce6aa1",
   "metadata": {},
   "outputs": [],
   "source": []
  },
  {
   "cell_type": "code",
   "execution_count": null,
   "id": "911e86c9-244a-45ba-961a-b1ad6eb76c63",
   "metadata": {},
   "outputs": [],
   "source": []
  },
  {
   "cell_type": "code",
   "execution_count": null,
   "id": "2ee2e20e-38df-4f47-9584-5ffb489b3f29",
   "metadata": {},
   "outputs": [],
   "source": []
  },
  {
   "cell_type": "code",
   "execution_count": null,
   "id": "d6ed0e68-161a-4185-b1c3-5d170edd59c1",
   "metadata": {},
   "outputs": [],
   "source": []
  },
  {
   "cell_type": "markdown",
   "id": "fa90dd89-8b77-4801-8814-b0497dedd5bf",
   "metadata": {},
   "source": [
    "---\n",
    "# Random Forest Modelling\n",
    "Use Random Forest as it is able to capture complex decision boundaries relationship between features."
   ]
  },
  {
   "cell_type": "markdown",
   "id": "25885bc3-951a-4bf0-8e43-9b8feb39dc08",
   "metadata": {},
   "source": [
    "### Hyperparameter Tuning (max_feature and n_estimator)"
   ]
  },
  {
   "cell_type": "code",
   "execution_count": 81,
   "id": "e4a5ee04-1f02-408c-b447-ddd6719056c5",
   "metadata": {},
   "outputs": [
    {
     "name": "stdout",
     "output_type": "stream",
     "text": [
      "max_feature = sqrt: \t 0.8297925493735934\n",
      "max_feature = log2: \t 0.8238667661334537\n",
      "max_feature = None: \t 0.8121274773129613\n",
      "max_feature = 20: \t 0.8260103457111689\n",
      "max_feature = 50: \t 0.8156384064702664\n"
     ]
    }
   ],
   "source": [
    "for mf in (\"sqrt\", \"log2\", None):\n",
    "    rf = RandomForestRegressor(random_state = 42, max_features=mf)\n",
    "    r2_cv = cross_val_score(rf, X_train, y_train, cv=5, scoring='r2')\n",
    "    print(f\"max_feature = {mf}: \\t\", np.mean(r2_cv))"
   ]
  },
  {
   "cell_type": "markdown",
   "id": "bf81a491-a0ee-46e4-8851-54ad109b6ec0",
   "metadata": {},
   "source": [
    "When max_feature = sqrt, the model has best r2 score. This shows how much data, the model can understand."
   ]
  },
  {
   "cell_type": "code",
   "execution_count": 84,
   "id": "35eca81c-6c29-46ed-96b1-9f2ae48a0e9e",
   "metadata": {},
   "outputs": [
    {
     "name": "stdout",
     "output_type": "stream",
     "text": [
      "n_estimators = 10: \t 0.8090362167047231\n",
      "n_estimators = 100: \t 0.8297925493735934\n",
      "n_estimators = 300: \t 0.8307275345023533\n",
      "n_estimators = 500: \t 0.8310377006235043\n",
      "n_estimators = 800: \t 0.8310738299222729\n",
      "n_estimators = 1000: \t 0.8311210047557747\n"
     ]
    }
   ],
   "source": [
    "for n_est in (10, 100, 300, 500, 800, 1000):\n",
    "    rf = RandomForestRegressor(n_estimators=n_est, random_state = 42, max_features='sqrt')\n",
    "    r2_cv = cross_val_score(rf, X_train, y_train, cv=5, scoring='r2')\n",
    "    print(f\"n_estimators = {n_est}: \\t\", np.mean(r2_cv))"
   ]
  },
  {
   "cell_type": "markdown",
   "id": "bcc6822c-8d6b-429e-8f30-c27ede3b5fa3",
   "metadata": {},
   "source": [
    "When n_estimators = 1000, the model has best r2 score. But, if we look deeper, the increase in r2 score is not that significant after n_estimator = 500. So we pick n_estimator = 500."
   ]
  },
  {
   "cell_type": "code",
   "execution_count": 92,
   "id": "cb388d3c-dddf-43c6-9d6c-da2e7e5d4634",
   "metadata": {},
   "outputs": [],
   "source": [
    "from sklearn.metrics import r2_score, explained_variance_score, mean_absolute_percentage_error\n",
    "from sklearn.metrics import mean_squared_error, mean_absolute_error\n",
    "from sklearn.model_selection import cross_val_score"
   ]
  },
  {
   "cell_type": "code",
   "execution_count": 86,
   "id": "b63b738e-f284-4db9-94b2-3a70d7b6ba68",
   "metadata": {},
   "outputs": [
    {
     "data": {
      "text/plain": [
       "RandomForestRegressor(max_features='sqrt', n_estimators=500, random_state=42)"
      ]
     },
     "execution_count": 86,
     "metadata": {},
     "output_type": "execute_result"
    }
   ],
   "source": [
    "rf = RandomForestRegressor(n_estimators = 500, max_features='sqrt', random_state = 42)\n",
    "rf.fit(X_train, y_train)"
   ]
  },
  {
   "cell_type": "markdown",
   "id": "c768640b-af74-444f-b0c6-6a3a86944b32",
   "metadata": {},
   "source": [
    "### Prediction"
   ]
  },
  {
   "cell_type": "code",
   "execution_count": 87,
   "id": "8eaf8ef4-9ef0-4dd8-a798-f1d2507feeb6",
   "metadata": {},
   "outputs": [],
   "source": [
    "predictions = rf.predict(X_test)"
   ]
  },
  {
   "cell_type": "code",
   "execution_count": 88,
   "id": "1665890a-9af9-4562-b6ca-1a9585de423a",
   "metadata": {},
   "outputs": [],
   "source": [
    "errors = abs(predictions - y_test)"
   ]
  },
  {
   "cell_type": "code",
   "execution_count": 126,
   "id": "5e1819c9-ef31-42e2-ba37-9b8e6a3362e6",
   "metadata": {},
   "outputs": [
    {
     "name": "stdout",
     "output_type": "stream",
     "text": [
      "Mean Absolute Error: 0.27\n",
      "Accuracy: 88.94\n",
      "R^2 Score: 0.87\n"
     ]
    }
   ],
   "source": [
    "errors = abs(predictions - y_test)\n",
    "mae = round(np.mean(errors), 2)\n",
    "mape = np.mean(100 * (errors / y_test))\n",
    "accuracy = round(100 - mape, 2)\n",
    "r2 = round(r2_score(y_test, predictions), 2)\n",
    "\n",
    "print('Mean Absolute Error:', mae)\n",
    "print('Accuracy:', accuracy)\n",
    "print('R^2 Score:', r2)\n"
   ]
  },
  {
   "cell_type": "markdown",
   "id": "83e32136-25b9-445e-8e42-212e4e236244",
   "metadata": {},
   "source": [
    "### Prediction vs Actual Visualization"
   ]
  },
  {
   "cell_type": "code",
   "execution_count": 127,
   "id": "9c36e254-4b41-4258-8758-8e29c9673994",
   "metadata": {},
   "outputs": [],
   "source": [
    "y_pred = pd.DataFrame({'pred_trip_freq':predictions})"
   ]
  },
  {
   "cell_type": "code",
   "execution_count": 128,
   "id": "f4e0a0f1-6965-4778-8656-420828f86f85",
   "metadata": {},
   "outputs": [],
   "source": [
    "y_pred_actual = np.ravel(scaler_y_test.inverse_transform(y_pred))"
   ]
  },
  {
   "cell_type": "code",
   "execution_count": 132,
   "id": "19fc0bfe-a818-4a36-b2a1-aaf5005fd0b6",
   "metadata": {},
   "outputs": [
    {
     "data": {
      "image/png": "[encoded data removed]",
      "text/plain": [
       "<Figure size 1440x504 with 1 Axes>"
      ]
     },
     "metadata": {
      "needs_background": "light"
     },
     "output_type": "display_data"
    }
   ],
   "source": [
    "df1 = pd.DataFrame({'trip_freq':y_pred_actual})\n",
    "df1['pu_hour'] = df_test['pu_hour']\n",
    "df1['pu_day'] = df_test['pu_day']\n",
    "df1['pred/act'] = 'Prediction'\n",
    "\n",
    "df2 = df_test[['pu_hour', 'pu_day', 'trip_freq']]\n",
    "df2['pred/act'] = 'Actual'\n",
    "\n",
    "df_visualise = pd.concat([df1, df2],axis=0)\n",
    "\n",
    "plt.figure(figsize=(20, 7))\n",
    "sns.barplot(\n",
    "    x=\"pu_hour\", y=\"trip_freq\", hue=\"pred/act\", data=df_visualise, ci=95, \n",
    "    palette=\"Paired\"\n",
    ")\n",
    "plt.xlabel(\"Hour\")\n",
    "plt.ylabel(\"Trip Frequency\")\n",
    "plt.title(\"Random Forest Predicted Demand vs Actual\")\n",
    "plt.show()\n",
    "\n"
   ]
  },
  {
   "cell_type": "markdown",
   "id": "4e380a17-6410-45fc-a6a2-8e04fb6f7bf8",
   "metadata": {},
   "source": [
    "Interestingly, the model is very optimistic during the morning peaks, and appears to have become more pessimistic after noon."
   ]
  },
  {
   "cell_type": "code",
   "execution_count": 130,
   "id": "a4640262-b5c8-4ad1-9ca4-3c7b40b9f763",
   "metadata": {},
   "outputs": [
    {
     "data": {
      "image/png": "[encoded data removed]",
      "text/plain": [
       "<Figure size 1440x504 with 1 Axes>"
      ]
     },
     "metadata": {
      "needs_background": "light"
     },
     "output_type": "display_data"
    }
   ],
   "source": [
    "plt.figure(figsize=(20,7))\n",
    "sns.barplot(\n",
    "    x=\"pu_day\", y=\"trip_freq\", hue=\"pred/act\", data=df_visualise, ci=None,\n",
    "    palette=\"Paired\"\n",
    ")\n",
    "plt.xlabel(\"Day\")\n",
    "plt.ylabel(\"Trip Frequency\")\n",
    "plt.title(\"Random Forest Predicted Demand vs Actual for Jan-2020\")\n",
    "plt.show()"
   ]
  },
  {
   "cell_type": "code",
   "execution_count": 131,
   "id": "b64e904c-7deb-4c84-99e1-44ad1fe0eecf",
   "metadata": {},
   "outputs": [
    {
     "data": {
      "image/png": "[encoded data removed]",
      "text/plain": [
       "<Figure size 1080x360 with 1 Axes>"
      ]
     },
     "metadata": {
      "needs_background": "light"
     },
     "output_type": "display_data"
    }
   ],
   "source": [
    "# Get numerical feature importances\n",
    "importances = list(rf.feature_importances_)\n",
    "df_imp = (pd.DataFrame({'feature':X_train.columns.tolist(), 'importances':importances})\n",
    "            .sort_values(by='importances', ascending=False).reset_index(drop=True))\n",
    "\n",
    "df_imp_top30 = df_imp[:30]\n",
    "plt.figure(figsize=(15,5))\n",
    "plt.bar('feature', 'importances', orientation = 'vertical', data=df_imp_top30)\n",
    "plt.xticks(rotation=45, ha=\"right\")\n",
    "plt.xlabel(\"\")\n",
    "plt.ylabel(\"Importance Value\")\n",
    "plt.title(\"Most important feature for the Random Forest Model\")\n",
    "plt.show()"
   ]
  },
  {
   "cell_type": "code",
   "execution_count": null,
   "id": "16636ee1-5a0b-4bed-ab1f-a42926a27214",
   "metadata": {},
   "outputs": [],
   "source": []
  }
 ],
 "metadata": {
  "kernelspec": {
   "display_name": "Python 3 (ipykernel)",
   "language": "python",
   "name": "python3"
  },
  "language_info": {
   "codemirror_mode": {
    "name": "ipython",
    "version": 3
   },
   "file_extension": ".py",
   "mimetype": "text/x-python",
   "name": "python",
   "nbconvert_exporter": "python",
   "pygments_lexer": "ipython3",
   "version": "3.9.7"
  }
 },
 "nbformat": 4,
 "nbformat_minor": 5
}
