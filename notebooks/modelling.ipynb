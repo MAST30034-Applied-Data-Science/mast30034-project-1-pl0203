{
 "cells": [
  {
   "cell_type": "markdown",
   "id": "e89470fc-7630-4b92-a750-39a96ec11687",
   "metadata": {},
   "source": [
    "# Statistical Modelling\n",
    "### Random Forest and CNN\n",
    "1. Feature Selection\n",
    "2. Use 2022 April as Test Data\n",
    "3. Modelling\n",
    "4. Hyper Parameter Tuning"
   ]
  },
  {
   "cell_type": "code",
   "execution_count": null,
   "id": "f7b5710a-8890-43c9-a365-4f654e81bbec",
   "metadata": {},
   "outputs": [],
   "source": []
  },
  {
   "cell_type": "code",
   "execution_count": null,
   "id": "d15c9b72-168d-4207-ad72-17d32c904b9c",
   "metadata": {},
   "outputs": [],
   "source": []
  },
  {
   "cell_type": "code",
   "execution_count": null,
   "id": "a4196a0a-65b7-4f8e-9d9b-1412126cbd09",
   "metadata": {},
   "outputs": [],
   "source": []
  },
  {
   "cell_type": "code",
   "execution_count": null,
   "id": "8eaf8ef4-9ef0-4dd8-a798-f1d2507feeb6",
   "metadata": {},
   "outputs": [],
   "source": []
  }
 ],
 "metadata": {
  "kernelspec": {
   "display_name": "Python 3 (ipykernel)",
   "language": "python",
   "name": "python3"
  },
  "language_info": {
   "codemirror_mode": {
    "name": "ipython",
    "version": 3
   },
   "file_extension": ".py",
   "mimetype": "text/x-python",
   "name": "python",
   "nbconvert_exporter": "python",
   "pygments_lexer": "ipython3",
   "version": "3.9.7"
  }
 },
 "nbformat": 4,
 "nbformat_minor": 5
}
